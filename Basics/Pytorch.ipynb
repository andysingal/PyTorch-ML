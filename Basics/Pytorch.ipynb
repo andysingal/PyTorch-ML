{
  "nbformat": 4,
  "nbformat_minor": 0,
  "metadata": {
    "colab": {
      "name": "Pytorch.ipynb",
      "version": "0.3.2",
      "provenance": [],
      "collapsed_sections": []
    },
    "kernelspec": {
      "name": "python3",
      "display_name": "Python 3"
    },
    "accelerator": "GPU"
  },
  "cells": [
    {
      "cell_type": "code",
      "metadata": {
        "id": "xZ0x5_whJtpw",
        "colab_type": "code",
        "colab": {}
      },
      "source": [
        "#torch.tensor() -constructor\n",
        "import torch\n",
        "import numpy as np"
      ],
      "execution_count": 0,
      "outputs": []
    },
    {
      "cell_type": "code",
      "metadata": {
        "id": "fGRbsgW4KWMG",
        "colab_type": "code",
        "colab": {}
      },
      "source": [
        "list1 = ([1,2],[3,4])"
      ],
      "execution_count": 0,
      "outputs": []
    },
    {
      "cell_type": "code",
      "metadata": {
        "id": "87sc6ZIPKWPN",
        "colab_type": "code",
        "colab": {}
      },
      "source": [
        "ex_tensor = torch.tensor(list1)"
      ],
      "execution_count": 0,
      "outputs": []
    },
    {
      "cell_type": "code",
      "metadata": {
        "id": "uyonxTNCKWdr",
        "colab_type": "code",
        "outputId": "9e77ca2d-6226-46d2-8723-3120021101cc",
        "colab": {
          "base_uri": "https://localhost:8080/",
          "height": 54
        }
      },
      "source": [
        "ex_tensor"
      ],
      "execution_count": 0,
      "outputs": [
        {
          "output_type": "execute_result",
          "data": {
            "text/plain": [
              "tensor([[1, 2],\n",
              "        [3, 4]])"
            ]
          },
          "metadata": {
            "tags": []
          },
          "execution_count": 4
        }
      ]
    },
    {
      "cell_type": "code",
      "metadata": {
        "id": "PrMTr8hfKWmo",
        "colab_type": "code",
        "outputId": "6bca1afb-9f13-4826-9c02-74ad9628e604",
        "colab": {
          "base_uri": "https://localhost:8080/",
          "height": 36
        }
      },
      "source": [
        "type(ex_tensor)"
      ],
      "execution_count": 0,
      "outputs": [
        {
          "output_type": "execute_result",
          "data": {
            "text/plain": [
              "torch.Tensor"
            ]
          },
          "metadata": {
            "tags": []
          },
          "execution_count": 5
        }
      ]
    },
    {
      "cell_type": "code",
      "metadata": {
        "id": "pRyqTCIYKXOU",
        "colab_type": "code",
        "colab": {}
      },
      "source": [
        "#Converting numpy to torch\n",
        "np_tensor = torch.tensor(np.array([1,2,3,4,5,6]))"
      ],
      "execution_count": 0,
      "outputs": []
    },
    {
      "cell_type": "code",
      "metadata": {
        "id": "7mRKPsKIKXVL",
        "colab_type": "code",
        "outputId": "75c2b579-ccf2-4ebe-afab-525d4a7e22a1",
        "colab": {
          "base_uri": "https://localhost:8080/",
          "height": 36
        }
      },
      "source": [
        "np_tensor"
      ],
      "execution_count": 0,
      "outputs": [
        {
          "output_type": "execute_result",
          "data": {
            "text/plain": [
              "tensor([1, 2, 3, 4, 5, 6])"
            ]
          },
          "metadata": {
            "tags": []
          },
          "execution_count": 7
        }
      ]
    },
    {
      "cell_type": "code",
      "metadata": {
        "id": "-CLHlrQeKXZZ",
        "colab_type": "code",
        "outputId": "3a73bb73-bc05-4b05-9d98-60f7c24303c8",
        "colab": {
          "base_uri": "https://localhost:8080/",
          "height": 36
        }
      },
      "source": [
        "type(np_tensor)"
      ],
      "execution_count": 0,
      "outputs": [
        {
          "output_type": "execute_result",
          "data": {
            "text/plain": [
              "torch.Tensor"
            ]
          },
          "metadata": {
            "tags": []
          },
          "execution_count": 8
        }
      ]
    },
    {
      "cell_type": "code",
      "metadata": {
        "id": "_vLw53MVKXSS",
        "colab_type": "code",
        "colab": {}
      },
      "source": [
        "#empty tensor\n",
        "empty_tensor = torch.tensor([])"
      ],
      "execution_count": 0,
      "outputs": []
    },
    {
      "cell_type": "code",
      "metadata": {
        "id": "QcxzD_fOKXLO",
        "colab_type": "code",
        "colab": {}
      },
      "source": [
        "#data type - dtype\n",
        "tensor_float = torch.tensor([3,4,5],dtype = torch.float32)"
      ],
      "execution_count": 0,
      "outputs": []
    },
    {
      "cell_type": "code",
      "metadata": {
        "id": "E51f9shoKXH-",
        "colab_type": "code",
        "outputId": "fd60173e-2e94-4b24-96fa-a2b91f654189",
        "colab": {
          "base_uri": "https://localhost:8080/",
          "height": 36
        }
      },
      "source": [
        "tensor_float"
      ],
      "execution_count": 0,
      "outputs": [
        {
          "output_type": "execute_result",
          "data": {
            "text/plain": [
              "tensor([3., 4., 5.])"
            ]
          },
          "metadata": {
            "tags": []
          },
          "execution_count": 11
        }
      ]
    },
    {
      "cell_type": "code",
      "metadata": {
        "id": "PkRR8dYAKXE9",
        "colab_type": "code",
        "outputId": "89709496-f95d-4337-e410-12c3c52018e0",
        "colab": {
          "base_uri": "https://localhost:8080/",
          "height": 36
        }
      },
      "source": [
        "tensor_float.dtype"
      ],
      "execution_count": 0,
      "outputs": [
        {
          "output_type": "execute_result",
          "data": {
            "text/plain": [
              "torch.float32"
            ]
          },
          "metadata": {
            "tags": []
          },
          "execution_count": 12
        }
      ]
    },
    {
      "cell_type": "code",
      "metadata": {
        "id": "zAkCjiRsKXCS",
        "colab_type": "code",
        "colab": {}
      },
      "source": [
        "#Other important parameter for torch.tensor - Device & Requires_grad"
      ],
      "execution_count": 0,
      "outputs": []
    },
    {
      "cell_type": "markdown",
      "metadata": {
        "id": "StVgptSsL-s4",
        "colab_type": "text"
      },
      "source": [
        "# Ways of creating Tensors"
      ]
    },
    {
      "cell_type": "code",
      "metadata": {
        "id": "sBICNNgIKW-h",
        "colab_type": "code",
        "outputId": "8cb1a052-9f0b-462f-c80c-e8fc43188b41",
        "colab": {
          "base_uri": "https://localhost:8080/",
          "height": 73
        }
      },
      "source": [
        "#ones\n",
        "x = torch.ones(3,2)\n",
        "print(x)"
      ],
      "execution_count": 0,
      "outputs": [
        {
          "output_type": "stream",
          "text": [
            "tensor([[1., 1.],\n",
            "        [1., 1.],\n",
            "        [1., 1.]])\n"
          ],
          "name": "stdout"
        }
      ]
    },
    {
      "cell_type": "code",
      "metadata": {
        "id": "T183jJ3qKW7k",
        "colab_type": "code",
        "outputId": "79e11ca8-69c2-4fca-a342-998ece969206",
        "colab": {
          "base_uri": "https://localhost:8080/",
          "height": 73
        }
      },
      "source": [
        "#zeros\n",
        "torch.zeros(3,3)"
      ],
      "execution_count": 0,
      "outputs": [
        {
          "output_type": "execute_result",
          "data": {
            "text/plain": [
              "tensor([[0., 0., 0.],\n",
              "        [0., 0., 0.],\n",
              "        [0., 0., 0.]])"
            ]
          },
          "metadata": {
            "tags": []
          },
          "execution_count": 15
        }
      ]
    },
    {
      "cell_type": "code",
      "metadata": {
        "id": "ardytuA9KW4h",
        "colab_type": "code",
        "outputId": "772467cc-42fe-4250-d386-03bfeb2e5f85",
        "colab": {
          "base_uri": "https://localhost:8080/",
          "height": 91
        }
      },
      "source": [
        "#random.rand - random numbers between 0 and 1\n",
        "torch.rand(4,2)"
      ],
      "execution_count": 0,
      "outputs": [
        {
          "output_type": "execute_result",
          "data": {
            "text/plain": [
              "tensor([[0.0572, 0.7346],\n",
              "        [0.8459, 0.9104],\n",
              "        [0.5576, 0.1156],\n",
              "        [0.1858, 0.5797]])"
            ]
          },
          "metadata": {
            "tags": []
          },
          "execution_count": 16
        }
      ]
    },
    {
      "cell_type": "code",
      "metadata": {
        "id": "ZS2CoviIKW1e",
        "colab_type": "code",
        "outputId": "8b69eb69-c9ae-4e31-c354-c854aaa552cc",
        "colab": {
          "base_uri": "https://localhost:8080/",
          "height": 36
        }
      },
      "source": [
        "#arange\n",
        "y = torch.arange(6)\n",
        "y"
      ],
      "execution_count": 0,
      "outputs": [
        {
          "output_type": "execute_result",
          "data": {
            "text/plain": [
              "tensor([0, 1, 2, 3, 4, 5])"
            ]
          },
          "metadata": {
            "tags": []
          },
          "execution_count": 17
        }
      ]
    },
    {
      "cell_type": "code",
      "metadata": {
        "id": "s5pZu4fXKWyM",
        "colab_type": "code",
        "outputId": "d5d62ef2-04c9-4d25-f3f8-0057ea0862cd",
        "colab": {
          "base_uri": "https://localhost:8080/",
          "height": 36
        }
      },
      "source": [
        "torch.arange(5,10) #starting point as 5"
      ],
      "execution_count": 0,
      "outputs": [
        {
          "output_type": "execute_result",
          "data": {
            "text/plain": [
              "tensor([5, 6, 7, 8, 9])"
            ]
          },
          "metadata": {
            "tags": []
          },
          "execution_count": 18
        }
      ]
    },
    {
      "cell_type": "code",
      "metadata": {
        "id": "rsI2HcS3KWva",
        "colab_type": "code",
        "outputId": "5c166af1-b68c-41bc-aab1-053af9f167e6",
        "colab": {
          "base_uri": "https://localhost:8080/",
          "height": 36
        }
      },
      "source": [
        "torch.arange(5,50,5) #starting point as 5, step size as 5"
      ],
      "execution_count": 0,
      "outputs": [
        {
          "output_type": "execute_result",
          "data": {
            "text/plain": [
              "tensor([ 5, 10, 15, 20, 25, 30, 35, 40, 45])"
            ]
          },
          "metadata": {
            "tags": []
          },
          "execution_count": 19
        }
      ]
    },
    {
      "cell_type": "code",
      "metadata": {
        "id": "_wb9q7gfKWtS",
        "colab_type": "code",
        "outputId": "54650731-a40c-4403-e779-22cbda2c3c2e",
        "colab": {
          "base_uri": "https://localhost:8080/",
          "height": 36
        }
      },
      "source": [
        "#linspace\n",
        "torch.linspace(-10,10,5)"
      ],
      "execution_count": 0,
      "outputs": [
        {
          "output_type": "execute_result",
          "data": {
            "text/plain": [
              "tensor([-10.,  -5.,   0.,   5.,  10.])"
            ]
          },
          "metadata": {
            "tags": []
          },
          "execution_count": 20
        }
      ]
    },
    {
      "cell_type": "code",
      "metadata": {
        "id": "jAgeiwgdKWrB",
        "colab_type": "code",
        "outputId": "a7ff2eb0-f39f-4dac-decb-db6e85e60085",
        "colab": {
          "base_uri": "https://localhost:8080/",
          "height": 91
        }
      },
      "source": [
        "#empty tensor\n",
        "torch.empty(4,3)"
      ],
      "execution_count": 0,
      "outputs": [
        {
          "output_type": "execute_result",
          "data": {
            "text/plain": [
              "tensor([[1.4249e-36, 0.0000e+00, 3.3631e-44],\n",
              "        [0.0000e+00,        nan, 0.0000e+00],\n",
              "        [1.1578e+27, 1.1362e+30, 7.1547e+22],\n",
              "        [4.5828e+30, 1.2121e+04, 7.1846e+22]])"
            ]
          },
          "metadata": {
            "tags": []
          },
          "execution_count": 21
        }
      ]
    },
    {
      "cell_type": "code",
      "metadata": {
        "id": "AXAU4QFsKWjx",
        "colab_type": "code",
        "outputId": "b6a6b0ab-7e97-4161-ff4e-9934bad337b4",
        "colab": {
          "base_uri": "https://localhost:8080/",
          "height": 91
        }
      },
      "source": [
        "#identity matrix\n",
        "torch.eye(4)"
      ],
      "execution_count": 0,
      "outputs": [
        {
          "output_type": "execute_result",
          "data": {
            "text/plain": [
              "tensor([[1., 0., 0., 0.],\n",
              "        [0., 1., 0., 0.],\n",
              "        [0., 0., 1., 0.],\n",
              "        [0., 0., 0., 1.]])"
            ]
          },
          "metadata": {
            "tags": []
          },
          "execution_count": 22
        }
      ]
    },
    {
      "cell_type": "code",
      "metadata": {
        "id": "0xgO-o3jKWhU",
        "colab_type": "code",
        "outputId": "13f1c403-0e13-46c7-84a9-85375e1e9d7f",
        "colab": {
          "base_uri": "https://localhost:8080/",
          "height": 54
        }
      },
      "source": [
        "#full tensor\n",
        "torch.full((2,3),5)"
      ],
      "execution_count": 0,
      "outputs": [
        {
          "output_type": "execute_result",
          "data": {
            "text/plain": [
              "tensor([[5., 5., 5.],\n",
              "        [5., 5., 5.]])"
            ]
          },
          "metadata": {
            "tags": []
          },
          "execution_count": 23
        }
      ]
    },
    {
      "cell_type": "markdown",
      "metadata": {
        "id": "aAvWu2UcVdvG",
        "colab_type": "text"
      },
      "source": [
        "### Reshape and Slicing"
      ]
    },
    {
      "cell_type": "code",
      "metadata": {
        "id": "Wrkr0mcdKWa5",
        "colab_type": "code",
        "outputId": "35680df5-d27d-443a-a97a-e5fe16f5cdad",
        "colab": {
          "base_uri": "https://localhost:8080/",
          "height": 36
        }
      },
      "source": [
        "new_example = torch.arange(8)\n",
        "new_example"
      ],
      "execution_count": 0,
      "outputs": [
        {
          "output_type": "execute_result",
          "data": {
            "text/plain": [
              "tensor([0, 1, 2, 3, 4, 5, 6, 7])"
            ]
          },
          "metadata": {
            "tags": []
          },
          "execution_count": 24
        }
      ]
    },
    {
      "cell_type": "code",
      "metadata": {
        "id": "2sp0DkrGVZwN",
        "colab_type": "code",
        "outputId": "1fa2b3f1-edce-4349-f90a-51df57b0103e",
        "colab": {
          "base_uri": "https://localhost:8080/",
          "height": 36
        }
      },
      "source": [
        "new_example.shape"
      ],
      "execution_count": 0,
      "outputs": [
        {
          "output_type": "execute_result",
          "data": {
            "text/plain": [
              "torch.Size([8])"
            ]
          },
          "metadata": {
            "tags": []
          },
          "execution_count": 25
        }
      ]
    },
    {
      "cell_type": "code",
      "metadata": {
        "id": "-92W4cT0VZzm",
        "colab_type": "code",
        "outputId": "ed387dbf-63c1-487e-f804-0ffcc1da8845",
        "colab": {
          "base_uri": "https://localhost:8080/",
          "height": 91
        }
      },
      "source": [
        "#view\n",
        "new_example.view(4,2)"
      ],
      "execution_count": 0,
      "outputs": [
        {
          "output_type": "execute_result",
          "data": {
            "text/plain": [
              "tensor([[0, 1],\n",
              "        [2, 3],\n",
              "        [4, 5],\n",
              "        [6, 7]])"
            ]
          },
          "metadata": {
            "tags": []
          },
          "execution_count": 26
        }
      ]
    },
    {
      "cell_type": "code",
      "metadata": {
        "id": "vSeiFQn1VZ-8",
        "colab_type": "code",
        "outputId": "e9ae45b6-f10b-49e8-8101-7cdfafc1d0dd",
        "colab": {
          "base_uri": "https://localhost:8080/",
          "height": 54
        }
      },
      "source": [
        "#reshape\n",
        "new_example.reshape(2,4)"
      ],
      "execution_count": 0,
      "outputs": [
        {
          "output_type": "execute_result",
          "data": {
            "text/plain": [
              "tensor([[0, 1, 2, 3],\n",
              "        [4, 5, 6, 7]])"
            ]
          },
          "metadata": {
            "tags": []
          },
          "execution_count": 27
        }
      ]
    },
    {
      "cell_type": "code",
      "metadata": {
        "id": "VH1plHjtVaEf",
        "colab_type": "code",
        "colab": {}
      },
      "source": [
        "\"\"\"\n",
        "tensor.view - works only on contiguous tensors & will never copy memory. will not work on non-contiguous tensors\n",
        "tensor.reshape - works on any tensor and, can make a clone if it is needed\n",
        "\"\"\";"
      ],
      "execution_count": 0,
      "outputs": []
    },
    {
      "cell_type": "code",
      "metadata": {
        "id": "a226mjb5VaHp",
        "colab_type": "code",
        "outputId": "574f6f62-738e-4050-a809-0ba833e7f18c",
        "colab": {
          "base_uri": "https://localhost:8080/",
          "height": 91
        }
      },
      "source": [
        "#slicing\n",
        "x = torch.arange(8).reshape(4,2)\n",
        "x"
      ],
      "execution_count": 0,
      "outputs": [
        {
          "output_type": "execute_result",
          "data": {
            "text/plain": [
              "tensor([[0, 1],\n",
              "        [2, 3],\n",
              "        [4, 5],\n",
              "        [6, 7]])"
            ]
          },
          "metadata": {
            "tags": []
          },
          "execution_count": 29
        }
      ]
    },
    {
      "cell_type": "code",
      "metadata": {
        "id": "7DN7FT3TVaLS",
        "colab_type": "code",
        "outputId": "9ecf7af8-ef30-4955-fcf2-0493fd31b420",
        "colab": {
          "base_uri": "https://localhost:8080/",
          "height": 36
        }
      },
      "source": [
        "x[2,1]"
      ],
      "execution_count": 0,
      "outputs": [
        {
          "output_type": "execute_result",
          "data": {
            "text/plain": [
              "tensor(5)"
            ]
          },
          "metadata": {
            "tags": []
          },
          "execution_count": 30
        }
      ]
    },
    {
      "cell_type": "code",
      "metadata": {
        "id": "Rp8Uga2rVaN-",
        "colab_type": "code",
        "outputId": "982b5223-940c-46e0-a890-110123e84456",
        "colab": {
          "base_uri": "https://localhost:8080/",
          "height": 36
        }
      },
      "source": [
        "x[2,1].item() # works only on 1 value"
      ],
      "execution_count": 0,
      "outputs": [
        {
          "output_type": "execute_result",
          "data": {
            "text/plain": [
              "5"
            ]
          },
          "metadata": {
            "tags": []
          },
          "execution_count": 31
        }
      ]
    },
    {
      "cell_type": "code",
      "metadata": {
        "id": "Vq6fHBO3VaRF",
        "colab_type": "code",
        "outputId": "8852f56a-87f7-4b52-a74a-6c814af59f39",
        "colab": {
          "base_uri": "https://localhost:8080/",
          "height": 174
        }
      },
      "source": [
        "x[:,1].item()"
      ],
      "execution_count": 0,
      "outputs": [
        {
          "output_type": "error",
          "ename": "ValueError",
          "evalue": "ignored",
          "traceback": [
            "\u001b[0;31m---------------------------------------------------------------------------\u001b[0m",
            "\u001b[0;31mValueError\u001b[0m                                Traceback (most recent call last)",
            "\u001b[0;32m<ipython-input-32-a4ecc55b2a46>\u001b[0m in \u001b[0;36m<module>\u001b[0;34m()\u001b[0m\n\u001b[0;32m----> 1\u001b[0;31m \u001b[0mx\u001b[0m\u001b[0;34m[\u001b[0m\u001b[0;34m:\u001b[0m\u001b[0;34m,\u001b[0m\u001b[0;36m1\u001b[0m\u001b[0;34m]\u001b[0m\u001b[0;34m.\u001b[0m\u001b[0mitem\u001b[0m\u001b[0;34m(\u001b[0m\u001b[0;34m)\u001b[0m\u001b[0;34m\u001b[0m\u001b[0;34m\u001b[0m\u001b[0m\n\u001b[0m",
            "\u001b[0;31mValueError\u001b[0m: only one element tensors can be converted to Python scalars"
          ]
        }
      ]
    },
    {
      "cell_type": "code",
      "metadata": {
        "id": "K8bUq2P5VaUG",
        "colab_type": "code",
        "outputId": "85e4c27e-2fa9-41f5-91ef-dd4df1541c37",
        "colab": {
          "base_uri": "https://localhost:8080/",
          "height": 36
        }
      },
      "source": [
        "#returning the required range\n",
        "x[2,:]"
      ],
      "execution_count": 0,
      "outputs": [
        {
          "output_type": "execute_result",
          "data": {
            "text/plain": [
              "tensor([4, 5])"
            ]
          },
          "metadata": {
            "tags": []
          },
          "execution_count": 33
        }
      ]
    },
    {
      "cell_type": "markdown",
      "metadata": {
        "id": "1-EO8Cdax-s4",
        "colab_type": "text"
      },
      "source": [
        "### Mathematical Operations on Tensors"
      ]
    },
    {
      "cell_type": "code",
      "metadata": {
        "id": "t4auoqBfVaYE",
        "colab_type": "code",
        "outputId": "9d3da773-3174-4d19-b522-b508bf91c630",
        "colab": {
          "base_uri": "https://localhost:8080/",
          "height": 129
        }
      },
      "source": [
        "x = torch.ones(3,2)\n",
        "y = torch.full((3,2),3)\n",
        "print(x)\n",
        "print(y)"
      ],
      "execution_count": 0,
      "outputs": [
        {
          "output_type": "stream",
          "text": [
            "tensor([[1., 1.],\n",
            "        [1., 1.],\n",
            "        [1., 1.]])\n",
            "tensor([[3., 3.],\n",
            "        [3., 3.],\n",
            "        [3., 3.]])\n"
          ],
          "name": "stdout"
        }
      ]
    },
    {
      "cell_type": "code",
      "metadata": {
        "id": "omSmlQ5XVabU",
        "colab_type": "code",
        "outputId": "b21b2e6b-44fe-4799-a3eb-c51611ca778c",
        "colab": {
          "base_uri": "https://localhost:8080/",
          "height": 315
        }
      },
      "source": [
        "print(\"Addition is :\\n\", x+y)\n",
        "print(\"Subtraction is :\\n\", x-y)\n",
        "print(\"Multiplication is :\\n\", x*y)\n",
        "print(\"Division is :\\n\", x/y)"
      ],
      "execution_count": 0,
      "outputs": [
        {
          "output_type": "stream",
          "text": [
            "Addition is :\n",
            " tensor([[4., 4.],\n",
            "        [4., 4.],\n",
            "        [4., 4.]])\n",
            "Subtraction is :\n",
            " tensor([[-2., -2.],\n",
            "        [-2., -2.],\n",
            "        [-2., -2.]])\n",
            "Multiplication is :\n",
            " tensor([[3., 3.],\n",
            "        [3., 3.],\n",
            "        [3., 3.]])\n",
            "Division is :\n",
            " tensor([[0.3333, 0.3333],\n",
            "        [0.3333, 0.3333],\n",
            "        [0.3333, 0.3333]])\n"
          ],
          "name": "stdout"
        }
      ]
    },
    {
      "cell_type": "code",
      "metadata": {
        "id": "VdF5zr_dVaeS",
        "colab_type": "code",
        "colab": {}
      },
      "source": [
        "#add function\n",
        "z = x.add(y)"
      ],
      "execution_count": 0,
      "outputs": []
    },
    {
      "cell_type": "code",
      "metadata": {
        "id": "l5atsflYytFW",
        "colab_type": "code",
        "outputId": "96968fe1-733d-4b99-864d-c17dca45384c",
        "colab": {
          "base_uri": "https://localhost:8080/",
          "height": 73
        }
      },
      "source": [
        "z"
      ],
      "execution_count": 0,
      "outputs": [
        {
          "output_type": "execute_result",
          "data": {
            "text/plain": [
              "tensor([[4., 4.],\n",
              "        [4., 4.],\n",
              "        [4., 4.]])"
            ]
          },
          "metadata": {
            "tags": []
          },
          "execution_count": 37
        }
      ]
    },
    {
      "cell_type": "code",
      "metadata": {
        "id": "FCf_KZx4yt8L",
        "colab_type": "code",
        "outputId": "b4a8371b-e28b-43c1-f0bf-024915062040",
        "colab": {
          "base_uri": "https://localhost:8080/",
          "height": 129
        }
      },
      "source": [
        "#inplace addition - add_\n",
        "z = y.add_(x)\n",
        "print(z)\n",
        "print(y)"
      ],
      "execution_count": 0,
      "outputs": [
        {
          "output_type": "stream",
          "text": [
            "tensor([[4., 4.],\n",
            "        [4., 4.],\n",
            "        [4., 4.]])\n",
            "tensor([[4., 4.],\n",
            "        [4., 4.],\n",
            "        [4., 4.]])\n"
          ],
          "name": "stdout"
        }
      ]
    },
    {
      "cell_type": "code",
      "metadata": {
        "id": "PBoomHJdVahR",
        "colab_type": "code",
        "outputId": "9f92ffdb-8d7f-4824-c0be-20dfd5727e74",
        "colab": {
          "base_uri": "https://localhost:8080/",
          "height": 73
        }
      },
      "source": [
        "#mul_ - multiplying inplace\n",
        "x.mul_(y) # store in x"
      ],
      "execution_count": 0,
      "outputs": [
        {
          "output_type": "execute_result",
          "data": {
            "text/plain": [
              "tensor([[4., 4.],\n",
              "        [4., 4.],\n",
              "        [4., 4.]])"
            ]
          },
          "metadata": {
            "tags": []
          },
          "execution_count": 39
        }
      ]
    },
    {
      "cell_type": "code",
      "metadata": {
        "id": "_TqH1YK2Vakb",
        "colab_type": "code",
        "outputId": "c34ee836-dcc9-4bcb-ccb1-82b26a0e199e",
        "colab": {
          "base_uri": "https://localhost:8080/",
          "height": 73
        }
      },
      "source": [
        "x"
      ],
      "execution_count": 0,
      "outputs": [
        {
          "output_type": "execute_result",
          "data": {
            "text/plain": [
              "tensor([[4., 4.],\n",
              "        [4., 4.],\n",
              "        [4., 4.]])"
            ]
          },
          "metadata": {
            "tags": []
          },
          "execution_count": 40
        }
      ]
    },
    {
      "cell_type": "markdown",
      "metadata": {
        "id": "8shXRbgHzQ6Z",
        "colab_type": "text"
      },
      "source": [
        "### Pytorch - Numpy"
      ]
    },
    {
      "cell_type": "code",
      "metadata": {
        "id": "5xR3WaS7Vbe_",
        "colab_type": "code",
        "outputId": "1b8318e6-5b1a-4ac4-9252-42866e518f91",
        "colab": {
          "base_uri": "https://localhost:8080/",
          "height": 36
        }
      },
      "source": [
        "x = torch.tensor(np.array([1,2,3,4,5,6,7]))\n",
        "type(x)"
      ],
      "execution_count": 0,
      "outputs": [
        {
          "output_type": "execute_result",
          "data": {
            "text/plain": [
              "torch.Tensor"
            ]
          },
          "metadata": {
            "tags": []
          },
          "execution_count": 41
        }
      ]
    },
    {
      "cell_type": "code",
      "metadata": {
        "id": "ZTzpgrKC2AcA",
        "colab_type": "code",
        "outputId": "b6c94bfb-af63-4131-fa61-76823590a5c0",
        "colab": {
          "base_uri": "https://localhost:8080/",
          "height": 36
        }
      },
      "source": [
        "x = x.numpy() # convert back to numpy\n",
        "type(x) "
      ],
      "execution_count": 0,
      "outputs": [
        {
          "output_type": "execute_result",
          "data": {
            "text/plain": [
              "numpy.ndarray"
            ]
          },
          "metadata": {
            "tags": []
          },
          "execution_count": 42
        }
      ]
    },
    {
      "cell_type": "code",
      "metadata": {
        "id": "HRX2HXiW2AfW",
        "colab_type": "code",
        "outputId": "580eda84-217f-4754-c362-bf3b2edb7345",
        "colab": {
          "base_uri": "https://localhost:8080/",
          "height": 36
        }
      },
      "source": [
        "#converting numpy array to tensor without creating the copy\n",
        "z = torch.from_numpy(x) \n",
        "type(z)"
      ],
      "execution_count": 0,
      "outputs": [
        {
          "output_type": "execute_result",
          "data": {
            "text/plain": [
              "torch.Tensor"
            ]
          },
          "metadata": {
            "tags": []
          },
          "execution_count": 43
        }
      ]
    },
    {
      "cell_type": "code",
      "metadata": {
        "id": "mv8Lgn192AjD",
        "colab_type": "code",
        "colab": {}
      },
      "source": [
        "z[0] = -10"
      ],
      "execution_count": 0,
      "outputs": []
    },
    {
      "cell_type": "code",
      "metadata": {
        "id": "1AE4Jiej2Al_",
        "colab_type": "code",
        "outputId": "0abf6ad2-36bc-48f9-eb49-59187801f06a",
        "colab": {
          "base_uri": "https://localhost:8080/",
          "height": 36
        }
      },
      "source": [
        "z"
      ],
      "execution_count": 0,
      "outputs": [
        {
          "output_type": "execute_result",
          "data": {
            "text/plain": [
              "tensor([-10,   2,   3,   4,   5,   6,   7])"
            ]
          },
          "metadata": {
            "tags": []
          },
          "execution_count": 45
        }
      ]
    },
    {
      "cell_type": "code",
      "metadata": {
        "id": "MUCnrF2ZVcaF",
        "colab_type": "code",
        "outputId": "6dde965d-a300-45aa-d570-9078ff1ca500",
        "colab": {
          "base_uri": "https://localhost:8080/",
          "height": 36
        }
      },
      "source": [
        "x"
      ],
      "execution_count": 0,
      "outputs": [
        {
          "output_type": "execute_result",
          "data": {
            "text/plain": [
              "array([-10,   2,   3,   4,   5,   6,   7])"
            ]
          },
          "metadata": {
            "tags": []
          },
          "execution_count": 46
        }
      ]
    },
    {
      "cell_type": "markdown",
      "metadata": {
        "id": "9zQVIlCS2oy_",
        "colab_type": "text"
      },
      "source": [
        "### Computation time"
      ]
    },
    {
      "cell_type": "code",
      "metadata": {
        "id": "aOCB6LhQVcXn",
        "colab_type": "code",
        "outputId": "755cf087-16a3-4a9c-e7aa-476131ca8dbe",
        "colab": {
          "base_uri": "https://localhost:8080/",
          "height": 54
        }
      },
      "source": [
        "#Numpy\n",
        "%%time\n",
        "for i in range(1000):\n",
        "  x = np.random.randn(100,100)\n",
        "  y = np.random.randn(100,100)\n",
        "  z = x+y"
      ],
      "execution_count": 0,
      "outputs": [
        {
          "output_type": "stream",
          "text": [
            "CPU times: user 892 ms, sys: 83 µs, total: 892 ms\n",
            "Wall time: 903 ms\n"
          ],
          "name": "stdout"
        }
      ]
    },
    {
      "cell_type": "code",
      "metadata": {
        "id": "hlqQpDJjVcUE",
        "colab_type": "code",
        "outputId": "95474fd0-65e9-4003-f9dc-debe9aff04c4",
        "colab": {
          "base_uri": "https://localhost:8080/",
          "height": 54
        }
      },
      "source": [
        "#tensors\n",
        "%%time\n",
        "for i in range(1000):\n",
        "  x = torch.randn(100,100)\n",
        "  y = torch.randn(100,100)\n",
        "  z = x+y"
      ],
      "execution_count": 0,
      "outputs": [
        {
          "output_type": "stream",
          "text": [
            "CPU times: user 256 ms, sys: 0 ns, total: 256 ms\n",
            "Wall time: 268 ms\n"
          ],
          "name": "stdout"
        }
      ]
    },
    {
      "cell_type": "code",
      "metadata": {
        "id": "1E8-LfmcVcQ5",
        "colab_type": "code",
        "outputId": "9bb1eca2-77c4-4dd6-f5a9-a7150d79eef1",
        "colab": {
          "base_uri": "https://localhost:8080/",
          "height": 54
        }
      },
      "source": [
        "#Numpy\n",
        "%%time\n",
        "for i in range(1000):\n",
        "  x = np.random.randn(100,100)\n",
        "  y = np.random.randn(100,100)\n",
        "  z = x-y"
      ],
      "execution_count": 0,
      "outputs": [
        {
          "output_type": "stream",
          "text": [
            "CPU times: user 874 ms, sys: 3.71 ms, total: 877 ms\n",
            "Wall time: 882 ms\n"
          ],
          "name": "stdout"
        }
      ]
    },
    {
      "cell_type": "code",
      "metadata": {
        "id": "YMnsbObzVcNl",
        "colab_type": "code",
        "outputId": "e2909cfe-4515-404e-8d26-15d1aef95237",
        "colab": {
          "base_uri": "https://localhost:8080/",
          "height": 54
        }
      },
      "source": [
        "#tensors\n",
        "%%time\n",
        "for i in range(1000):\n",
        "  x = torch.randn(100,100)\n",
        "  y = torch.randn(100,100)\n",
        "  z = x-y"
      ],
      "execution_count": 0,
      "outputs": [
        {
          "output_type": "stream",
          "text": [
            "CPU times: user 232 ms, sys: 1.87 ms, total: 234 ms\n",
            "Wall time: 237 ms\n"
          ],
          "name": "stdout"
        }
      ]
    },
    {
      "cell_type": "code",
      "metadata": {
        "id": "JBKesb5bVcK1",
        "colab_type": "code",
        "outputId": "ff301d3a-83ec-4a85-9e9e-cfeba6e597eb",
        "colab": {
          "base_uri": "https://localhost:8080/",
          "height": 54
        }
      },
      "source": [
        "#Numpy\n",
        "%%time\n",
        "for i in range(1000):\n",
        "  x = np.random.randn(100,100)\n",
        "  y = np.random.randn(100,100)\n",
        "  z = x*y"
      ],
      "execution_count": 0,
      "outputs": [
        {
          "output_type": "stream",
          "text": [
            "CPU times: user 889 ms, sys: 2.47 ms, total: 891 ms\n",
            "Wall time: 893 ms\n"
          ],
          "name": "stdout"
        }
      ]
    },
    {
      "cell_type": "code",
      "metadata": {
        "id": "B_WMvImVVcHe",
        "colab_type": "code",
        "outputId": "01f46429-6832-4484-d411-9c1c25f632a6",
        "colab": {
          "base_uri": "https://localhost:8080/",
          "height": 54
        }
      },
      "source": [
        "#tensors\n",
        "%%time\n",
        "for i in range(1000):\n",
        "  x = torch.randn(100,100)\n",
        "  y = torch.randn(100,100)\n",
        "  z = x*y"
      ],
      "execution_count": 0,
      "outputs": [
        {
          "output_type": "stream",
          "text": [
            "CPU times: user 289 ms, sys: 928 µs, total: 290 ms\n",
            "Wall time: 288 ms\n"
          ],
          "name": "stdout"
        }
      ]
    },
    {
      "cell_type": "code",
      "metadata": {
        "id": "jjGOYpzJVcD2",
        "colab_type": "code",
        "outputId": "3f154d69-73d5-45b3-a028-9912fdacf59a",
        "colab": {
          "base_uri": "https://localhost:8080/",
          "height": 54
        }
      },
      "source": [
        "#Numpy\n",
        "%%time\n",
        "for i in range(10000):\n",
        "  x = np.random.randn(100,100)\n",
        "  y = np.random.randn(100,100)\n",
        "  z = np.matmul(x,y)"
      ],
      "execution_count": 0,
      "outputs": [
        {
          "output_type": "stream",
          "text": [
            "CPU times: user 17.3 s, sys: 9.97 s, total: 27.2 s\n",
            "Wall time: 13.9 s\n"
          ],
          "name": "stdout"
        }
      ]
    },
    {
      "cell_type": "code",
      "metadata": {
        "id": "2M3c4BCcVcA7",
        "colab_type": "code",
        "outputId": "f6d3a1fe-9f0e-41b6-d805-cee010b8564c",
        "colab": {
          "base_uri": "https://localhost:8080/",
          "height": 54
        }
      },
      "source": [
        "#tensors\n",
        "%%time\n",
        "for i in range(10000):\n",
        "  x = torch.randn(100,100)\n",
        "  y = torch.randn(100,100)\n",
        "  z = torch.matmul(x,y)"
      ],
      "execution_count": 0,
      "outputs": [
        {
          "output_type": "stream",
          "text": [
            "CPU times: user 2.79 s, sys: 84.3 ms, total: 2.88 s\n",
            "Wall time: 2.83 s\n"
          ],
          "name": "stdout"
        }
      ]
    },
    {
      "cell_type": "markdown",
      "metadata": {
        "id": "1aux1h5d4dHi",
        "colab_type": "text"
      },
      "source": [
        "# CUDA\n",
        "\n",
        "   -  Revolutionary paralell computing architecture from NVIDIA.\n",
        "   -  We can use the computing cores in Graphics Processor (GPU) for general purpose mathematical calculations\n",
        "    "
      ]
    },
    {
      "cell_type": "code",
      "metadata": {
        "id": "ygkJH_AEVb9j",
        "colab_type": "code",
        "outputId": "10283d4b-f6d4-4c12-9d02-8fd7e2d72525",
        "colab": {
          "base_uri": "https://localhost:8080/",
          "height": 36
        }
      },
      "source": [
        "#package - torch.cuda\n",
        "#check availability of cuda device\n",
        "torch.cuda.is_available() "
      ],
      "execution_count": 0,
      "outputs": [
        {
          "output_type": "execute_result",
          "data": {
            "text/plain": [
              "True"
            ]
          },
          "metadata": {
            "tags": []
          },
          "execution_count": 55
        }
      ]
    },
    {
      "cell_type": "code",
      "metadata": {
        "id": "kBSSppS95UxZ",
        "colab_type": "code",
        "outputId": "847e8def-747d-493e-8b4c-b9abfdf98450",
        "colab": {
          "base_uri": "https://localhost:8080/",
          "height": 36
        }
      },
      "source": [
        "torch.cuda.device_count() "
      ],
      "execution_count": 0,
      "outputs": [
        {
          "output_type": "execute_result",
          "data": {
            "text/plain": [
              "1"
            ]
          },
          "metadata": {
            "tags": []
          },
          "execution_count": 56
        }
      ]
    },
    {
      "cell_type": "code",
      "metadata": {
        "id": "PKoQiwSg5U-D",
        "colab_type": "code",
        "outputId": "92f234fc-4297-4b88-a844-e21639530755",
        "colab": {
          "base_uri": "https://localhost:8080/",
          "height": 36
        }
      },
      "source": [
        "torch.cuda.current_device() "
      ],
      "execution_count": 0,
      "outputs": [
        {
          "output_type": "execute_result",
          "data": {
            "text/plain": [
              "0"
            ]
          },
          "metadata": {
            "tags": []
          },
          "execution_count": 57
        }
      ]
    },
    {
      "cell_type": "code",
      "metadata": {
        "id": "cEbqjBjW5Vas",
        "colab_type": "code",
        "outputId": "917a4bb3-d826-4b45-adae-b9f1baad58bd",
        "colab": {
          "base_uri": "https://localhost:8080/",
          "height": 36
        }
      },
      "source": [
        "#name of GPU\n",
        "print(torch.cuda.get_device_name(0))"
      ],
      "execution_count": 0,
      "outputs": [
        {
          "output_type": "stream",
          "text": [
            "Tesla K80\n"
          ],
          "name": "stdout"
        }
      ]
    },
    {
      "cell_type": "markdown",
      "metadata": {
        "id": "LBBMfmg76i9Q",
        "colab_type": "text"
      },
      "source": [
        "## Pytorch Tensors on GPU"
      ]
    },
    {
      "cell_type": "code",
      "metadata": {
        "id": "WuQpTBuf5VXu",
        "colab_type": "code",
        "colab": {}
      },
      "source": [
        "#object for cuda device\n",
        "cuda0 = torch.device('cuda:0')"
      ],
      "execution_count": 0,
      "outputs": []
    },
    {
      "cell_type": "code",
      "metadata": {
        "id": "jLQuPi4i5VUH",
        "colab_type": "code",
        "outputId": "5be2d0a4-9043-4b11-83c5-da168e8e29e5",
        "colab": {
          "base_uri": "https://localhost:8080/",
          "height": 36
        }
      },
      "source": [
        "type(cuda0)"
      ],
      "execution_count": 0,
      "outputs": [
        {
          "output_type": "execute_result",
          "data": {
            "text/plain": [
              "torch.device"
            ]
          },
          "metadata": {
            "tags": []
          },
          "execution_count": 60
        }
      ]
    },
    {
      "cell_type": "code",
      "metadata": {
        "id": "JurJdfnZ5VQn",
        "colab_type": "code",
        "colab": {}
      },
      "source": [
        "a = torch.ones(2,2, device = cuda0)"
      ],
      "execution_count": 0,
      "outputs": []
    },
    {
      "cell_type": "code",
      "metadata": {
        "id": "C5DleRz35VNB",
        "colab_type": "code",
        "outputId": "632d9626-861a-4587-efd8-49dbbd55b1ec",
        "colab": {
          "base_uri": "https://localhost:8080/",
          "height": 54
        }
      },
      "source": [
        "a"
      ],
      "execution_count": 0,
      "outputs": [
        {
          "output_type": "execute_result",
          "data": {
            "text/plain": [
              "tensor([[1., 1.],\n",
              "        [1., 1.]], device='cuda:0')"
            ]
          },
          "metadata": {
            "tags": []
          },
          "execution_count": 62
        }
      ]
    },
    {
      "cell_type": "code",
      "metadata": {
        "id": "elN3mATS5VKu",
        "colab_type": "code",
        "colab": {}
      },
      "source": [
        "#add parameter device for each tensor when creating for GPU\n",
        "b = torch.ones(2,2,device =cuda0)\n",
        "c = a+b"
      ],
      "execution_count": 0,
      "outputs": []
    },
    {
      "cell_type": "code",
      "metadata": {
        "id": "boFw_ofh5VIZ",
        "colab_type": "code",
        "outputId": "c39e88ba-7783-4317-9819-4111c4816b9d",
        "colab": {
          "base_uri": "https://localhost:8080/",
          "height": 54
        }
      },
      "source": [
        "c"
      ],
      "execution_count": 0,
      "outputs": [
        {
          "output_type": "execute_result",
          "data": {
            "text/plain": [
              "tensor([[2., 2.],\n",
              "        [2., 2.]], device='cuda:0')"
            ]
          },
          "metadata": {
            "tags": []
          },
          "execution_count": 64
        }
      ]
    },
    {
      "cell_type": "markdown",
      "metadata": {
        "id": "wxihgRdZ7arJ",
        "colab_type": "text"
      },
      "source": [
        "### Performance -  Numpy Vs CPU Tensors Vs GPU Tensors"
      ]
    },
    {
      "cell_type": "code",
      "metadata": {
        "id": "9Ipzw0j45VFR",
        "colab_type": "code",
        "outputId": "4599db87-1008-4a8f-c5c9-e677fc50fb1b",
        "colab": {
          "base_uri": "https://localhost:8080/",
          "height": 54
        }
      },
      "source": [
        "#numpy\n",
        "%%time\n",
        "for i in range(100):\n",
        "  x = np.random.randn(1000,1000)\n",
        "  y = np.random.randn(1000,1000)\n",
        "  z = x*y"
      ],
      "execution_count": 0,
      "outputs": [
        {
          "output_type": "stream",
          "text": [
            "CPU times: user 9.13 s, sys: 33.6 ms, total: 9.16 s\n",
            "Wall time: 9.17 s\n"
          ],
          "name": "stdout"
        }
      ]
    },
    {
      "cell_type": "code",
      "metadata": {
        "id": "INrBVOrN5VCE",
        "colab_type": "code",
        "outputId": "46f6cdca-a057-40d2-f41f-006869040ebc",
        "colab": {
          "base_uri": "https://localhost:8080/",
          "height": 54
        }
      },
      "source": [
        "#CPU tensors\n",
        "%%time\n",
        "for i in range(100):\n",
        "  x = torch.randn(1000,1000)\n",
        "  y = torch.randn(1000,1000)\n",
        "  z = x*y"
      ],
      "execution_count": 0,
      "outputs": [
        {
          "output_type": "stream",
          "text": [
            "CPU times: user 2.22 s, sys: 15.1 ms, total: 2.23 s\n",
            "Wall time: 2.23 s\n"
          ],
          "name": "stdout"
        }
      ]
    },
    {
      "cell_type": "code",
      "metadata": {
        "id": "bl4ghdIO5U71",
        "colab_type": "code",
        "outputId": "4079ddd0-a5ad-4707-f99f-f4c9cc7f2a3e",
        "colab": {
          "base_uri": "https://localhost:8080/",
          "height": 54
        }
      },
      "source": [
        "#GPU tensors\n",
        "%%time\n",
        "for i in range(100):\n",
        "  x = torch.randn(1000,1000,device = cuda0)\n",
        "  y = torch.randn(1000,1000,device =cuda0)\n",
        "  z = x*y"
      ],
      "execution_count": 0,
      "outputs": [
        {
          "output_type": "stream",
          "text": [
            "CPU times: user 6.81 ms, sys: 1.65 ms, total: 8.46 ms\n",
            "Wall time: 15.8 ms\n"
          ],
          "name": "stdout"
        }
      ]
    },
    {
      "cell_type": "markdown",
      "metadata": {
        "id": "9Zsx00ow9NIq",
        "colab_type": "text"
      },
      "source": [
        "### Matrix Multiplication"
      ]
    },
    {
      "cell_type": "code",
      "metadata": {
        "id": "fH__b12b5U5V",
        "colab_type": "code",
        "outputId": "4a2a297f-a2cd-43fc-c198-9df7fe752b6a",
        "colab": {
          "base_uri": "https://localhost:8080/",
          "height": 54
        }
      },
      "source": [
        "#numpy\n",
        "%%time\n",
        "for i in range(1000):\n",
        "  x = np.random.randn(1000,1000)\n",
        "  y = np.random.randn(1000,1000)\n",
        "  z = np.matmul(x,y)"
      ],
      "execution_count": 0,
      "outputs": [
        {
          "output_type": "stream",
          "text": [
            "CPU times: user 4min 49s, sys: 1min 30s, total: 6min 19s\n",
            "Wall time: 3min 14s\n"
          ],
          "name": "stdout"
        }
      ]
    },
    {
      "cell_type": "code",
      "metadata": {
        "id": "IW-rEySy5U2S",
        "colab_type": "code",
        "outputId": "aedcd1ca-5550-4c9d-986d-b62dbac0ebc7",
        "colab": {
          "base_uri": "https://localhost:8080/",
          "height": 54
        }
      },
      "source": [
        "#CPU tensors\n",
        "%%time\n",
        "for i in range(1000):\n",
        "  x = torch.randn(1000,1000)\n",
        "  y = torch.randn(1000,1000)\n",
        "  z = torch.matmul(x,y)"
      ],
      "execution_count": 0,
      "outputs": [
        {
          "output_type": "stream",
          "text": [
            "CPU times: user 50.4 s, sys: 249 ms, total: 50.7 s\n",
            "Wall time: 50.7 s\n"
          ],
          "name": "stdout"
        }
      ]
    },
    {
      "cell_type": "code",
      "metadata": {
        "id": "l6_3OBzNVb69",
        "colab_type": "code",
        "outputId": "faf12407-db01-462a-e812-7861ba0614e0",
        "colab": {
          "base_uri": "https://localhost:8080/",
          "height": 54
        }
      },
      "source": [
        "#GPU tensors\n",
        "%%time\n",
        "for i in range(1000):\n",
        "  x = torch.randn(1000,1000,device = cuda0)\n",
        "  y = torch.randn(1000,1000,device =cuda0)\n",
        "  z = torch.matmul(x,y)"
      ],
      "execution_count": 0,
      "outputs": [
        {
          "output_type": "stream",
          "text": [
            "CPU times: user 585 ms, sys: 522 ms, total: 1.11 s\n",
            "Wall time: 1.12 s\n"
          ],
          "name": "stdout"
        }
      ]
    },
    {
      "cell_type": "code",
      "metadata": {
        "id": "O-R_HdZMVb3q",
        "colab_type": "code",
        "colab": {}
      },
      "source": [
        ""
      ],
      "execution_count": 0,
      "outputs": []
    },
    {
      "cell_type": "code",
      "metadata": {
        "id": "vScJTVboVb0a",
        "colab_type": "code",
        "colab": {}
      },
      "source": [
        ""
      ],
      "execution_count": 0,
      "outputs": []
    },
    {
      "cell_type": "code",
      "metadata": {
        "id": "juGck0n9VbxU",
        "colab_type": "code",
        "colab": {}
      },
      "source": [
        ""
      ],
      "execution_count": 0,
      "outputs": []
    },
    {
      "cell_type": "code",
      "metadata": {
        "id": "FB42wmg2VbuX",
        "colab_type": "code",
        "colab": {}
      },
      "source": [
        ""
      ],
      "execution_count": 0,
      "outputs": []
    },
    {
      "cell_type": "code",
      "metadata": {
        "id": "0H__iE4NVbrp",
        "colab_type": "code",
        "colab": {}
      },
      "source": [
        ""
      ],
      "execution_count": 0,
      "outputs": []
    },
    {
      "cell_type": "code",
      "metadata": {
        "id": "Ty76TlrFVbox",
        "colab_type": "code",
        "colab": {}
      },
      "source": [
        ""
      ],
      "execution_count": 0,
      "outputs": []
    },
    {
      "cell_type": "code",
      "metadata": {
        "id": "XxWrUU7wVbma",
        "colab_type": "code",
        "colab": {}
      },
      "source": [
        ""
      ],
      "execution_count": 0,
      "outputs": []
    },
    {
      "cell_type": "code",
      "metadata": {
        "id": "jNyTKMdtVbjx",
        "colab_type": "code",
        "colab": {}
      },
      "source": [
        ""
      ],
      "execution_count": 0,
      "outputs": []
    },
    {
      "cell_type": "code",
      "metadata": {
        "id": "M-AHHwm1VbdD",
        "colab_type": "code",
        "colab": {}
      },
      "source": [
        ""
      ],
      "execution_count": 0,
      "outputs": []
    },
    {
      "cell_type": "code",
      "metadata": {
        "id": "vvNiv-W4VbbC",
        "colab_type": "code",
        "colab": {}
      },
      "source": [
        ""
      ],
      "execution_count": 0,
      "outputs": []
    },
    {
      "cell_type": "code",
      "metadata": {
        "id": "Q8AI7aF4VbBw",
        "colab_type": "code",
        "colab": {}
      },
      "source": [
        ""
      ],
      "execution_count": 0,
      "outputs": []
    },
    {
      "cell_type": "code",
      "metadata": {
        "id": "_1Dk00CzVa_U",
        "colab_type": "code",
        "colab": {}
      },
      "source": [
        ""
      ],
      "execution_count": 0,
      "outputs": []
    },
    {
      "cell_type": "code",
      "metadata": {
        "id": "WfgWGA_3VazV",
        "colab_type": "code",
        "colab": {}
      },
      "source": [
        ""
      ],
      "execution_count": 0,
      "outputs": []
    },
    {
      "cell_type": "code",
      "metadata": {
        "id": "WikaWW9dVZ8U",
        "colab_type": "code",
        "colab": {}
      },
      "source": [
        ""
      ],
      "execution_count": 0,
      "outputs": []
    },
    {
      "cell_type": "code",
      "metadata": {
        "id": "PDN-6RFvVZ53",
        "colab_type": "code",
        "colab": {}
      },
      "source": [
        ""
      ],
      "execution_count": 0,
      "outputs": []
    },
    {
      "cell_type": "code",
      "metadata": {
        "id": "_E0kO82uVZ2o",
        "colab_type": "code",
        "colab": {}
      },
      "source": [
        ""
      ],
      "execution_count": 0,
      "outputs": []
    },
    {
      "cell_type": "code",
      "metadata": {
        "id": "oDuZQ5CHKWXs",
        "colab_type": "code",
        "colab": {}
      },
      "source": [
        ""
      ],
      "execution_count": 0,
      "outputs": []
    },
    {
      "cell_type": "code",
      "metadata": {
        "id": "ZAGghKlxKWWJ",
        "colab_type": "code",
        "colab": {}
      },
      "source": [
        ""
      ],
      "execution_count": 0,
      "outputs": []
    },
    {
      "cell_type": "code",
      "metadata": {
        "id": "_ejjHesQKWSj",
        "colab_type": "code",
        "colab": {}
      },
      "source": [
        ""
      ],
      "execution_count": 0,
      "outputs": []
    },
    {
      "cell_type": "code",
      "metadata": {
        "id": "MCCZnLBIKOch",
        "colab_type": "code",
        "colab": {}
      },
      "source": [
        ""
      ],
      "execution_count": 0,
      "outputs": []
    }
  ]
}