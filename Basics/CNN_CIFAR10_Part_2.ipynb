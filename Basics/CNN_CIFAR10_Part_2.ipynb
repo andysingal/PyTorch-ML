{
  "nbformat": 4,
  "nbformat_minor": 0,
  "metadata": {
    "colab": {
      "name": "CNN - CIFAR10 - Part 2.ipynb",
      "version": "0.3.2",
      "provenance": [],
      "collapsed_sections": []
    },
    "kernelspec": {
      "name": "python3",
      "display_name": "Python 3"
    },
    "accelerator": "GPU"
  },
  "cells": [
    {
      "cell_type": "code",
      "metadata": {
        "id": "CM7Nwdj4lVi9",
        "colab_type": "code",
        "colab": {}
      },
      "source": [
        "import torch\n",
        "import torch.nn as nn\n",
        "import numpy as np\n",
        "import matplotlib.pyplot as plt"
      ],
      "execution_count": 0,
      "outputs": []
    },
    {
      "cell_type": "code",
      "metadata": {
        "id": "uciHzivamHnO",
        "colab_type": "code",
        "colab": {}
      },
      "source": [
        "#torchvision package\n",
        "import torchvision"
      ],
      "execution_count": 0,
      "outputs": []
    },
    {
      "cell_type": "code",
      "metadata": {
        "id": "QA18d_5kmMOo",
        "colab_type": "code",
        "outputId": "d0f6209a-2d18-4f07-f17e-0872b0a63aaf",
        "colab": {
          "base_uri": "https://localhost:8080/",
          "height": 54
        }
      },
      "source": [
        "trainset = torchvision.datasets.CIFAR10(root = './data',train = True,\n",
        "                                       download = True, transform = torchvision.transforms.ToTensor())\n",
        "#transform --> transform the data during creation"
      ],
      "execution_count": 0,
      "outputs": [
        {
          "output_type": "stream",
          "text": [
            "\r0it [00:00, ?it/s]"
          ],
          "name": "stderr"
        },
        {
          "output_type": "stream",
          "text": [
            "Downloading https://www.cs.toronto.edu/~kriz/cifar-10-python.tar.gz to ./data/cifar-10-python.tar.gz\n"
          ],
          "name": "stdout"
        },
        {
          "output_type": "stream",
          "text": [
            "100%|█████████▉| 170369024/170498071 [00:12<00:00, 17041930.85it/s]"
          ],
          "name": "stderr"
        }
      ]
    },
    {
      "cell_type": "code",
      "metadata": {
        "id": "el4Z20L9mjzw",
        "colab_type": "code",
        "colab": {}
      },
      "source": [
        "#class labels\n",
        "classes = ('airplane', 'automobile', 'bird', 'cat', 'deer', 'dog', 'frog', 'horse', 'ship',' truck' )"
      ],
      "execution_count": 0,
      "outputs": []
    },
    {
      "cell_type": "code",
      "metadata": {
        "id": "rAc3NGQ_m6Y_",
        "colab_type": "code",
        "outputId": "09371cae-4c8c-4331-e444-364b5157cacc",
        "colab": {
          "base_uri": "https://localhost:8080/",
          "height": 36
        }
      },
      "source": [
        "type(trainset)"
      ],
      "execution_count": 0,
      "outputs": [
        {
          "output_type": "execute_result",
          "data": {
            "text/plain": [
              "torchvision.datasets.cifar.CIFAR10"
            ]
          },
          "metadata": {
            "tags": []
          },
          "execution_count": 5
        }
      ]
    },
    {
      "cell_type": "code",
      "metadata": {
        "id": "Ovr4Tl4Um9HY",
        "colab_type": "code",
        "colab": {}
      },
      "source": [
        "#loading the dataset --> DataLoader class (torch.utils.data.DataLoader)\n",
        "trainloader = torch.utils.data.DataLoader(trainset)"
      ],
      "execution_count": 0,
      "outputs": []
    },
    {
      "cell_type": "code",
      "metadata": {
        "id": "OYVZtP7VnQCC",
        "colab_type": "code",
        "outputId": "b083dd18-2ac6-40f0-99fa-f74fddb6beee",
        "colab": {
          "base_uri": "https://localhost:8080/",
          "height": 36
        }
      },
      "source": [
        "data_iter = iter(trainloader)\n",
        "type(data_iter)"
      ],
      "execution_count": 0,
      "outputs": [
        {
          "output_type": "execute_result",
          "data": {
            "text/plain": [
              "torch.utils.data.dataloader._DataLoaderIter"
            ]
          },
          "metadata": {
            "tags": []
          },
          "execution_count": 7
        }
      ]
    },
    {
      "cell_type": "code",
      "metadata": {
        "id": "xG-XtMcMnVqk",
        "colab_type": "code",
        "outputId": "6e165231-179a-45f9-9606-297e807603a0",
        "colab": {
          "base_uri": "https://localhost:8080/",
          "height": 36
        }
      },
      "source": [
        "#Access the data --> next() method\n",
        "images,labels = data_iter.next()\n",
        "print(images.shape)"
      ],
      "execution_count": 0,
      "outputs": [
        {
          "output_type": "stream",
          "text": [
            "torch.Size([1, 3, 32, 32])\n"
          ],
          "name": "stdout"
        }
      ]
    },
    {
      "cell_type": "markdown",
      "metadata": {
        "id": "ISn7xfTGnhXN",
        "colab_type": "text"
      },
      "source": [
        "(1,3,32,32) -->\n",
        "\n",
        "1 - Batch Size, \n",
        "\n",
        "3 - channels in input,\n",
        "\n",
        "32,32 - shape of individual image "
      ]
    },
    {
      "cell_type": "code",
      "metadata": {
        "id": "Y33YOgNPnfDI",
        "colab_type": "code",
        "outputId": "e3b07b95-6217-441a-a9d7-f386a337cc3c",
        "colab": {
          "base_uri": "https://localhost:8080/",
          "height": 36
        }
      },
      "source": [
        "print(labels.item())"
      ],
      "execution_count": 0,
      "outputs": [
        {
          "output_type": "stream",
          "text": [
            "6\n"
          ],
          "name": "stdout"
        }
      ]
    },
    {
      "cell_type": "code",
      "metadata": {
        "id": "qckBeTQvns7Y",
        "colab_type": "code",
        "outputId": "5050d083-d608-4a1a-c7ba-98098288ce0e",
        "colab": {
          "base_uri": "https://localhost:8080/",
          "height": 36
        }
      },
      "source": [
        "classes[labels.item()]"
      ],
      "execution_count": 0,
      "outputs": [
        {
          "output_type": "execute_result",
          "data": {
            "text/plain": [
              "'frog'"
            ]
          },
          "metadata": {
            "tags": []
          },
          "execution_count": 10
        }
      ]
    },
    {
      "cell_type": "code",
      "metadata": {
        "id": "LJNU3xJ4n3jN",
        "colab_type": "code",
        "colab": {}
      },
      "source": [
        "#Specifying batch_size, Shuffle & load data in paralell using multiprocessing workers\n",
        "trainloader = torch.utils.data.DataLoader(trainset, batch_size = 4, shuffle = True)\n",
        "\n",
        "data_iter = iter(trainloader)\n",
        "images,labels = data_iter.next()"
      ],
      "execution_count": 0,
      "outputs": []
    },
    {
      "cell_type": "code",
      "metadata": {
        "id": "1jA8A0IwoWSa",
        "colab_type": "code",
        "outputId": "90f15a30-ca76-44bc-ebdb-a9d2859e0f03",
        "colab": {
          "base_uri": "https://localhost:8080/",
          "height": 36
        }
      },
      "source": [
        "print(images.shape)"
      ],
      "execution_count": 0,
      "outputs": [
        {
          "output_type": "stream",
          "text": [
            "torch.Size([4, 3, 32, 32])\n"
          ],
          "name": "stdout"
        }
      ]
    },
    {
      "cell_type": "markdown",
      "metadata": {
        "id": "mDOJqArVocqm",
        "colab_type": "text"
      },
      "source": [
        "(4,3,32,32) -->\n",
        "\n",
        "4 - Batch Size(no. of images loaded), \n",
        "\n",
        "3 - channels in input,\n",
        "\n",
        "32,32 - shape of individual image "
      ]
    },
    {
      "cell_type": "code",
      "metadata": {
        "id": "gvp9212goZFl",
        "colab_type": "code",
        "outputId": "73de4bdc-075d-4df6-d0b3-2cbdbde03b0f",
        "colab": {
          "base_uri": "https://localhost:8080/",
          "height": 36
        }
      },
      "source": [
        "labels"
      ],
      "execution_count": 0,
      "outputs": [
        {
          "output_type": "execute_result",
          "data": {
            "text/plain": [
              "tensor([5, 0, 2, 3])"
            ]
          },
          "metadata": {
            "tags": []
          },
          "execution_count": 13
        }
      ]
    },
    {
      "cell_type": "markdown",
      "metadata": {
        "id": "8LUVYcbmsQpd",
        "colab_type": "text"
      },
      "source": [
        "# Visualize the Data"
      ]
    },
    {
      "cell_type": "code",
      "metadata": {
        "id": "ClFxhfqIojJ_",
        "colab_type": "code",
        "outputId": "470c2054-bd48-4de1-93f9-632e881b5e2a",
        "colab": {
          "base_uri": "https://localhost:8080/",
          "height": 36
        }
      },
      "source": [
        "image_data = images[0]\n",
        "image_data.shape"
      ],
      "execution_count": 0,
      "outputs": [
        {
          "output_type": "execute_result",
          "data": {
            "text/plain": [
              "torch.Size([3, 32, 32])"
            ]
          },
          "metadata": {
            "tags": []
          },
          "execution_count": 14
        }
      ]
    },
    {
      "cell_type": "code",
      "metadata": {
        "id": "213bBGaysjly",
        "colab_type": "code",
        "colab": {}
      },
      "source": [
        "#convert to numpy\n",
        "np_image = image_data.numpy()"
      ],
      "execution_count": 0,
      "outputs": []
    },
    {
      "cell_type": "code",
      "metadata": {
        "id": "OGS2-riXsvwH",
        "colab_type": "code",
        "outputId": "4e2339ed-6eb3-421f-bac4-53ebfd2136eb",
        "colab": {
          "base_uri": "https://localhost:8080/",
          "height": 36
        }
      },
      "source": [
        "np_image.shape"
      ],
      "execution_count": 0,
      "outputs": [
        {
          "output_type": "execute_result",
          "data": {
            "text/plain": [
              "(3, 32, 32)"
            ]
          },
          "metadata": {
            "tags": []
          },
          "execution_count": 16
        }
      ]
    },
    {
      "cell_type": "code",
      "metadata": {
        "id": "gPXRO_E9sxY_",
        "colab_type": "code",
        "colab": {}
      },
      "source": [
        "#transpose\n",
        "np_image = np.transpose(np_image, (1,2,0))"
      ],
      "execution_count": 0,
      "outputs": []
    },
    {
      "cell_type": "code",
      "metadata": {
        "id": "hPGKSexCs_e7",
        "colab_type": "code",
        "outputId": "1598de3f-d18e-44a2-a5fa-1ca3d5eacaff",
        "colab": {
          "base_uri": "https://localhost:8080/",
          "height": 36
        }
      },
      "source": [
        "np_image.shape"
      ],
      "execution_count": 0,
      "outputs": [
        {
          "output_type": "execute_result",
          "data": {
            "text/plain": [
              "(32, 32, 3)"
            ]
          },
          "metadata": {
            "tags": []
          },
          "execution_count": 18
        }
      ]
    },
    {
      "cell_type": "code",
      "metadata": {
        "id": "HlDbs96rtBsh",
        "colab_type": "code",
        "outputId": "675f9033-9aff-4746-a846-d8783dbc822b",
        "colab": {
          "base_uri": "https://localhost:8080/",
          "height": 160
        }
      },
      "source": [
        "#plotting the image\n",
        "plt.figure(figsize = (2,2))\n",
        "plt.imshow(np_image)\n",
        "plt.show()"
      ],
      "execution_count": 0,
      "outputs": [
        {
          "output_type": "display_data",
          "data": {
            "image/png": "[encoded data removed]",
            "text/plain": [
              "<Figure size 144x144 with 1 Axes>"
            ]
          },
          "metadata": {
            "tags": []
          }
        }
      ]
    },
    {
      "cell_type": "code",
      "metadata": {
        "id": "L8T9oaRctPep",
        "colab_type": "code",
        "outputId": "ba12cb96-6398-49d4-c1b6-f7cdbc500869",
        "colab": {
          "base_uri": "https://localhost:8080/",
          "height": 36
        }
      },
      "source": [
        "print(classes[labels[0].item()])"
      ],
      "execution_count": 0,
      "outputs": [
        {
          "output_type": "stream",
          "text": [
            "dog\n"
          ],
          "name": "stdout"
        }
      ]
    },
    {
      "cell_type": "code",
      "metadata": {
        "id": "tSj1IWtWto-p",
        "colab_type": "code",
        "colab": {}
      },
      "source": [
        "def image_show(image_data):\n",
        "  np_image = image_data.numpy()\n",
        "  np_image = np.transpose(np_image, (1,2,0))\n",
        "  plt.figure(figsize = (2,2))\n",
        "  plt.imshow(np_image)\n",
        "  plt.show()"
      ],
      "execution_count": 0,
      "outputs": []
    },
    {
      "cell_type": "code",
      "metadata": {
        "id": "y-2RMyExuKs6",
        "colab_type": "code",
        "outputId": "737c58e3-cf02-43d9-dda6-8e9ea219f23d",
        "colab": {
          "base_uri": "https://localhost:8080/",
          "height": 160
        }
      },
      "source": [
        "image_show(images[1])"
      ],
      "execution_count": 0,
      "outputs": [
        {
          "output_type": "display_data",
          "data": {
            "image/png": "[encoded data removed]",
            "text/plain": [
              "<Figure size 144x144 with 1 Axes>"
            ]
          },
          "metadata": {
            "tags": []
          }
        }
      ]
    },
    {
      "cell_type": "code",
      "metadata": {
        "id": "WH7pVNQ0uSzT",
        "colab_type": "code",
        "outputId": "2e48d844-be91-4146-910d-61d95e0535b2",
        "colab": {
          "base_uri": "https://localhost:8080/",
          "height": 36
        }
      },
      "source": [
        "print(classes[labels[1].item()])"
      ],
      "execution_count": 0,
      "outputs": [
        {
          "output_type": "stream",
          "text": [
            "airplane\n"
          ],
          "name": "stdout"
        }
      ]
    },
    {
      "cell_type": "markdown",
      "metadata": {
        "id": "CurdwONIuxYL",
        "colab_type": "text"
      },
      "source": [
        "# First Convolution Layer"
      ]
    },
    {
      "cell_type": "code",
      "metadata": {
        "id": "fTLddf80uVph",
        "colab_type": "code",
        "colab": {}
      },
      "source": [
        "class FirstCNN(nn.Module):\n",
        "  def __init__(self):\n",
        "    super(FirstCNN,self).__init__()\n",
        "    self.conv1 = nn.Conv2d(3,10,3)  # (no. of input channels, number of output channels, kernel size)\n",
        "    # kernel size --> 3 = (3,3)\n",
        "  \n",
        "  def forward(self,x):\n",
        "    y = self.conv1(x)\n",
        "    return y"
      ],
      "execution_count": 0,
      "outputs": []
    },
    {
      "cell_type": "code",
      "metadata": {
        "id": "7qluIFOFu0x3",
        "colab_type": "code",
        "colab": {}
      },
      "source": [
        "cnn = FirstCNN()"
      ],
      "execution_count": 0,
      "outputs": []
    },
    {
      "cell_type": "code",
      "metadata": {
        "id": "JVsK69Htu0lR",
        "colab_type": "code",
        "colab": {}
      },
      "source": [
        "out = cnn(images)"
      ],
      "execution_count": 0,
      "outputs": []
    },
    {
      "cell_type": "code",
      "metadata": {
        "id": "OfjK158Uu0im",
        "colab_type": "code",
        "outputId": "8f4af4b3-7bf6-4abf-b7d7-acf4bf5c8934",
        "colab": {
          "base_uri": "https://localhost:8080/",
          "height": 36
        }
      },
      "source": [
        "print(out.shape)"
      ],
      "execution_count": 0,
      "outputs": [
        {
          "output_type": "stream",
          "text": [
            "torch.Size([4, 10, 30, 30])\n"
          ],
          "name": "stdout"
        }
      ]
    },
    {
      "cell_type": "markdown",
      "metadata": {
        "id": "ZpG2snLUKT04",
        "colab_type": "text"
      },
      "source": [
        "(4,10,30,30) -->\n",
        "\n",
        "4 : number of images (batch size)\n",
        "\n",
        "10 : Channels in output\n",
        "\n",
        "(30,30)  : Resultant image Size\n",
        "\n",
        "\n",
        "**Default:**\n",
        "\n",
        "Padding = (0,0), Stride  = (1,1)"
      ]
    },
    {
      "cell_type": "code",
      "metadata": {
        "id": "TwLaHEkYu0fu",
        "colab_type": "code",
        "outputId": "d0d9aeaa-46e7-4471-e2da-7f60024626ee",
        "colab": {
          "base_uri": "https://localhost:8080/",
          "height": 36
        }
      },
      "source": [
        "#image after convolution\n",
        "sample = out[0,0,:,:]\n",
        "sample.shape"
      ],
      "execution_count": 0,
      "outputs": [
        {
          "output_type": "execute_result",
          "data": {
            "text/plain": [
              "torch.Size([30, 30])"
            ]
          },
          "metadata": {
            "tags": []
          },
          "execution_count": 28
        }
      ]
    },
    {
      "cell_type": "code",
      "metadata": {
        "id": "lc16b9z6u0bS",
        "colab_type": "code",
        "outputId": "359eea3f-6cc9-4a41-e8f7-50536c087304",
        "colab": {
          "base_uri": "https://localhost:8080/",
          "height": 160
        }
      },
      "source": [
        "plt.figure(figsize = (2,2))\n",
        "plt.imshow(sample.detach().numpy())\n",
        "plt.show()"
      ],
      "execution_count": 0,
      "outputs": [
        {
          "output_type": "display_data",
          "data": {
            "image/png": "[encoded data removed]",
            "text/plain": [
              "<Figure size 144x144 with 1 Axes>"
            ]
          },
          "metadata": {
            "tags": []
          }
        }
      ]
    },
    {
      "cell_type": "code",
      "metadata": {
        "id": "VUtKW58du0LI",
        "colab_type": "code",
        "outputId": "f6bc899e-b08a-49bd-fa7e-645a8cfcee8e",
        "colab": {
          "base_uri": "https://localhost:8080/",
          "height": 160
        }
      },
      "source": [
        "#2nd filter\n",
        "sample = out[0,1,:,:]\n",
        "plt.figure(figsize = (2,2))\n",
        "plt.imshow(sample.detach().numpy())\n",
        "plt.show()"
      ],
      "execution_count": 0,
      "outputs": [
        {
          "output_type": "display_data",
          "data": {
            "image/png": "[encoded data removed]",
            "text/plain": [
              "<Figure size 144x144 with 1 Axes>"
            ]
          },
          "metadata": {
            "tags": []
          }
        }
      ]
    },
    {
      "cell_type": "code",
      "metadata": {
        "id": "-jJ1CAfBMQK9",
        "colab_type": "code",
        "colab": {}
      },
      "source": [
        "#Padding & Stride\n",
        "#By Default: Padding = (0,0) & Stride = (1,1)\n",
        "\n",
        "class FirstCNN(nn.Module):\n",
        "  def __init__(self):\n",
        "    super(FirstCNN,self).__init__()\n",
        "    self.conv1 = nn.Conv2d(3,10,3, padding = (1,1) )  # Padding = 1,1\n",
        "    # kernel size --> 3 = (3,3)\n",
        "  \n",
        "  def forward(self,x):\n",
        "    y = self.conv1(x)\n",
        "    return y"
      ],
      "execution_count": 0,
      "outputs": []
    },
    {
      "cell_type": "code",
      "metadata": {
        "id": "Ld5DaSoRMsUh",
        "colab_type": "code",
        "colab": {}
      },
      "source": [
        "cnn = FirstCNN()"
      ],
      "execution_count": 0,
      "outputs": []
    },
    {
      "cell_type": "code",
      "metadata": {
        "id": "8YB7CuwoMs6z",
        "colab_type": "code",
        "colab": {}
      },
      "source": [
        "out = cnn(images)"
      ],
      "execution_count": 0,
      "outputs": []
    },
    {
      "cell_type": "code",
      "metadata": {
        "id": "rMRG_3etMvej",
        "colab_type": "code",
        "outputId": "c5accd07-03f0-48ec-d171-8ca7c605a995",
        "colab": {
          "base_uri": "https://localhost:8080/",
          "height": 36
        }
      },
      "source": [
        "out.shape"
      ],
      "execution_count": 0,
      "outputs": [
        {
          "output_type": "execute_result",
          "data": {
            "text/plain": [
              "torch.Size([4, 10, 32, 32])"
            ]
          },
          "metadata": {
            "tags": []
          },
          "execution_count": 34
        }
      ]
    },
    {
      "cell_type": "code",
      "metadata": {
        "id": "3AJGKRf5Mx00",
        "colab_type": "code",
        "outputId": "016ec6d8-b4a5-4bdd-c31b-bee8e8515a35",
        "colab": {
          "base_uri": "https://localhost:8080/",
          "height": 36
        }
      },
      "source": [
        "#Stride = 1\n",
        "\n",
        "class FirstCNN(nn.Module):\n",
        "  def __init__(self):\n",
        "    super(FirstCNN,self).__init__()\n",
        "    self.conv1 = nn.Conv2d(3,10,3, padding = (1,1), stride = (1,1) )  # Stride = 1,1\n",
        "    # kernel size --> 3 = (3,3)\n",
        "  \n",
        "  def forward(self,x):\n",
        "    y = self.conv1(x)\n",
        "    return y\n",
        "\n",
        "  \n",
        "cnn = FirstCNN()\n",
        "out = cnn(images)\n",
        "out.shape"
      ],
      "execution_count": 0,
      "outputs": [
        {
          "output_type": "execute_result",
          "data": {
            "text/plain": [
              "torch.Size([4, 10, 32, 32])"
            ]
          },
          "metadata": {
            "tags": []
          },
          "execution_count": 35
        }
      ]
    },
    {
      "cell_type": "code",
      "metadata": {
        "id": "muB3PAk-NSYG",
        "colab_type": "code",
        "outputId": "fcfca99c-7859-4712-dc4f-8ab81c7ebbbe",
        "colab": {
          "base_uri": "https://localhost:8080/",
          "height": 36
        }
      },
      "source": [
        "#Stride = 2\n",
        "\n",
        "class FirstCNN(nn.Module):\n",
        "  def __init__(self):\n",
        "    super(FirstCNN,self).__init__()\n",
        "    self.conv1 = nn.Conv2d(3,10,3, padding = (1,1), stride = (2,2) )  # Stride = 2,2\n",
        "    # kernel size --> 3 = (3,3)\n",
        "  \n",
        "  def forward(self,x):\n",
        "    y = self.conv1(x)\n",
        "    return y\n",
        "\n",
        "  \n",
        "cnn = FirstCNN()\n",
        "out = cnn(images)\n",
        "out.shape"
      ],
      "execution_count": 0,
      "outputs": [
        {
          "output_type": "execute_result",
          "data": {
            "text/plain": [
              "torch.Size([4, 10, 16, 16])"
            ]
          },
          "metadata": {
            "tags": []
          },
          "execution_count": 36
        }
      ]
    },
    {
      "cell_type": "code",
      "metadata": {
        "id": "M02hufThNjSW",
        "colab_type": "code",
        "outputId": "744e5a58-bd7e-44a3-d1bc-5e17660a01c6",
        "colab": {
          "base_uri": "https://localhost:8080/",
          "height": 36
        }
      },
      "source": [
        "#Stride = 2 without padding\n",
        "\n",
        "class FirstCNN(nn.Module):\n",
        "  def __init__(self):\n",
        "    super(FirstCNN,self).__init__()\n",
        "    self.conv1 = nn.Conv2d(3,10,3, stride = (2,2) )  # Stride = 2,2\n",
        "    # kernel size --> 3 = (3,3)\n",
        "  \n",
        "  def forward(self,x):\n",
        "    y = self.conv1(x)\n",
        "    return y\n",
        "\n",
        "  \n",
        "cnn = FirstCNN()\n",
        "out = cnn(images)\n",
        "out.shape"
      ],
      "execution_count": 0,
      "outputs": [
        {
          "output_type": "execute_result",
          "data": {
            "text/plain": [
              "torch.Size([4, 10, 15, 15])"
            ]
          },
          "metadata": {
            "tags": []
          },
          "execution_count": 37
        }
      ]
    },
    {
      "cell_type": "markdown",
      "metadata": {
        "id": "MTvn4HcjPV1_",
        "colab_type": "text"
      },
      "source": [
        "# Deep Convolution Networks"
      ]
    },
    {
      "cell_type": "code",
      "metadata": {
        "id": "roLjlPJ-N2CT",
        "colab_type": "code",
        "colab": {}
      },
      "source": [
        "class DeepCNN(nn.Module):\n",
        "  def __init__(self):\n",
        "    super(DeepCNN,self).__init__()\n",
        "    self.model = nn.Sequential(nn.Conv2d(3,10,3),\n",
        "                              nn.Conv2d(10,5,3))\n",
        "    \n",
        "  def forward(self,x):\n",
        "    y = self.model(x)\n",
        "    return y"
      ],
      "execution_count": 0,
      "outputs": []
    },
    {
      "cell_type": "markdown",
      "metadata": {
        "id": "4_pxtfVlQivr",
        "colab_type": "text"
      },
      "source": [
        "### Intuition of Convolution:\n",
        "\n",
        "Input = 4,3,32,32\n",
        "\n",
        "1st Convolution Layer --> Kernel = 3,3 & output channels = 10\n",
        "\n",
        "Default padding = 0, Stride = 1\n",
        "\n",
        "\n",
        "**output, as a Result of 1st Convolution :** *4,10,30,30*\n",
        "\n",
        "---\n",
        "\n",
        "2nd Convolution Layer --> Kernel = (3,3) & output channels = 5\n",
        "\n",
        "**output, as a Result of 2nd Convolution :** *4,5,28,28*\n",
        "\n",
        "Default padding = 0, Stride = 1"
      ]
    },
    {
      "cell_type": "code",
      "metadata": {
        "id": "aS0a7JuaQhsP",
        "colab_type": "code",
        "outputId": "c532901b-daad-4416-efb7-5034029acab6",
        "colab": {
          "base_uri": "https://localhost:8080/",
          "height": 36
        }
      },
      "source": [
        "deep = DeepCNN()\n",
        "out = deep(images)\n",
        "print(out.shape)"
      ],
      "execution_count": 0,
      "outputs": [
        {
          "output_type": "stream",
          "text": [
            "torch.Size([4, 5, 28, 28])\n"
          ],
          "name": "stdout"
        }
      ]
    },
    {
      "cell_type": "code",
      "metadata": {
        "id": "fEcW7JYMSCOh",
        "colab_type": "code",
        "outputId": "666adace-373e-473c-bd10-48b84cd7b750",
        "colab": {
          "base_uri": "https://localhost:8080/",
          "height": 160
        }
      },
      "source": [
        "sample = out[0,1,:,:]\n",
        "plt.figure(figsize = (2,2))\n",
        "plt.imshow(sample.detach().numpy())\n",
        "plt.show()"
      ],
      "execution_count": 0,
      "outputs": [
        {
          "output_type": "display_data",
          "data": {
            "image/png": "[encoded data removed]",
            "text/plain": [
              "<Figure size 144x144 with 1 Axes>"
            ]
          },
          "metadata": {
            "tags": []
          }
        }
      ]
    },
    {
      "cell_type": "code",
      "metadata": {
        "id": "hrfzmXY1SrMW",
        "colab_type": "code",
        "colab": {}
      },
      "source": [
        "#Mean Pool or Avg pool\n",
        "class avg_pool(nn.Module):\n",
        "  def __init__(self):\n",
        "    super(avg_pool,self).__init__()\n",
        "    self.model = nn.Sequential(nn.Conv2d(3,10,3),\n",
        "                              nn.Conv2d(10,5,3),\n",
        "                              nn.AvgPool2d(2, stride = 2)) # Kernel size, Stride\n",
        "    #Stride = 2 --> (2,2)\n",
        "    \n",
        "  def forward(self,x):\n",
        "    y = self.model(x)\n",
        "    return y"
      ],
      "execution_count": 0,
      "outputs": []
    },
    {
      "cell_type": "code",
      "metadata": {
        "id": "K3TudJL5TZKe",
        "colab_type": "code",
        "outputId": "8215cfb9-47e9-4af3-f2f0-dbb11fff1832",
        "colab": {
          "base_uri": "https://localhost:8080/",
          "height": 36
        }
      },
      "source": [
        "avg = avg_pool()\n",
        "out = avg(images)\n",
        "print(out.shape)"
      ],
      "execution_count": 0,
      "outputs": [
        {
          "output_type": "stream",
          "text": [
            "torch.Size([4, 5, 14, 14])\n"
          ],
          "name": "stdout"
        }
      ]
    },
    {
      "cell_type": "code",
      "metadata": {
        "id": "FckzLqmPTefL",
        "colab_type": "code",
        "outputId": "c124cf07-ae24-4ebc-c7bf-94a406b15125",
        "colab": {
          "base_uri": "https://localhost:8080/",
          "height": 160
        }
      },
      "source": [
        "sample = out[0,1,:,:]\n",
        "plt.figure(figsize = (2,2))\n",
        "plt.imshow(sample.detach().numpy())\n",
        "plt.show()"
      ],
      "execution_count": 0,
      "outputs": [
        {
          "output_type": "display_data",
          "data": {
            "image/png": "[encoded data removed]",
            "text/plain": [
              "<Figure size 144x144 with 1 Axes>"
            ]
          },
          "metadata": {
            "tags": []
          }
        }
      ]
    },
    {
      "cell_type": "code",
      "metadata": {
        "id": "-Bs9uHSDTkYp",
        "colab_type": "code",
        "colab": {}
      },
      "source": [
        "#Max Pool\n",
        "class max_pool(nn.Module):\n",
        "  def __init__(self):\n",
        "    super(max_pool,self).__init__()\n",
        "    self.model = nn.Sequential(nn.Conv2d(3,10,3),\n",
        "                              nn.Conv2d(10,5,3),\n",
        "                              nn.MaxPool2d(2, stride = 2)) # Kernel size, Stride\n",
        "    #Stride = 2 --> (2,2)\n",
        "    \n",
        "  def forward(self,x):\n",
        "    y = self.model(x)\n",
        "    return y"
      ],
      "execution_count": 0,
      "outputs": []
    },
    {
      "cell_type": "code",
      "metadata": {
        "id": "UIbT3MjXT1o6",
        "colab_type": "code",
        "outputId": "65e7cde8-e84b-48af-cf37-c79b6056629d",
        "colab": {
          "base_uri": "https://localhost:8080/",
          "height": 36
        }
      },
      "source": [
        "max_p = max_pool()\n",
        "out = max_p(images)\n",
        "print(out.shape)"
      ],
      "execution_count": 0,
      "outputs": [
        {
          "output_type": "stream",
          "text": [
            "torch.Size([4, 5, 14, 14])\n"
          ],
          "name": "stdout"
        }
      ]
    },
    {
      "cell_type": "code",
      "metadata": {
        "id": "J0M4ZlUQT-Nr",
        "colab_type": "code",
        "outputId": "375c0f0f-ffba-4434-f12f-b30e9e2f2681",
        "colab": {
          "base_uri": "https://localhost:8080/",
          "height": 160
        }
      },
      "source": [
        "sample = out[0,1,:,:]\n",
        "plt.figure(figsize = (2,2))\n",
        "plt.imshow(sample.detach().numpy())\n",
        "plt.show()"
      ],
      "execution_count": 0,
      "outputs": [
        {
          "output_type": "display_data",
          "data": {
            "image/png": "[encoded data removed]",
            "text/plain": [
              "<Figure size 144x144 with 1 Axes>"
            ]
          },
          "metadata": {
            "tags": []
          }
        }
      ]
    },
    {
      "cell_type": "markdown",
      "metadata": {
        "id": "G9lUbNgttmfy",
        "colab_type": "text"
      },
      "source": [
        "# LeNet"
      ]
    },
    {
      "cell_type": "code",
      "metadata": {
        "id": "PbmZfSSlx7h0",
        "colab_type": "code",
        "colab": {}
      },
      "source": [
        "\"\"\"\n",
        "CNN layers:\n",
        "Input = (4,3,32,32) --> batch size = 4\n",
        "\n",
        "In General,\n",
        "Input = (N,3,32,32) --> batch size = N\n",
        "\n",
        "1st Convolution:\n",
        "(N,3,32,32) --> (N,6,28,28)   #output channels = 6, kernel = 5, stride = 1\n",
        "Avg Pool:\n",
        "(N,6,28,28) --> (N,6,14,14)  # Kernel = 2, stride = 2\n",
        "2nd Convolution:\n",
        "(N,6,14,14) --> (N,16,10,10) # kernel = 5\n",
        "Avg Pool:\n",
        "(N,16,10,10) --> (N,16,5,5) # Stride = 2, kernel = 2\n",
        "\"\"\";"
      ],
      "execution_count": 0,
      "outputs": []
    },
    {
      "cell_type": "code",
      "metadata": {
        "id": "wDbVVovEzo_p",
        "colab_type": "code",
        "colab": {}
      },
      "source": [
        "\"\"\"\n",
        "Dense Layers:\n",
        "output from CNN Layers --> (N,16,5,5)\n",
        "Result of flattening --> (N,16*5*5) = (N,400) # N refers to number of images loaded in a batch\n",
        "Dense Layer 1: 120 Neurons\n",
        "Dense Layer 2: 84 Neurons\n",
        "Dense Layer 3: 10 Neurons\n",
        "\"\"\";"
      ],
      "execution_count": 0,
      "outputs": []
    },
    {
      "cell_type": "code",
      "metadata": {
        "id": "Xe11MoU3Z6PD",
        "colab_type": "code",
        "outputId": "f94998e7-d02a-40b9-8d65-933ac4536007",
        "colab": {
          "base_uri": "https://localhost:8080/",
          "height": 36
        }
      },
      "source": [
        "#Understanding torch.flatten\n",
        "x = torch.randn(500,5,10)\n",
        "x = torch.flatten(x)\n",
        "print(x.shape)"
      ],
      "execution_count": 0,
      "outputs": [
        {
          "output_type": "stream",
          "text": [
            "torch.Size([25000])\n"
          ],
          "name": "stdout"
        }
      ]
    },
    {
      "cell_type": "code",
      "metadata": {
        "id": "KqVA1QzKaINB",
        "colab_type": "code",
        "outputId": "2ed27e4d-3762-4bda-83d7-1aca6f2d5be0",
        "colab": {
          "base_uri": "https://localhost:8080/",
          "height": 36
        }
      },
      "source": [
        "#Specifying dimension in torch.flatten\n",
        "x = torch.randn(500,5,10)\n",
        "x = torch.flatten(x,1)\n",
        "print(x.shape)"
      ],
      "execution_count": 0,
      "outputs": [
        {
          "output_type": "stream",
          "text": [
            "torch.Size([500, 50])\n"
          ],
          "name": "stdout"
        }
      ]
    },
    {
      "cell_type": "code",
      "metadata": {
        "id": "QtD0lpFy7ElP",
        "colab_type": "code",
        "colab": {}
      },
      "source": [
        "class LeNet(nn.Module):\n",
        "  def __init__(self):\n",
        "    super(LeNet,self).__init__()\n",
        "    self.conv_model = nn.Sequential(nn.Conv2d(3,6,5), # (N,3,32,32) --> (N,6,28,28) \n",
        "                                   nn.Tanh(),\n",
        "                                   nn.AvgPool2d(2, stride = 2), # (N,6,28,28) --> (N,6,14,14)\n",
        "                                   nn.Conv2d(6,16,5), # (N,6,14,14) --> (N,16,10,10)\n",
        "                                   nn.Tanh(),\n",
        "                                   nn.AvgPool2d(2,stride = 2) # (N,16,10,10) --> (N,16,5,5)\n",
        "                                   )\n",
        "    \n",
        "    #Dense Layer\n",
        "    self.dense_model = nn.Sequential(nn.Linear(400,120),\n",
        "                                    nn.Tanh(),\n",
        "                                    nn.Linear(120,84),\n",
        "                                    nn.Tanh(),\n",
        "                                    nn.Linear(84,10)\n",
        "                                    )\n",
        "    \n",
        "  def forward(self,x):\n",
        "    y = self.conv_model(x)\n",
        "    #flatten the result from Conv model\n",
        "    y = torch.flatten(y,1) # 1 --> dimension (N,16,5,5)\n",
        "    y = self.dense_model(y)\n",
        "    return y"
      ],
      "execution_count": 0,
      "outputs": []
    },
    {
      "cell_type": "code",
      "metadata": {
        "id": "qUSqWslmauuo",
        "colab_type": "code",
        "colab": {}
      },
      "source": [
        "net = LeNet()\n",
        "out = net(images)"
      ],
      "execution_count": 0,
      "outputs": []
    },
    {
      "cell_type": "code",
      "metadata": {
        "id": "IqaLpFHQa2RJ",
        "colab_type": "code",
        "outputId": "206eb3b1-1135-4067-81b8-a823530587fc",
        "colab": {
          "base_uri": "https://localhost:8080/",
          "height": 36
        }
      },
      "source": [
        "out.shape"
      ],
      "execution_count": 0,
      "outputs": [
        {
          "output_type": "execute_result",
          "data": {
            "text/plain": [
              "torch.Size([4, 10])"
            ]
          },
          "metadata": {
            "tags": []
          },
          "execution_count": 53
        }
      ]
    },
    {
      "cell_type": "code",
      "metadata": {
        "id": "QbSbcw8ka6Eh",
        "colab_type": "code",
        "outputId": "8bd0b767-9cb8-446a-e47e-000fa3bda997",
        "colab": {
          "base_uri": "https://localhost:8080/",
          "height": 166
        }
      },
      "source": [
        "print(out)"
      ],
      "execution_count": 0,
      "outputs": [
        {
          "output_type": "stream",
          "text": [
            "tensor([[-0.0706, -0.0331, -0.0575,  0.1201, -0.0467,  0.0232, -0.0940, -0.1019,\n",
            "          0.1207,  0.1284],\n",
            "        [-0.0606, -0.0048, -0.0519,  0.1297, -0.0333,  0.0513, -0.0632, -0.0944,\n",
            "          0.1323,  0.1287],\n",
            "        [-0.0568, -0.0022, -0.0520,  0.1233, -0.0475,  0.0172, -0.0930, -0.1124,\n",
            "          0.1387,  0.0927],\n",
            "        [-0.0614, -0.0266, -0.0564,  0.1102, -0.0496,  0.0230, -0.0767, -0.1163,\n",
            "          0.1333,  0.0985]], grad_fn=<AddmmBackward>)\n"
          ],
          "name": "stdout"
        }
      ]
    },
    {
      "cell_type": "code",
      "metadata": {
        "id": "JPyAI23AbJN_",
        "colab_type": "code",
        "outputId": "767330f7-3c20-42b5-eec4-aa06a148d72d",
        "colab": {
          "base_uri": "https://localhost:8080/",
          "height": 36
        }
      },
      "source": [
        "torch.max(out)"
      ],
      "execution_count": 0,
      "outputs": [
        {
          "output_type": "execute_result",
          "data": {
            "text/plain": [
              "tensor(0.1387, grad_fn=<MaxBackward1>)"
            ]
          },
          "metadata": {
            "tags": []
          },
          "execution_count": 55
        }
      ]
    },
    {
      "cell_type": "code",
      "metadata": {
        "id": "mgyLLoS9bUXH",
        "colab_type": "code",
        "outputId": "db8a1375-9415-41b5-d54d-009a0e1d5973",
        "colab": {
          "base_uri": "https://localhost:8080/",
          "height": 56
        }
      },
      "source": [
        "#max value across each dimension, parameter --> dim = 1\n",
        "torch.max(out,dim = 1)"
      ],
      "execution_count": 0,
      "outputs": [
        {
          "output_type": "execute_result",
          "data": {
            "text/plain": [
              "torch.return_types.max(values=tensor([0.1284, 0.1323, 0.1387, 0.1333], grad_fn=<MaxBackward0>), indices=tensor([9, 8, 8, 8]))"
            ]
          },
          "metadata": {
            "tags": []
          },
          "execution_count": 56
        }
      ]
    },
    {
      "cell_type": "code",
      "metadata": {
        "id": "hWPDyY_9bkb-",
        "colab_type": "code",
        "colab": {}
      },
      "source": [
        "max_values , pred_class = torch.max(out,dim = 1)"
      ],
      "execution_count": 0,
      "outputs": []
    },
    {
      "cell_type": "code",
      "metadata": {
        "id": "Z_BZraEqbxQI",
        "colab_type": "code",
        "outputId": "af16c3d4-f7cc-4ce0-aa8f-8eee989c9b2e",
        "colab": {
          "base_uri": "https://localhost:8080/",
          "height": 36
        }
      },
      "source": [
        "print(pred_class)"
      ],
      "execution_count": 0,
      "outputs": [
        {
          "output_type": "stream",
          "text": [
            "tensor([9, 8, 8, 8])\n"
          ],
          "name": "stdout"
        }
      ]
    },
    {
      "cell_type": "markdown",
      "metadata": {
        "id": "ftdeEiaTckxO",
        "colab_type": "text"
      },
      "source": [
        "# Train the LeNet"
      ]
    },
    {
      "cell_type": "code",
      "metadata": {
        "id": "kFIpqiF4eQYY",
        "colab_type": "code",
        "colab": {}
      },
      "source": [
        "#define batch size\n",
        "batch = 256"
      ],
      "execution_count": 0,
      "outputs": []
    },
    {
      "cell_type": "code",
      "metadata": {
        "id": "leKMMCnGbQXM",
        "colab_type": "code",
        "colab": {}
      },
      "source": [
        "class LeNet(nn.Module):\n",
        "  def __init__(self):\n",
        "    super(LeNet,self).__init__()\n",
        "    self.conv_model = nn.Sequential(nn.Conv2d(3,6,5), # (N,3,32,32) --> (N,6,28,28) \n",
        "                                   nn.Tanh(),\n",
        "                                   nn.AvgPool2d(2, stride = 2), # (N,6,28,28) --> (N,6,14,14)\n",
        "                                   nn.Conv2d(6,16,5), # (N,6,14,14) --> (N,16,10,10)\n",
        "                                   nn.Tanh(),\n",
        "                                   nn.AvgPool2d(2,stride = 2) # (N,16,10,10) --> (N,16,5,5)\n",
        "                                   )\n",
        "    \n",
        "    #Dense Layer\n",
        "    self.dense_model = nn.Sequential(nn.Linear(400,120),\n",
        "                                    nn.Tanh(),\n",
        "                                    nn.Linear(120,84),\n",
        "                                    nn.Tanh(),\n",
        "                                    nn.Linear(84,10)\n",
        "                                    )\n",
        "    \n",
        "  def forward(self,x):\n",
        "    y = self.conv_model(x)\n",
        "    #flatten the result from Conv model\n",
        "    y = torch.flatten(y,1) # 1 --> dimension (N,16,5,5)\n",
        "    y = self.dense_model(y)\n",
        "    return y"
      ],
      "execution_count": 0,
      "outputs": []
    },
    {
      "cell_type": "code",
      "metadata": {
        "id": "GpFmI0djbQ7I",
        "colab_type": "code",
        "outputId": "fef18f88-9aba-498c-bfdb-3f13fd7aac96",
        "colab": {
          "base_uri": "https://localhost:8080/",
          "height": 54
        }
      },
      "source": [
        "#create new train & test data with new batch size\n",
        "trainset = torchvision.datasets.CIFAR10(root = './data', train = True, download = True, transform = torchvision.transforms.ToTensor())\n",
        "trainloader = torch.utils.data.DataLoader(trainset, batch_size = batch, shuffle = True)\n",
        "\n",
        "testset = torchvision.datasets.CIFAR10(root = './data', train = False, download = True, transform = torchvision.transforms.ToTensor())\n",
        "testloader = torch.utils.data.DataLoader(testset, batch_size = batch, shuffle = False)\n",
        "#Setting the testloader with shuffle as False to measure test accuracy"
      ],
      "execution_count": 0,
      "outputs": [
        {
          "output_type": "stream",
          "text": [
            "Files already downloaded and verified\n",
            "Files already downloaded and verified\n"
          ],
          "name": "stdout"
        }
      ]
    },
    {
      "cell_type": "code",
      "metadata": {
        "id": "vbZIKYcOblwk",
        "colab_type": "code",
        "colab": {}
      },
      "source": [
        "net = LeNet() "
      ],
      "execution_count": 0,
      "outputs": []
    },
    {
      "cell_type": "code",
      "metadata": {
        "id": "JnBAWbfhfYCk",
        "colab_type": "code",
        "colab": {}
      },
      "source": [
        "loss_func = nn.CrossEntropyLoss()\n",
        "optimizer = torch.optim.Adam(net.parameters()) "
      ],
      "execution_count": 0,
      "outputs": []
    },
    {
      "cell_type": "code",
      "metadata": {
        "id": "lP4shQW_fkA9",
        "colab_type": "code",
        "colab": {}
      },
      "source": [
        "def model_evaluation(dataloader): \n",
        "  total = 0\n",
        "  correct = 0\n",
        "  for data in dataloader:\n",
        "    image_data,labels = data\n",
        "    out = net(image_data) \n",
        "    max_values,pred_class = torch.max(out,1) \n",
        "    total += labels.shape[0] \n",
        "    correct += (pred_class == labels).sum().item() \n",
        "    accuracy = (100 * correct)/total\n",
        "  return accuracy"
      ],
      "execution_count": 0,
      "outputs": []
    },
    {
      "cell_type": "code",
      "metadata": {
        "id": "aBPSiD0ogwjq",
        "colab_type": "code",
        "outputId": "006df89a-a152-4427-ee14-96595e33f5f7",
        "colab": {
          "base_uri": "https://localhost:8080/",
          "height": 389
        }
      },
      "source": [
        "total_epochs = 20\n",
        "\n",
        "for i in range(total_epochs):\n",
        "  \n",
        "  for data in trainloader:\n",
        "    image_data, labels = data\n",
        "    \n",
        "    optimizer.zero_grad() \n",
        "    out = net(image_data) #image_data --> input data\n",
        "    loss = loss_func(out,labels)\n",
        "    loss.backward()\n",
        "    optimizer.step()\n",
        "    \n",
        "  train_acc = model_evaluation(trainloader) \n",
        "  test_acc = model_evaluation(testloader)\n",
        "  \n",
        "  print(\"Epoch :\",i,\" Test Accuracy : \",test_acc,\" Train Accuracy : \",train_acc)\n",
        "    "
      ],
      "execution_count": 0,
      "outputs": [
        {
          "output_type": "stream",
          "text": [
            "Epoch : 0  Test Accuracy :  36.86  Train Accuracy :  36.714\n",
            "Epoch : 1  Test Accuracy :  40.89  Train Accuracy :  41.284\n",
            "Epoch : 2  Test Accuracy :  43.75  Train Accuracy :  43.78\n",
            "Epoch : 3  Test Accuracy :  46.45  Train Accuracy :  46.688\n",
            "Epoch : 4  Test Accuracy :  48.09  Train Accuracy :  48.942\n",
            "Epoch : 5  Test Accuracy :  49.26  Train Accuracy :  50.678\n",
            "Epoch : 6  Test Accuracy :  50.28  Train Accuracy :  52.078\n",
            "Epoch : 7  Test Accuracy :  51.4  Train Accuracy :  53.392\n",
            "Epoch : 8  Test Accuracy :  52.7  Train Accuracy :  54.964\n",
            "Epoch : 9  Test Accuracy :  53.28  Train Accuracy :  56.052\n",
            "Epoch : 10  Test Accuracy :  54.2  Train Accuracy :  56.992\n",
            "Epoch : 11  Test Accuracy :  54.38  Train Accuracy :  57.914\n",
            "Epoch : 12  Test Accuracy :  54.57  Train Accuracy :  58.728\n",
            "Epoch : 13  Test Accuracy :  54.77  Train Accuracy :  59.318\n",
            "Epoch : 14  Test Accuracy :  55.36  Train Accuracy :  60.432\n",
            "Epoch : 15  Test Accuracy :  54.75  Train Accuracy :  60.214\n",
            "Epoch : 16  Test Accuracy :  55.83  Train Accuracy :  62.026\n",
            "Epoch : 17  Test Accuracy :  55.92  Train Accuracy :  62.638\n",
            "Epoch : 18  Test Accuracy :  56.42  Train Accuracy :  63.534\n",
            "Epoch : 19  Test Accuracy :  55.73  Train Accuracy :  63.664\n"
          ],
          "name": "stdout"
        }
      ]
    },
    {
      "cell_type": "code",
      "metadata": {
        "id": "75aV_RoRiVaE",
        "colab_type": "code",
        "colab": {}
      },
      "source": [
        ""
      ],
      "execution_count": 0,
      "outputs": []
    }
  ]
}