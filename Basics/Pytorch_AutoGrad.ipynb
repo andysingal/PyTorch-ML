{
  "nbformat": 4,
  "nbformat_minor": 0,
  "metadata": {
    "colab": {
      "name": "Pytorch AutoGrad.ipynb",
      "version": "0.3.2",
      "provenance": []
    },
    "kernelspec": {
      "name": "python3",
      "display_name": "Python 3"
    },
    "accelerator": "GPU"
  },
  "cells": [
    {
      "cell_type": "markdown",
      "metadata": {
        "id": "63bEHPnRzGff",
        "colab_type": "text"
      },
      "source": [
        "# Autograd"
      ]
    },
    {
      "cell_type": "code",
      "metadata": {
        "id": "1ep1aMo3y0XW",
        "colab_type": "code",
        "colab": {}
      },
      "source": [
        "import torch\n",
        "cuda0 = torch.device('cuda:0')"
      ],
      "execution_count": 0,
      "outputs": []
    },
    {
      "cell_type": "code",
      "metadata": {
        "id": "lVHZOXoUzUng",
        "colab_type": "code",
        "outputId": "9a0a1ad6-53e4-4700-ccfd-43b3179e9442",
        "colab": {
          "base_uri": "https://localhost:8080/",
          "height": 36
        }
      },
      "source": [
        "x = torch.tensor([5], dtype = torch.float32, requires_grad = True ) \n",
        "y = torch.tensor([6], dtype = torch.float32, requires_grad = True ) \n",
        "print(x,y)"
      ],
      "execution_count": 0,
      "outputs": [
        {
          "output_type": "stream",
          "text": [
            "tensor([5.], requires_grad=True) tensor([6.], requires_grad=True)\n"
          ],
          "name": "stdout"
        }
      ]
    },
    {
      "cell_type": "code",
      "metadata": {
        "id": "bGajOmU-zcUT",
        "colab_type": "code",
        "outputId": "efbc9508-14f0-434e-dc55-13c17e36eca5",
        "colab": {
          "base_uri": "https://localhost:8080/",
          "height": 36
        }
      },
      "source": [
        "#defining the function\n",
        "z = ((x**2)*y) + (x*y)\n",
        "print(z)"
      ],
      "execution_count": 0,
      "outputs": [
        {
          "output_type": "stream",
          "text": [
            "tensor([180.], grad_fn=<AddBackward0>)\n"
          ],
          "name": "stdout"
        }
      ]
    },
    {
      "cell_type": "code",
      "metadata": {
        "id": "dMOIDsb8zgU_",
        "colab_type": "code",
        "colab": {}
      },
      "source": [
        "#Using autograd\n",
        "# Autograd to be applied on Scalars\n",
        "total = torch.sum(z) # Converting to scalar"
      ],
      "execution_count": 0,
      "outputs": []
    },
    {
      "cell_type": "code",
      "metadata": {
        "id": "ugj7PWruzgch",
        "colab_type": "code",
        "outputId": "36a93176-7553-47fe-a7ba-2e5477b5573f",
        "colab": {
          "base_uri": "https://localhost:8080/",
          "height": 36
        }
      },
      "source": [
        "total"
      ],
      "execution_count": 0,
      "outputs": [
        {
          "output_type": "execute_result",
          "data": {
            "text/plain": [
              "tensor(180., grad_fn=<SumBackward0>)"
            ]
          },
          "metadata": {
            "tags": []
          },
          "execution_count": 7
        }
      ]
    },
    {
      "cell_type": "code",
      "metadata": {
        "id": "1Kq9FTWhzgfs",
        "colab_type": "code",
        "colab": {}
      },
      "source": [
        "total.backward()"
      ],
      "execution_count": 0,
      "outputs": []
    },
    {
      "cell_type": "code",
      "metadata": {
        "id": "L8tXN04fzgia",
        "colab_type": "code",
        "outputId": "bb113dfb-0634-4e05-b1bb-1c0d2a67e148",
        "colab": {
          "base_uri": "https://localhost:8080/",
          "height": 36
        }
      },
      "source": [
        "print(x.grad) "
      ],
      "execution_count": 0,
      "outputs": [
        {
          "output_type": "stream",
          "text": [
            "tensor([66.])\n"
          ],
          "name": "stdout"
        }
      ]
    },
    {
      "cell_type": "code",
      "metadata": {
        "id": "npjGCrn4zgqV",
        "colab_type": "code",
        "outputId": "d390e0fb-7cda-4dca-f95f-789b96cfb67a",
        "colab": {
          "base_uri": "https://localhost:8080/",
          "height": 36
        }
      },
      "source": [
        "print(y.grad) "
      ],
      "execution_count": 0,
      "outputs": [
        {
          "output_type": "stream",
          "text": [
            "tensor([30.])\n"
          ],
          "name": "stdout"
        }
      ]
    },
    {
      "cell_type": "markdown",
      "metadata": {
        "id": "eIgMHxVG056x",
        "colab_type": "text"
      },
      "source": [
        "### Building intuition on Autograd"
      ]
    },
    {
      "cell_type": "code",
      "metadata": {
        "id": "3lzEPV_xzgr5",
        "colab_type": "code",
        "outputId": "24b89a2c-3d52-40a7-d198-fb8e48d53105",
        "colab": {
          "base_uri": "https://localhost:8080/",
          "height": 54
        }
      },
      "source": [
        "x = torch.randn(10,device = cuda0) \n",
        "x"
      ],
      "execution_count": 0,
      "outputs": [
        {
          "output_type": "execute_result",
          "data": {
            "text/plain": [
              "tensor([-1.3878,  0.0353, -0.3580, -0.5143, -1.1193,  1.1060,  0.1161,  0.3120,\n",
              "        -0.5110, -1.9720], device='cuda:0')"
            ]
          },
          "metadata": {
            "tags": []
          },
          "execution_count": 11
        }
      ]
    },
    {
      "cell_type": "code",
      "metadata": {
        "id": "H1PK1S-yzgtj",
        "colab_type": "code",
        "outputId": "484613e2-b667-4ba0-81ae-e78684d2d8f3",
        "colab": {
          "base_uri": "https://localhost:8080/",
          "height": 54
        }
      },
      "source": [
        "#function \n",
        "y = 1.8*x + 32  # --> wx+b\n",
        "y #true values "
      ],
      "execution_count": 0,
      "outputs": [
        {
          "output_type": "execute_result",
          "data": {
            "text/plain": [
              "tensor([29.5019, 32.0635, 31.3556, 31.0742, 29.9853, 33.9909, 32.2089, 32.5616,\n",
              "        31.0802, 28.4505], device='cuda:0')"
            ]
          },
          "metadata": {
            "tags": []
          },
          "execution_count": 12
        }
      ]
    },
    {
      "cell_type": "code",
      "metadata": {
        "id": "QndT7G0ezgwe",
        "colab_type": "code",
        "colab": {}
      },
      "source": [
        "w = torch.ones(1, requires_grad = True, device = cuda0) \n",
        "b = torch.ones(1, requires_grad = True, device = cuda0)\n",
        "y_hat = w*x + b # predicted values of output"
      ],
      "execution_count": 0,
      "outputs": []
    },
    {
      "cell_type": "code",
      "metadata": {
        "id": "HyetKp0Pzgxr",
        "colab_type": "code",
        "colab": {}
      },
      "source": [
        "#Loss functions\n",
        "loss = torch.sum((y_hat - y)**2)"
      ],
      "execution_count": 0,
      "outputs": []
    },
    {
      "cell_type": "code",
      "metadata": {
        "id": "RtRkgw8czg1J",
        "colab_type": "code",
        "outputId": "2598820d-4063-4401-a8b6-a8dec0ea8850",
        "colab": {
          "base_uri": "https://localhost:8080/",
          "height": 36
        }
      },
      "source": [
        "loss"
      ],
      "execution_count": 0,
      "outputs": [
        {
          "output_type": "execute_result",
          "data": {
            "text/plain": [
              "tensor(9402.8633, device='cuda:0', grad_fn=<SumBackward0>)"
            ]
          },
          "metadata": {
            "tags": []
          },
          "execution_count": 15
        }
      ]
    },
    {
      "cell_type": "code",
      "metadata": {
        "id": "5Iofk2eXzg83",
        "colab_type": "code",
        "colab": {}
      },
      "source": [
        "loss.backward() "
      ],
      "execution_count": 0,
      "outputs": []
    },
    {
      "cell_type": "code",
      "metadata": {
        "id": "fDikw61jzhLy",
        "colab_type": "code",
        "outputId": "56bfad1f-f15d-4594-d893-d6a42c849175",
        "colab": {
          "base_uri": "https://localhost:8080/",
          "height": 36
        }
      },
      "source": [
        "print(w.grad, b.grad) "
      ],
      "execution_count": 0,
      "outputs": [
        {
          "output_type": "stream",
          "text": [
            "tensor([251.6746], device='cuda:0') tensor([-613.1312], device='cuda:0')\n"
          ],
          "name": "stdout"
        }
      ]
    },
    {
      "cell_type": "markdown",
      "metadata": {
        "id": "vAdkqP8O2Wh8",
        "colab_type": "text"
      },
      "source": [
        "## Implementing Autograd"
      ]
    },
    {
      "cell_type": "code",
      "metadata": {
        "id": "FPfp2AkszhXF",
        "colab_type": "code",
        "outputId": "6e40a02a-96a7-441f-b0d0-f9d0c3bbfeda",
        "colab": {
          "base_uri": "https://localhost:8080/",
          "height": 36
        }
      },
      "source": [
        "x = torch.randint(-100,100,(100,), dtype = torch.float32 , device = cuda0)\n",
        "y = (1.8*x) + 32\n",
        "w = torch.ones(1,requires_grad = True, device = cuda0 )\n",
        "b = torch.ones(1,requires_grad = True, device = cuda0 ) \n",
        "y_hat = (w*x ) + b\n",
        "epochs = 100000\n",
        "lr = 0.000001\n",
        "\n",
        "for i in range(epochs):\n",
        "  loss = torch.sum((y_hat - y)**2) \n",
        "  loss.backward() \n",
        "  #w -= lr*w.grad --> this will be considered as relationship\n",
        "  with torch.no_grad(): # this will switch off gradients\n",
        "    w -= lr*w.grad\n",
        "    b -= lr*b.grad\n",
        "    \n",
        "    #setting gradients to be zero\n",
        "    w.grad.zero_()\n",
        "    b.grad.zero_() \n",
        "  \n",
        "  y_hat = (w*x ) + b\n",
        "\n",
        "print(w.item(), b.item()) \n",
        "  "
      ],
      "execution_count": 0,
      "outputs": [
        {
          "output_type": "stream",
          "text": [
            "1.7999961376190186 31.995220184326172\n"
          ],
          "name": "stdout"
        }
      ]
    },
    {
      "cell_type": "code",
      "metadata": {
        "id": "-lXImjvJzhZj",
        "colab_type": "code",
        "outputId": "aaee6a25-224e-405c-b65b-58d9e529da30",
        "colab": {
          "base_uri": "https://localhost:8080/",
          "height": 52
        }
      },
      "source": [
        "x = torch.tensor([5], dtype = torch.float32, requires_grad = True ) \n",
        "y = torch.tensor([6], dtype = torch.float32, requires_grad = True ) \n",
        "print(x,y)\n",
        "#defining the function\n",
        "z = ((x**2)*y) + (x*y)\n",
        "print(z)"
      ],
      "execution_count": 0,
      "outputs": [
        {
          "output_type": "stream",
          "text": [
            "tensor([5.], requires_grad=True) tensor([6.], requires_grad=True)\n",
            "tensor([180.], grad_fn=<AddBackward0>)\n"
          ],
          "name": "stdout"
        }
      ]
    },
    {
      "cell_type": "code",
      "metadata": {
        "id": "3IIV_ldlzhVj",
        "colab_type": "code",
        "colab": {}
      },
      "source": [
        "z.backward(torch.ones_like(z))"
      ],
      "execution_count": 0,
      "outputs": []
    },
    {
      "cell_type": "code",
      "metadata": {
        "id": "NsMzdlZ3zhUA",
        "colab_type": "code",
        "outputId": "ad95d6b2-5750-4f09-b568-ff878b5e79d4",
        "colab": {
          "base_uri": "https://localhost:8080/",
          "height": 34
        }
      },
      "source": [
        "x.grad"
      ],
      "execution_count": 0,
      "outputs": [
        {
          "output_type": "execute_result",
          "data": {
            "text/plain": [
              "tensor([66.])"
            ]
          },
          "metadata": {
            "tags": []
          },
          "execution_count": 5
        }
      ]
    },
    {
      "cell_type": "code",
      "metadata": {
        "id": "g-buIyqHzhSX",
        "colab_type": "code",
        "outputId": "c2bfa789-8490-4db9-c996-f79193202d4b",
        "colab": {
          "base_uri": "https://localhost:8080/",
          "height": 34
        }
      },
      "source": [
        "y.grad"
      ],
      "execution_count": 0,
      "outputs": [
        {
          "output_type": "execute_result",
          "data": {
            "text/plain": [
              "tensor([30.])"
            ]
          },
          "metadata": {
            "tags": []
          },
          "execution_count": 6
        }
      ]
    },
    {
      "cell_type": "code",
      "metadata": {
        "id": "9KozOZ0NzhRI",
        "colab_type": "code",
        "colab": {}
      },
      "source": [
        ""
      ],
      "execution_count": 0,
      "outputs": []
    },
    {
      "cell_type": "code",
      "metadata": {
        "id": "NXshWh8bzhPa",
        "colab_type": "code",
        "colab": {}
      },
      "source": [
        ""
      ],
      "execution_count": 0,
      "outputs": []
    },
    {
      "cell_type": "code",
      "metadata": {
        "id": "H-Mk4-vwzhNs",
        "colab_type": "code",
        "colab": {}
      },
      "source": [
        ""
      ],
      "execution_count": 0,
      "outputs": []
    },
    {
      "cell_type": "code",
      "metadata": {
        "id": "L42QG3EGzhKq",
        "colab_type": "code",
        "colab": {}
      },
      "source": [
        ""
      ],
      "execution_count": 0,
      "outputs": []
    },
    {
      "cell_type": "code",
      "metadata": {
        "id": "RC0DP3M6zhJO",
        "colab_type": "code",
        "colab": {}
      },
      "source": [
        ""
      ],
      "execution_count": 0,
      "outputs": []
    },
    {
      "cell_type": "code",
      "metadata": {
        "id": "fZtY3ZmvzhHm",
        "colab_type": "code",
        "colab": {}
      },
      "source": [
        ""
      ],
      "execution_count": 0,
      "outputs": []
    },
    {
      "cell_type": "code",
      "metadata": {
        "id": "5GYJQaQCzhGI",
        "colab_type": "code",
        "colab": {}
      },
      "source": [
        ""
      ],
      "execution_count": 0,
      "outputs": []
    },
    {
      "cell_type": "code",
      "metadata": {
        "id": "S5w7M9XazhEs",
        "colab_type": "code",
        "colab": {}
      },
      "source": [
        ""
      ],
      "execution_count": 0,
      "outputs": []
    },
    {
      "cell_type": "code",
      "metadata": {
        "id": "7iKhlZDVzhDA",
        "colab_type": "code",
        "colab": {}
      },
      "source": [
        ""
      ],
      "execution_count": 0,
      "outputs": []
    },
    {
      "cell_type": "code",
      "metadata": {
        "id": "XtR6lyu0zhB-",
        "colab_type": "code",
        "colab": {}
      },
      "source": [
        ""
      ],
      "execution_count": 0,
      "outputs": []
    },
    {
      "cell_type": "code",
      "metadata": {
        "id": "zsbX5SaFzhAZ",
        "colab_type": "code",
        "colab": {}
      },
      "source": [
        ""
      ],
      "execution_count": 0,
      "outputs": []
    },
    {
      "cell_type": "code",
      "metadata": {
        "id": "9FL2v27izg_E",
        "colab_type": "code",
        "colab": {}
      },
      "source": [
        ""
      ],
      "execution_count": 0,
      "outputs": []
    },
    {
      "cell_type": "code",
      "metadata": {
        "id": "ophIMn-jzg7y",
        "colab_type": "code",
        "colab": {}
      },
      "source": [
        ""
      ],
      "execution_count": 0,
      "outputs": []
    },
    {
      "cell_type": "code",
      "metadata": {
        "id": "LZBRuwUlzg6V",
        "colab_type": "code",
        "colab": {}
      },
      "source": [
        ""
      ],
      "execution_count": 0,
      "outputs": []
    },
    {
      "cell_type": "code",
      "metadata": {
        "id": "pVsTWyOdzg4u",
        "colab_type": "code",
        "colab": {}
      },
      "source": [
        ""
      ],
      "execution_count": 0,
      "outputs": []
    },
    {
      "cell_type": "code",
      "metadata": {
        "id": "3fN29aaKzg2w",
        "colab_type": "code",
        "colab": {}
      },
      "source": [
        ""
      ],
      "execution_count": 0,
      "outputs": []
    },
    {
      "cell_type": "code",
      "metadata": {
        "id": "BnlLTDMbzgzx",
        "colab_type": "code",
        "colab": {}
      },
      "source": [
        ""
      ],
      "execution_count": 0,
      "outputs": []
    },
    {
      "cell_type": "code",
      "metadata": {
        "id": "cx6VI_tTzgvT",
        "colab_type": "code",
        "colab": {}
      },
      "source": [
        ""
      ],
      "execution_count": 0,
      "outputs": []
    }
  ]
}