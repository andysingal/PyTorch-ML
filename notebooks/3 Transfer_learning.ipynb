{
 "cells": [
  {
   "cell_type": "markdown",
   "id": "47f8bcef",
   "metadata": {},
   "source": [
    "## 3.2 Introduction to Pytorch"
   ]
  },
  {
   "cell_type": "code",
   "execution_count": 3,
   "id": "ff8e0159",
   "metadata": {},
   "outputs": [],
   "source": [
    "import torch"
   ]
  },
  {
   "cell_type": "code",
   "execution_count": null,
   "id": "b5d1cc37",
   "metadata": {},
   "outputs": [],
   "source": []
  },
  {
   "cell_type": "code",
   "execution_count": 10,
   "id": "ae33d962",
   "metadata": {},
   "outputs": [
    {
     "name": "stdout",
     "output_type": "stream",
     "text": [
      "Shape of tensor([0, 1, 2, 3, 4]) is torch.Size([5]) and dimension is 1\n"
     ]
    }
   ],
   "source": [
    "# 1-dimensional tensor\n",
    "\n",
    "one_d_tensor = torch.LongTensor([0, 1, 2, 3, 4])\n",
    "\n",
    "print(f'Shape of {one_d_tensor} is {one_d_tensor.shape} and dimension is {one_d_tensor.dim()}')"
   ]
  },
  {
   "cell_type": "code",
   "execution_count": 5,
   "id": "a8a66e9a",
   "metadata": {},
   "outputs": [
    {
     "name": "stdout",
     "output_type": "stream",
     "text": [
      "Shape of tensor([0, 1, 2]) is torch.Size([3]) and dimension is 1\n"
     ]
    }
   ],
   "source": [
    "# another 1-dimensional tensor\n",
    "\n",
    "one_d_tensor = torch.LongTensor([0, 1, 2])\n",
    "\n",
    "print(f'Shape of {one_d_tensor} is {one_d_tensor.shape} and dimension is {one_d_tensor.dim()}')"
   ]
  },
  {
   "cell_type": "code",
   "execution_count": 11,
   "id": "5a503393",
   "metadata": {},
   "outputs": [
    {
     "name": "stdout",
     "output_type": "stream",
     "text": [
      "torch.Size([3, 3])\n",
      "Shape of tensor([[0, 1, 2],\n",
      "        [3, 4, 5],\n",
      "        [6, 7, 8]]) is torch.Size([3, 3]) and dimension is 2\n"
     ]
    }
   ],
   "source": [
    "# 2-dimensional tensor\n",
    "\n",
    "two_d_tensor = torch.LongTensor([[0, 1, 2], [3, 4, 5], [6, 7, 8]])\n",
    "\n",
    "print(two_d_tensor.shape)\n",
    "\n",
    "print(f'Shape of {two_d_tensor} is {two_d_tensor.shape} and dimension is {two_d_tensor.dim()}')"
   ]
  },
  {
   "cell_type": "code",
   "execution_count": 7,
   "id": "90e27b1f",
   "metadata": {},
   "outputs": [
    {
     "name": "stdout",
     "output_type": "stream",
     "text": [
      "Shape of tensor([0, 1, 2]) is torch.Size([3]) and dimension is 1\n",
      "Shape of tensor([[0, 1, 2]]) is torch.Size([1, 3]) and dimension is 2\n"
     ]
    }
   ],
   "source": [
    "one_d_tensor = torch.LongTensor([0, 1, 2])\n",
    "\n",
    "print(f'Shape of {one_d_tensor} is {one_d_tensor.shape} and dimension is {one_d_tensor.dim()}')\n",
    "\n",
    "# convert 1-dimensional tensor to 2-dimensional tensor by forcing a dimension in the front\n",
    "# this is useful when we want to force a \"batch\" dimension if we want to predict a single example\n",
    "two_d_tensor = one_d_tensor.unsqueeze(0)\n",
    "\n",
    "print(f'Shape of {two_d_tensor} is {two_d_tensor.shape} and dimension is {two_d_tensor.dim()}')"
   ]
  },
  {
   "cell_type": "code",
   "execution_count": null,
   "id": "4383f4ea",
   "metadata": {},
   "outputs": [],
   "source": []
  },
  {
   "cell_type": "code",
   "execution_count": 8,
   "id": "b37e5b16",
   "metadata": {},
   "outputs": [
    {
     "data": {
      "text/plain": [
       "array([[0, 1, 2]])"
      ]
     },
     "execution_count": 8,
     "metadata": {},
     "output_type": "execute_result"
    }
   ],
   "source": [
    "# convert from pytorch to numpy\n",
    "\n",
    "two_d_tensor.numpy()"
   ]
  },
  {
   "cell_type": "code",
   "execution_count": 9,
   "id": "41f80bc2",
   "metadata": {},
   "outputs": [
    {
     "data": {
      "text/plain": [
       "array([[0, 1, 2]])"
      ]
     },
     "execution_count": 9,
     "metadata": {},
     "output_type": "execute_result"
    }
   ],
   "source": [
    "# convert from pytorch to numpy with detach which removes a tensor from a computation graph (will be useful later)\n",
    "\n",
    "two_d_tensor.detach().numpy()"
   ]
  },
  {
   "cell_type": "code",
   "execution_count": null,
   "id": "2ab4ff7c",
   "metadata": {},
   "outputs": [],
   "source": []
  }
 ],
 "metadata": {
  "kernelspec": {
   "display_name": "Python 3 (ipykernel)",
   "language": "python",
   "name": "python3"
  },
  "language_info": {
   "codemirror_mode": {
    "name": "ipython",
    "version": 3
   },
   "file_extension": ".py",
   "mimetype": "text/x-python",
   "name": "python",
   "nbconvert_exporter": "python",
   "pygments_lexer": "ipython3",
   "version": "3.9.10"
  }
 },
 "nbformat": 4,
 "nbformat_minor": 5
}
