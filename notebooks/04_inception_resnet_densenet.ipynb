{
  "cells": [
    {
      "cell_type": "markdown",
      "id": "a81a61d7",
      "metadata": {
        "papermill": {
          "duration": 0.015598,
          "end_time": "2023-10-11T15:54:14.530964",
          "exception": false,
          "start_time": "2023-10-11T15:54:14.515366",
          "status": "completed"
        },
        "tags": [],
        "id": "a81a61d7"
      },
      "source": [
        "\n",
        "# Tutorial 4: Inception, ResNet and DenseNet\n",
        "\n",
        "* **Author:** Phillip Lippe\n",
        "* **License:** CC BY-SA\n",
        "* **Generated:** 2023-10-11T15:52:08.366033\n",
        "\n",
        "In this tutorial, we will implement and discuss variants of modern CNN architectures.\n",
        "There have been many different architectures been proposed over the past few years.\n",
        "Some of the most impactful ones, and still relevant today, are the following: [GoogleNet](https://arxiv.org/abs/1409.4842)/Inception architecture (winner of ILSVRC 2014), [ResNet](https://arxiv.org/abs/1512.03385) (winner of ILSVRC 2015), and [DenseNet](https://arxiv.org/abs/1608.06993) (best paper award CVPR 2017).\n",
        "All of them were state-of-the-art models when being proposed, and the core ideas of these networks are the foundations for most current state-of-the-art architectures.\n",
        "Thus, it is important to understand these architectures in detail and learn how to implement them.\n",
        "This notebook is part of a lecture series on Deep Learning at the University of Amsterdam.\n",
        "The full list of tutorials can be found at https://uvadlc-notebooks.rtfd.io.\n",
        "\n",
        "\n",
        "---\n",
        "Open in [![Open In Colab](data:image/png;base64,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){height=\"20px\" width=\"117px\"}](https://colab.research.google.com/github/PytorchLightning/lightning-tutorials/blob/publication/.notebooks/course_UvA-DL/04-inception-resnet-densenet.ipynb)\n",
        "\n",
        "Give us a ⭐ [on Github](https://www.github.com/Lightning-AI/lightning/)\n",
        "| Check out [the documentation](https://pytorch-lightning.readthedocs.io/en/stable/)\n",
        "| Join us [on Slack](https://www.pytorchlightning.ai/community)"
      ]
    },
    {
      "cell_type": "markdown",
      "id": "b69e1c60",
      "metadata": {
        "papermill": {
          "duration": 0.012991,
          "end_time": "2023-10-11T15:54:14.557129",
          "exception": false,
          "start_time": "2023-10-11T15:54:14.544138",
          "status": "completed"
        },
        "tags": [],
        "id": "b69e1c60"
      },
      "source": [
        "## Setup\n",
        "This notebook requires some packages besides pytorch-lightning."
      ]
    },
    {
      "cell_type": "code",
      "execution_count": null,
      "id": "528f2f44",
      "metadata": {
        "execution": {
          "iopub.execute_input": "2023-10-11T15:54:14.583998Z",
          "iopub.status.busy": "2023-10-11T15:54:14.583698Z",
          "iopub.status.idle": "2023-10-11T15:55:46.930414Z",
          "shell.execute_reply": "2023-10-11T15:55:46.928994Z"
        },
        "id": "528f2f44",
        "lines_to_next_cell": 0,
        "papermill": {
          "duration": 92.363343,
          "end_time": "2023-10-11T15:55:46.933260",
          "exception": false,
          "start_time": "2023-10-11T15:54:14.569917",
          "status": "completed"
        },
        "tags": [],
        "outputId": "1a513e94-4ef2-49db-ce6c-ccc34cdb2786"
      },
      "outputs": [
        {
          "name": "stdout",
          "output_type": "stream",
          "text": [
            "\u001b[33mWARNING: Running pip as the 'root' user can result in broken permissions and conflicting behaviour with the system package manager. It is recommended to use a virtual environment instead: https://pip.pypa.io/warnings/venv\u001b[0m\u001b[33m\r\n",
            "\u001b[0m"
          ]
        }
      ],
      "source": [
        "! pip install --quiet \"ipython[notebook]>=8.0.0, <8.17.0\" \"pytorch-lightning>=1.4, <2.1.0\" \"setuptools>=68.0.0, <68.3.0\" \"seaborn\" \"matplotlib\" \"tensorboard\" \"torchmetrics>=0.7, <1.3\" \"matplotlib>=3.0.0, <3.9.0\" \"tabulate\" \"lightning>=2.0.0\" \"urllib3\" \"torch>=1.8.1, <2.1.0\" \"torchvision\""
      ]
    },
    {
      "cell_type": "markdown",
      "id": "1ab7b907",
      "metadata": {
        "papermill": {
          "duration": 0.020834,
          "end_time": "2023-10-11T15:55:46.975273",
          "exception": false,
          "start_time": "2023-10-11T15:55:46.954439",
          "status": "completed"
        },
        "tags": [],
        "id": "1ab7b907"
      },
      "source": [
        "<div class=\"center-wrapper\"><div class=\"video-wrapper\"><iframe src=\"https://www.youtube.com/embed/vjSSyGxlczs\" title=\"YouTube video player\" frameborder=\"0\" allow=\"accelerometer; autoplay; clipboard-write; encrypted-media; gyroscope; picture-in-picture\" allowfullscreen></iframe></div></div>\n",
        "Let's start with importing our standard libraries here."
      ]
    },
    {
      "cell_type": "code",
      "execution_count": null,
      "id": "bd154077",
      "metadata": {
        "execution": {
          "iopub.execute_input": "2023-10-11T15:55:47.005564Z",
          "iopub.status.busy": "2023-10-11T15:55:47.005157Z",
          "iopub.status.idle": "2023-10-11T15:55:50.951181Z",
          "shell.execute_reply": "2023-10-11T15:55:50.949811Z"
        },
        "papermill": {
          "duration": 3.96352,
          "end_time": "2023-10-11T15:55:50.954171",
          "exception": false,
          "start_time": "2023-10-11T15:55:46.990651",
          "status": "completed"
        },
        "tags": [],
        "id": "bd154077"
      },
      "outputs": [],
      "source": [
        "import os\n",
        "import urllib.request\n",
        "from types import SimpleNamespace\n",
        "from urllib.error import HTTPError\n",
        "\n",
        "import lightning as L\n",
        "import matplotlib\n",
        "import matplotlib.pyplot as plt\n",
        "import matplotlib_inline.backend_inline\n",
        "import numpy as np\n",
        "import seaborn as sns\n",
        "import tabulate\n",
        "import torch\n",
        "import torch.nn as nn\n",
        "import torch.optim as optim\n",
        "import torch.utils.data as data\n",
        "import torchvision\n",
        "\n",
        "%matplotlib inline\n",
        "from IPython.display import HTML, display\n",
        "from lightning.pytorch.callbacks import LearningRateMonitor, ModelCheckpoint\n",
        "from PIL import Image\n",
        "from torchvision import transforms\n",
        "from torchvision.datasets import CIFAR10\n",
        "\n",
        "matplotlib_inline.backend_inline.set_matplotlib_formats(\"svg\", \"pdf\")  # For export\n",
        "matplotlib.rcParams[\"lines.linewidth\"] = 2.0\n",
        "sns.reset_orig()\n",
        "\n",
        "# PyTorch\n",
        "# Torchvision"
      ]
    },
    {
      "cell_type": "markdown",
      "id": "d6b37267",
      "metadata": {
        "papermill": {
          "duration": 0.048019,
          "end_time": "2023-10-11T15:55:51.023477",
          "exception": false,
          "start_time": "2023-10-11T15:55:50.975458",
          "status": "completed"
        },
        "tags": [],
        "id": "d6b37267"
      },
      "source": [
        "We will use the same `set_seed` function as in the previous tutorials, as well as the path variables `DATASET_PATH` and `CHECKPOINT_PATH`.\n",
        "Adjust the paths if necessary."
      ]
    },
    {
      "cell_type": "code",
      "execution_count": null,
      "id": "6db4fa60",
      "metadata": {
        "execution": {
          "iopub.execute_input": "2023-10-11T15:55:51.047299Z",
          "iopub.status.busy": "2023-10-11T15:55:51.046672Z",
          "iopub.status.idle": "2023-10-11T15:55:51.144219Z",
          "shell.execute_reply": "2023-10-11T15:55:51.143009Z"
        },
        "papermill": {
          "duration": 0.110332,
          "end_time": "2023-10-11T15:55:51.146228",
          "exception": false,
          "start_time": "2023-10-11T15:55:51.035896",
          "status": "completed"
        },
        "tags": [],
        "id": "6db4fa60",
        "outputId": "26d2fdc1-52ff-469c-f0de-cf074911a49d"
      },
      "outputs": [
        {
          "name": "stderr",
          "output_type": "stream",
          "text": [
            "Global seed set to 42\n"
          ]
        }
      ],
      "source": [
        "# Path to the folder where the datasets are/should be downloaded (e.g. CIFAR10)\n",
        "DATASET_PATH = os.environ.get(\"PATH_DATASETS\", \"data/\")\n",
        "# Path to the folder where the pretrained models are saved\n",
        "CHECKPOINT_PATH = os.environ.get(\"PATH_CHECKPOINT\", \"saved_models/ConvNets\")\n",
        "\n",
        "\n",
        "# Function for setting the seed\n",
        "L.seed_everything(42)\n",
        "\n",
        "# Ensure that all operations are deterministic on GPU (if used) for reproducibility\n",
        "torch.backends.cudnn.deterministic = True\n",
        "torch.backends.cudnn.benchmark = False\n",
        "\n",
        "device = torch.device(\"cuda:0\") if torch.cuda.is_available() else torch.device(\"cpu\")"
      ]
    },
    {
      "cell_type": "markdown",
      "id": "96744dd5",
      "metadata": {
        "papermill": {
          "duration": 0.013232,
          "end_time": "2023-10-11T15:55:51.172898",
          "exception": false,
          "start_time": "2023-10-11T15:55:51.159666",
          "status": "completed"
        },
        "tags": [],
        "id": "96744dd5"
      },
      "source": [
        "We also have pretrained models and Tensorboards (more on this later) for this tutorial, and download them below."
      ]
    },
    {
      "cell_type": "code",
      "execution_count": null,
      "id": "ddd94220",
      "metadata": {
        "execution": {
          "iopub.execute_input": "2023-10-11T15:55:51.201166Z",
          "iopub.status.busy": "2023-10-11T15:55:51.200768Z",
          "iopub.status.idle": "2023-10-11T15:55:52.788502Z",
          "shell.execute_reply": "2023-10-11T15:55:52.787131Z"
        },
        "papermill": {
          "duration": 1.605066,
          "end_time": "2023-10-11T15:55:52.791233",
          "exception": false,
          "start_time": "2023-10-11T15:55:51.186167",
          "status": "completed"
        },
        "tags": [],
        "id": "ddd94220",
        "outputId": "f5cbab16-5efc-4581-ac75-8460de50d7b7"
      },
      "outputs": [
        {
          "name": "stdout",
          "output_type": "stream",
          "text": [
            "Downloading https://raw.githubusercontent.com/phlippe/saved_models/main/tutorial5/GoogleNet.ckpt...\n",
            "Downloading https://raw.githubusercontent.com/phlippe/saved_models/main/tutorial5/ResNet.ckpt...\n"
          ]
        },
        {
          "name": "stdout",
          "output_type": "stream",
          "text": [
            "Downloading https://raw.githubusercontent.com/phlippe/saved_models/main/tutorial5/ResNetPreAct.ckpt...\n"
          ]
        },
        {
          "name": "stdout",
          "output_type": "stream",
          "text": [
            "Downloading https://raw.githubusercontent.com/phlippe/saved_models/main/tutorial5/DenseNet.ckpt...\n",
            "Downloading https://raw.githubusercontent.com/phlippe/saved_models/main/tutorial5/tensorboards/GoogleNet/events.out.tfevents.googlenet...\n"
          ]
        },
        {
          "name": "stdout",
          "output_type": "stream",
          "text": [
            "Downloading https://raw.githubusercontent.com/phlippe/saved_models/main/tutorial5/tensorboards/ResNet/events.out.tfevents.resnet...\n"
          ]
        },
        {
          "name": "stdout",
          "output_type": "stream",
          "text": [
            "Downloading https://raw.githubusercontent.com/phlippe/saved_models/main/tutorial5/tensorboards/ResNetPreAct/events.out.tfevents.resnetpreact...\n",
            "Downloading https://raw.githubusercontent.com/phlippe/saved_models/main/tutorial5/tensorboards/DenseNet/events.out.tfevents.densenet...\n"
          ]
        }
      ],
      "source": [
        "# Github URL where saved models are stored for this tutorial\n",
        "base_url = \"https://raw.githubusercontent.com/phlippe/saved_models/main/tutorial5/\"\n",
        "# Files to download\n",
        "pretrained_files = [\n",
        "    \"GoogleNet.ckpt\",\n",
        "    \"ResNet.ckpt\",\n",
        "    \"ResNetPreAct.ckpt\",\n",
        "    \"DenseNet.ckpt\",\n",
        "    \"tensorboards/GoogleNet/events.out.tfevents.googlenet\",\n",
        "    \"tensorboards/ResNet/events.out.tfevents.resnet\",\n",
        "    \"tensorboards/ResNetPreAct/events.out.tfevents.resnetpreact\",\n",
        "    \"tensorboards/DenseNet/events.out.tfevents.densenet\",\n",
        "]\n",
        "# Create checkpoint path if it doesn't exist yet\n",
        "os.makedirs(CHECKPOINT_PATH, exist_ok=True)\n",
        "\n",
        "# For each file, check whether it already exists. If not, try downloading it.\n",
        "for file_name in pretrained_files:\n",
        "    file_path = os.path.join(CHECKPOINT_PATH, file_name)\n",
        "    if \"/\" in file_name:\n",
        "        os.makedirs(file_path.rsplit(\"/\", 1)[0], exist_ok=True)\n",
        "    if not os.path.isfile(file_path):\n",
        "        file_url = base_url + file_name\n",
        "        print(f\"Downloading {file_url}...\")\n",
        "        try:\n",
        "            urllib.request.urlretrieve(file_url, file_path)\n",
        "        except HTTPError as e:\n",
        "            print(\n",
        "                \"Something went wrong. Please try to download the file from the GDrive folder, or contact the author with the full output including the following error:\\n\",\n",
        "                e,\n",
        "            )"
      ]
    },
    {
      "cell_type": "markdown",
      "id": "ec3d1c1c",
      "metadata": {
        "papermill": {
          "duration": 0.022059,
          "end_time": "2023-10-11T15:55:52.835806",
          "exception": false,
          "start_time": "2023-10-11T15:55:52.813747",
          "status": "completed"
        },
        "tags": [],
        "id": "ec3d1c1c"
      },
      "source": [
        "Throughout this tutorial, we will train and evaluate the models on the CIFAR10 dataset.\n",
        "This allows you to compare the results obtained here with the model you have implemented in the first assignment.\n",
        "As we have learned from the previous tutorial about initialization, it is important to have the data preprocessed with a zero mean.\n",
        "Therefore, as a first step, we will calculate the mean and standard deviation of the CIFAR dataset:"
      ]
    },
    {
      "cell_type": "code",
      "execution_count": null,
      "id": "38a54fa0",
      "metadata": {
        "execution": {
          "iopub.execute_input": "2023-10-11T15:55:52.869802Z",
          "iopub.status.busy": "2023-10-11T15:55:52.869415Z",
          "iopub.status.idle": "2023-10-11T15:56:02.000333Z",
          "shell.execute_reply": "2023-10-11T15:56:01.998647Z"
        },
        "papermill": {
          "duration": 9.151238,
          "end_time": "2023-10-11T15:56:02.002992",
          "exception": false,
          "start_time": "2023-10-11T15:55:52.851754",
          "status": "completed"
        },
        "tags": [],
        "id": "38a54fa0",
        "outputId": "b7ac75dc-5e5c-46e5-cc26-75b1e3db4bf0"
      },
      "outputs": [
        {
          "name": "stdout",
          "output_type": "stream",
          "text": [
            "Downloading https://www.cs.toronto.edu/~kriz/cifar-10-python.tar.gz to /__w/15/s/.datasets/cifar-10-python.tar.gz\n"
          ]
        },
        {
          "name": "stderr",
          "output_type": "stream",
          "text": [
            "\r",
            "  0%|          | 0/170498071 [00:00<?, ?it/s]"
          ]
        },
        {
          "name": "stderr",
          "output_type": "stream",
          "text": [
            "\r",
            "  0%|          | 98304/170498071 [00:00<03:36, 788062.88it/s]"
          ]
        },
        {
          "name": "stderr",
          "output_type": "stream",
          "text": [
            "\r",
            "  0%|          | 753664/170498071 [00:00<00:43, 3861090.86it/s]"
          ]
        },
        {
          "name": "stderr",
          "output_type": "stream",
          "text": [
            "\r",
            "  1%|▏         | 2392064/170498071 [00:00<00:18, 9219069.08it/s]"
          ]
        },
        {
          "name": "stderr",
          "output_type": "stream",
          "text": [
            "\r",
            "  3%|▎         | 5668864/170498071 [00:00<00:09, 18153971.91it/s]"
          ]
        },
        {
          "name": "stderr",
          "output_type": "stream",
          "text": [
            "\r",
            "  6%|▌         | 9437184/170498071 [00:00<00:06, 24943367.54it/s]"
          ]
        },
        {
          "name": "stderr",
          "output_type": "stream",
          "text": [
            "\r",
            "  8%|▊         | 13107200/170498071 [00:00<00:05, 28815058.94it/s]"
          ]
        },
        {
          "name": "stderr",
          "output_type": "stream",
          "text": [
            "\r",
            " 11%|█         | 17989632/170498071 [00:00<00:04, 35246405.44it/s]"
          ]
        },
        {
          "name": "stderr",
          "output_type": "stream",
          "text": [
            "\r",
            " 13%|█▎        | 22282240/170498071 [00:00<00:03, 37619073.93it/s]"
          ]
        },
        {
          "name": "stderr",
          "output_type": "stream",
          "text": [
            "\r",
            " 16%|█▌        | 27099136/170498071 [00:00<00:03, 40819698.46it/s]"
          ]
        },
        {
          "name": "stderr",
          "output_type": "stream",
          "text": [
            "\r",
            " 18%|█▊        | 31227904/170498071 [00:01<00:03, 40350908.84it/s]"
          ]
        },
        {
          "name": "stderr",
          "output_type": "stream",
          "text": [
            "\r",
            " 21%|██        | 36077568/170498071 [00:01<00:03, 42782390.16it/s]"
          ]
        },
        {
          "name": "stderr",
          "output_type": "stream",
          "text": [
            "\r",
            " 24%|██▎       | 40370176/170498071 [00:01<00:03, 42120084.32it/s]"
          ]
        },
        {
          "name": "stderr",
          "output_type": "stream",
          "text": [
            "\r",
            " 27%|██▋       | 45318144/170498071 [00:01<00:03, 40643278.65it/s]"
          ]
        },
        {
          "name": "stderr",
          "output_type": "stream",
          "text": [
            "\r",
            " 29%|██▉       | 49414144/170498071 [00:01<00:03, 38383918.82it/s]"
          ]
        },
        {
          "name": "stderr",
          "output_type": "stream",
          "text": [
            "\r",
            " 32%|███▏      | 54099968/170498071 [00:01<00:02, 40686620.21it/s]"
          ]
        },
        {
          "name": "stderr",
          "output_type": "stream",
          "text": [
            "\r",
            " 35%|███▍      | 58884096/170498071 [00:01<00:02, 42651777.77it/s]"
          ]
        },
        {
          "name": "stderr",
          "output_type": "stream",
          "text": [
            "\r",
            " 37%|███▋      | 63602688/170498071 [00:01<00:02, 43884142.14it/s]"
          ]
        },
        {
          "name": "stderr",
          "output_type": "stream",
          "text": [
            "\r",
            " 40%|████      | 68452352/170498071 [00:01<00:02, 45182902.12it/s]"
          ]
        },
        {
          "name": "stderr",
          "output_type": "stream",
          "text": [
            "\r",
            " 43%|████▎     | 73203712/170498071 [00:01<00:02, 45830879.55it/s]"
          ]
        },
        {
          "name": "stderr",
          "output_type": "stream",
          "text": [
            "\r",
            " 46%|████▌     | 78020608/170498071 [00:02<00:01, 46497918.90it/s]"
          ]
        },
        {
          "name": "stderr",
          "output_type": "stream",
          "text": [
            "\r",
            " 49%|████▊     | 82837504/170498071 [00:02<00:01, 46949752.86it/s]"
          ]
        },
        {
          "name": "stderr",
          "output_type": "stream",
          "text": [
            "\r",
            " 51%|█████▏    | 87588864/170498071 [00:02<00:01, 47114768.41it/s]"
          ]
        },
        {
          "name": "stderr",
          "output_type": "stream",
          "text": [
            "\r",
            " 54%|█████▍    | 92340224/170498071 [00:02<00:01, 44806915.33it/s]"
          ]
        },
        {
          "name": "stderr",
          "output_type": "stream",
          "text": [
            "\r",
            " 57%|█████▋    | 96862208/170498071 [00:02<00:01, 41564079.68it/s]"
          ]
        },
        {
          "name": "stderr",
          "output_type": "stream",
          "text": [
            "\r",
            " 59%|█████▉    | 101285888/170498071 [00:02<00:01, 42146612.68it/s]"
          ]
        },
        {
          "name": "stderr",
          "output_type": "stream",
          "text": [
            "\r",
            " 62%|██████▏   | 105578496/170498071 [00:02<00:01, 40762857.83it/s]"
          ]
        },
        {
          "name": "stderr",
          "output_type": "stream",
          "text": [
            "\r",
            " 64%|██████▍   | 109707264/170498071 [00:02<00:01, 40395305.70it/s]"
          ]
        },
        {
          "name": "stderr",
          "output_type": "stream",
          "text": [
            "\r",
            " 67%|██████▋   | 113803264/170498071 [00:02<00:01, 39526949.13it/s]"
          ]
        },
        {
          "name": "stderr",
          "output_type": "stream",
          "text": [
            "\r",
            " 69%|██████▉   | 117964800/170498071 [00:03<00:01, 40025037.42it/s]"
          ]
        },
        {
          "name": "stderr",
          "output_type": "stream",
          "text": [
            "\r",
            " 72%|███████▏  | 121995264/170498071 [00:03<00:01, 39525081.45it/s]"
          ]
        },
        {
          "name": "stderr",
          "output_type": "stream",
          "text": [
            "\r",
            " 74%|███████▍  | 125960192/170498071 [00:03<00:01, 39305918.42it/s]"
          ]
        },
        {
          "name": "stderr",
          "output_type": "stream",
          "text": [
            "\r",
            " 76%|███████▌  | 129925120/170498071 [00:03<00:01, 38646685.54it/s]"
          ]
        },
        {
          "name": "stderr",
          "output_type": "stream",
          "text": [
            "\r",
            " 79%|███████▊  | 134152192/170498071 [00:03<00:00, 39551506.14it/s]"
          ]
        },
        {
          "name": "stderr",
          "output_type": "stream",
          "text": [
            "\r",
            " 81%|████████  | 138117120/170498071 [00:03<00:00, 37815998.01it/s]"
          ]
        },
        {
          "name": "stderr",
          "output_type": "stream",
          "text": [
            "\r",
            " 83%|████████▎ | 142147584/170498071 [00:03<00:00, 38412336.22it/s]"
          ]
        },
        {
          "name": "stderr",
          "output_type": "stream",
          "text": [
            "\r",
            " 86%|████████▌ | 146014208/170498071 [00:03<00:00, 37422799.98it/s]"
          ]
        },
        {
          "name": "stderr",
          "output_type": "stream",
          "text": [
            "\r",
            " 88%|████████▊ | 150372352/170498071 [00:03<00:00, 39130268.44it/s]"
          ]
        },
        {
          "name": "stderr",
          "output_type": "stream",
          "text": [
            "\r",
            " 91%|█████████ | 154304512/170498071 [00:04<00:00, 38946869.41it/s]"
          ]
        },
        {
          "name": "stderr",
          "output_type": "stream",
          "text": [
            "\r",
            " 93%|█████████▎| 158760960/170498071 [00:04<00:00, 40574141.45it/s]"
          ]
        },
        {
          "name": "stderr",
          "output_type": "stream",
          "text": [
            "\r",
            " 96%|█████████▌| 162856960/170498071 [00:04<00:00, 38245576.29it/s]"
          ]
        },
        {
          "name": "stderr",
          "output_type": "stream",
          "text": [
            "\r",
            " 98%|█████████▊| 166789120/170498071 [00:04<00:00, 38445631.21it/s]"
          ]
        },
        {
          "name": "stderr",
          "output_type": "stream",
          "text": [
            "\r",
            "100%|██████████| 170498071/170498071 [00:04<00:00, 38484263.46it/s]"
          ]
        },
        {
          "name": "stderr",
          "output_type": "stream",
          "text": [
            "\n"
          ]
        },
        {
          "name": "stdout",
          "output_type": "stream",
          "text": [
            "Extracting /__w/15/s/.datasets/cifar-10-python.tar.gz to /__w/15/s/.datasets\n"
          ]
        },
        {
          "name": "stdout",
          "output_type": "stream",
          "text": [
            "Data mean [0.49139968 0.48215841 0.44653091]\n",
            "Data std [0.24703223 0.24348513 0.26158784]\n"
          ]
        }
      ],
      "source": [
        "train_dataset = CIFAR10(root=DATASET_PATH, train=True, download=True)\n",
        "DATA_MEANS = (train_dataset.data / 255.0).mean(axis=(0, 1, 2))\n",
        "DATA_STD = (train_dataset.data / 255.0).std(axis=(0, 1, 2))\n",
        "print(\"Data mean\", DATA_MEANS)\n",
        "print(\"Data std\", DATA_STD)"
      ]
    },
    {
      "cell_type": "markdown",
      "id": "35dfa248",
      "metadata": {
        "papermill": {
          "duration": 0.025819,
          "end_time": "2023-10-11T15:56:02.056495",
          "exception": false,
          "start_time": "2023-10-11T15:56:02.030676",
          "status": "completed"
        },
        "tags": [],
        "id": "35dfa248"
      },
      "source": [
        "We will use this information to define a `transforms.Normalize` module which will normalize our data accordingly.\n",
        "Additionally, we will use data augmentation during training.\n",
        "This reduces the risk of overfitting and helps CNNs to generalize better.\n",
        "Specifically, we will apply two random augmentations.\n",
        "\n",
        "First, we will flip each image horizontally by a chance of 50% (`transforms.RandomHorizontalFlip`).\n",
        "The object class usually does not change when flipping an image, and we don't expect any image information to be dependent on the horizontal orientation.\n",
        "This would be however different if we would try to detect digits or letters in an image, as those have a certain orientation.\n",
        "\n",
        "The second augmentation we use is called `transforms.RandomResizedCrop`.\n",
        "This transformation scales the image in a small range, while eventually changing the aspect ratio, and crops it afterward in the previous size.\n",
        "Therefore, the actual pixel values change while the content or overall semantics of the image stays the same.\n",
        "\n",
        "We will randomly split the training dataset into a training and a validation set.\n",
        "The validation set will be used for determining early stopping.\n",
        "After finishing the training, we test the models on the CIFAR test set."
      ]
    },
    {
      "cell_type": "code",
      "execution_count": null,
      "id": "804963cc",
      "metadata": {
        "execution": {
          "iopub.execute_input": "2023-10-11T15:56:02.090446Z",
          "iopub.status.busy": "2023-10-11T15:56:02.090212Z",
          "iopub.status.idle": "2023-10-11T15:56:04.352018Z",
          "shell.execute_reply": "2023-10-11T15:56:04.351005Z"
        },
        "papermill": {
          "duration": 2.280751,
          "end_time": "2023-10-11T15:56:04.354016",
          "exception": false,
          "start_time": "2023-10-11T15:56:02.073265",
          "status": "completed"
        },
        "tags": [],
        "id": "804963cc",
        "outputId": "117ed4f5-d0c6-476a-93f6-22980d29665a"
      },
      "outputs": [
        {
          "name": "stdout",
          "output_type": "stream",
          "text": [
            "Files already downloaded and verified\n"
          ]
        },
        {
          "name": "stdout",
          "output_type": "stream",
          "text": [
            "Files already downloaded and verified\n"
          ]
        },
        {
          "name": "stderr",
          "output_type": "stream",
          "text": [
            "Global seed set to 42\n"
          ]
        },
        {
          "name": "stderr",
          "output_type": "stream",
          "text": [
            "Global seed set to 42\n"
          ]
        },
        {
          "name": "stdout",
          "output_type": "stream",
          "text": [
            "Files already downloaded and verified\n"
          ]
        }
      ],
      "source": [
        "test_transform = transforms.Compose([transforms.ToTensor(), transforms.Normalize(DATA_MEANS, DATA_STD)])\n",
        "# For training, we add some augmentation. Networks are too powerful and would overfit.\n",
        "train_transform = transforms.Compose(\n",
        "    [\n",
        "        transforms.RandomHorizontalFlip(),\n",
        "        transforms.RandomResizedCrop((32, 32), scale=(0.8, 1.0), ratio=(0.9, 1.1)),\n",
        "        transforms.ToTensor(),\n",
        "        transforms.Normalize(DATA_MEANS, DATA_STD),\n",
        "    ]\n",
        ")\n",
        "# Loading the training dataset. We need to split it into a training and validation part\n",
        "# We need to do a little trick because the validation set should not use the augmentation.\n",
        "train_dataset = CIFAR10(root=DATASET_PATH, train=True, transform=train_transform, download=True)\n",
        "val_dataset = CIFAR10(root=DATASET_PATH, train=True, transform=test_transform, download=True)\n",
        "L.seed_everything(42)\n",
        "train_set, _ = torch.utils.data.random_split(train_dataset, [45000, 5000])\n",
        "L.seed_everything(42)\n",
        "_, val_set = torch.utils.data.random_split(val_dataset, [45000, 5000])\n",
        "\n",
        "# Loading the test set\n",
        "test_set = CIFAR10(root=DATASET_PATH, train=False, transform=test_transform, download=True)\n",
        "\n",
        "# We define a set of data loaders that we can use for various purposes later.\n",
        "train_loader = data.DataLoader(train_set, batch_size=128, shuffle=True, drop_last=True, pin_memory=True, num_workers=4)\n",
        "val_loader = data.DataLoader(val_set, batch_size=128, shuffle=False, drop_last=False, num_workers=4)\n",
        "test_loader = data.DataLoader(test_set, batch_size=128, shuffle=False, drop_last=False, num_workers=4)"
      ]
    },
    {
      "cell_type": "markdown",
      "id": "caf3c479",
      "metadata": {
        "papermill": {
          "duration": 0.017511,
          "end_time": "2023-10-11T15:56:04.389574",
          "exception": false,
          "start_time": "2023-10-11T15:56:04.372063",
          "status": "completed"
        },
        "tags": [],
        "id": "caf3c479"
      },
      "source": [
        "To verify that our normalization works, we can print out the mean and standard deviation of the single batch.\n",
        "The mean should be close to 0 and the standard deviation close to 1 for each channel:"
      ]
    },
    {
      "cell_type": "code",
      "execution_count": null,
      "id": "7b783cde",
      "metadata": {
        "execution": {
          "iopub.execute_input": "2023-10-11T15:56:04.424030Z",
          "iopub.status.busy": "2023-10-11T15:56:04.423827Z",
          "iopub.status.idle": "2023-10-11T15:56:05.400702Z",
          "shell.execute_reply": "2023-10-11T15:56:05.399684Z"
        },
        "papermill": {
          "duration": 0.995296,
          "end_time": "2023-10-11T15:56:05.402273",
          "exception": false,
          "start_time": "2023-10-11T15:56:04.406977",
          "status": "completed"
        },
        "tags": [],
        "id": "7b783cde",
        "outputId": "c567becc-0d51-4529-caf7-68295a8dc5a5"
      },
      "outputs": [
        {
          "name": "stdout",
          "output_type": "stream",
          "text": [
            "Batch mean tensor([0.0231, 0.0006, 0.0005])\n",
            "Batch std tensor([0.9865, 0.9849, 0.9868])\n"
          ]
        }
      ],
      "source": [
        "imgs, _ = next(iter(train_loader))\n",
        "print(\"Batch mean\", imgs.mean(dim=[0, 2, 3]))\n",
        "print(\"Batch std\", imgs.std(dim=[0, 2, 3]))"
      ]
    },
    {
      "cell_type": "markdown",
      "id": "14e4af6d",
      "metadata": {
        "papermill": {
          "duration": 0.01857,
          "end_time": "2023-10-11T15:56:05.438518",
          "exception": false,
          "start_time": "2023-10-11T15:56:05.419948",
          "status": "completed"
        },
        "tags": [],
        "id": "14e4af6d"
      },
      "source": [
        "Finally, let's visualize a few images from the training set, and how they look like after random data augmentation:"
      ]
    },
    {
      "cell_type": "code",
      "execution_count": null,
      "id": "26c2d363",
      "metadata": {
        "execution": {
          "iopub.execute_input": "2023-10-11T15:56:05.475430Z",
          "iopub.status.busy": "2023-10-11T15:56:05.475023Z",
          "iopub.status.idle": "2023-10-11T15:56:06.112818Z",
          "shell.execute_reply": "2023-10-11T15:56:06.112131Z"
        },
        "papermill": {
          "duration": 0.657212,
          "end_time": "2023-10-11T15:56:06.114085",
          "exception": false,
          "start_time": "2023-10-11T15:56:05.456873",
          "status": "completed"
        },
        "tags": [],
        "id": "26c2d363",
        "outputId": "a5d3eb8e-f7b4-4f06-ef8b-3597641c1c7f"
      },
      "outputs": [
        {
          "data": {
            "application/pdf": "[encoded data removed]",
            "image/svg+xml": [
              "<?xml version=\"1.0\" encoding=\"utf-8\" standalone=\"no\"?>\n",
              "<!DOCTYPE svg PUBLIC \"-//W3C//DTD SVG 1.1//EN\"\n",
              "  \"http://www.w3.org/Graphics/SVG/1.1/DTD/svg11.dtd\">\n",
              "<svg xmlns:xlink=\"http://www.w3.org/1999/xlink\" width=\"460.8pt\" height=\"255.952908pt\" viewBox=\"0 0 460.8 255.952908\" xmlns=\"http://www.w3.org/2000/svg\" version=\"1.1\">\n",
              " <metadata>\n",
              "  <rdf:RDF xmlns:dc=\"http://purl.org/dc/elements/1.1/\" xmlns:cc=\"http://creativecommons.org/ns#\" xmlns:rdf=\"http://www.w3.org/1999/02/22-rdf-syntax-ns#\">\n",
              "   <cc:Work>\n",
              "    <dc:type rdf:resource=\"http://purl.org/dc/dcmitype/StillImage\"/>\n",
              "    <dc:date>2023-10-11T15:56:05.633158</dc:date>\n",
              "    <dc:format>image/svg+xml</dc:format>\n",
              "    <dc:creator>\n",
              "     <cc:Agent>\n",
              "      <dc:title>Matplotlib v3.8.0, https://matplotlib.org/</dc:title>\n",
              "     </cc:Agent>\n",
              "    </dc:creator>\n",
              "   </cc:Work>\n",
              "  </rdf:RDF>\n",
              " </metadata>\n",
              " <defs>\n",
              "  <style type=\"text/css\">*{stroke-linejoin: round; stroke-linecap: butt}</style>\n",
              " </defs>\n",
              " <g id=\"figure_1\">\n",
              "  <g id=\"patch_1\">\n",
              "   <path d=\"M 0 255.952908 \n",
              "L 460.8 255.952908 \n",
              "L 460.8 0 \n",
              "L 0 0 \n",
              "z\n",
              "\" style=\"fill: #ffffff\"/>\n",
              "  </g>\n",
              "  <g id=\"axes_1\">\n",
              "   <g clip-path=\"url(#pd63cd677ce)\">\n",
              "    <image xlink:href=\"data:image/png;base64,\n",
              "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\" id=\"image84418012e6\" transform=\"scale(1 -1) translate(0 -226.8)\" x=\"7.2\" y=\"-21.952908\" width=\"446.4\" height=\"226.8\"/>\n",
              "   </g>\n",
              "   <g id=\"text_1\">\n",
              "    <!-- Augmentation examples on CIFAR10 -->\n",
              "    <g transform=\"translate(120.904687 16.318125) scale(0.12 -0.12)\">\n",
              "     <defs>\n",
              "      <path id=\"DejaVuSans-41\" d=\"M 2188 4044 \n",
              "L 1331 1722 \n",
              "L 3047 1722 \n",
              "L 2188 4044 \n",
              "z\n",
              "M 1831 4666 \n",
              "L 2547 4666 \n",
              "L 4325 0 \n",
              "L 3669 0 \n",
              "L 3244 1197 \n",
              "L 1141 1197 \n",
              "L 716 0 \n",
              "L 50 0 \n",
              "L 1831 4666 \n",
              "z\n",
              "\" transform=\"scale(0.015625)\"/>\n",
              "      <path id=\"DejaVuSans-75\" d=\"M 544 1381 \n",
              "L 544 3500 \n",
              "L 1119 3500 \n",
              "L 1119 1403 \n",
              "Q 1119 906 1312 657 \n",
              "Q 1506 409 1894 409 \n",
              "Q 2359 409 2629 706 \n",
              "Q 2900 1003 2900 1516 \n",
              "L 2900 3500 \n",
              "L 3475 3500 \n",
              "L 3475 0 \n",
              "L 2900 0 \n",
              "L 2900 538 \n",
              "Q 2691 219 2414 64 \n",
              "Q 2138 -91 1772 -91 \n",
              "Q 1169 -91 856 284 \n",
              "Q 544 659 544 1381 \n",
              "z\n",
              "M 1991 3584 \n",
              "L 1991 3584 \n",
              "z\n",
              "\" transform=\"scale(0.015625)\"/>\n",
              "      <path id=\"DejaVuSans-67\" d=\"M 2906 1791 \n",
              "Q 2906 2416 2648 2759 \n",
              "Q 2391 3103 1925 3103 \n",
              "Q 1463 3103 1205 2759 \n",
              "Q 947 2416 947 1791 \n",
              "Q 947 1169 1205 825 \n",
              "Q 1463 481 1925 481 \n",
              "Q 2391 481 2648 825 \n",
              "Q 2906 1169 2906 1791 \n",
              "z\n",
              "M 3481 434 \n",
              "Q 3481 -459 3084 -895 \n",
              "Q 2688 -1331 1869 -1331 \n",
              "Q 1566 -1331 1297 -1286 \n",
              "Q 1028 -1241 775 -1147 \n",
              "L 775 -588 \n",
              "Q 1028 -725 1275 -790 \n",
              "Q 1522 -856 1778 -856 \n",
              "Q 2344 -856 2625 -561 \n",
              "Q 2906 -266 2906 331 \n",
              "L 2906 616 \n",
              "Q 2728 306 2450 153 \n",
              "Q 2172 0 1784 0 \n",
              "Q 1141 0 747 490 \n",
              "Q 353 981 353 1791 \n",
              "Q 353 2603 747 3093 \n",
              "Q 1141 3584 1784 3584 \n",
              "Q 2172 3584 2450 3431 \n",
              "Q 2728 3278 2906 2969 \n",
              "L 2906 3500 \n",
              "L 3481 3500 \n",
              "L 3481 434 \n",
              "z\n",
              "\" transform=\"scale(0.015625)\"/>\n",
              "      <path id=\"DejaVuSans-6d\" d=\"M 3328 2828 \n",
              "Q 3544 3216 3844 3400 \n",
              "Q 4144 3584 4550 3584 \n",
              "Q 5097 3584 5394 3201 \n",
              "Q 5691 2819 5691 2113 \n",
              "L 5691 0 \n",
              "L 5113 0 \n",
              "L 5113 2094 \n",
              "Q 5113 2597 4934 2840 \n",
              "Q 4756 3084 4391 3084 \n",
              "Q 3944 3084 3684 2787 \n",
              "Q 3425 2491 3425 1978 \n",
              "L 3425 0 \n",
              "L 2847 0 \n",
              "L 2847 2094 \n",
              "Q 2847 2600 2669 2842 \n",
              "Q 2491 3084 2119 3084 \n",
              "Q 1678 3084 1418 2786 \n",
              "Q 1159 2488 1159 1978 \n",
              "L 1159 0 \n",
              "L 581 0 \n",
              "L 581 3500 \n",
              "L 1159 3500 \n",
              "L 1159 2956 \n",
              "Q 1356 3278 1631 3431 \n",
              "Q 1906 3584 2284 3584 \n",
              "Q 2666 3584 2933 3390 \n",
              "Q 3200 3197 3328 2828 \n",
              "z\n",
              "\" transform=\"scale(0.015625)\"/>\n",
              "      <path id=\"DejaVuSans-65\" d=\"M 3597 1894 \n",
              "L 3597 1613 \n",
              "L 953 1613 \n",
              "Q 991 1019 1311 708 \n",
              "Q 1631 397 2203 397 \n",
              "Q 2534 397 2845 478 \n",
              "Q 3156 559 3463 722 \n",
              "L 3463 178 \n",
              "Q 3153 47 2828 -22 \n",
              "Q 2503 -91 2169 -91 \n",
              "Q 1331 -91 842 396 \n",
              "Q 353 884 353 1716 \n",
              "Q 353 2575 817 3079 \n",
              "Q 1281 3584 2069 3584 \n",
              "Q 2775 3584 3186 3129 \n",
              "Q 3597 2675 3597 1894 \n",
              "z\n",
              "M 3022 2063 \n",
              "Q 3016 2534 2758 2815 \n",
              "Q 2500 3097 2075 3097 \n",
              "Q 1594 3097 1305 2825 \n",
              "Q 1016 2553 972 2059 \n",
              "L 3022 2063 \n",
              "z\n",
              "\" transform=\"scale(0.015625)\"/>\n",
              "      <path id=\"DejaVuSans-6e\" d=\"M 3513 2113 \n",
              "L 3513 0 \n",
              "L 2938 0 \n",
              "L 2938 2094 \n",
              "Q 2938 2591 2744 2837 \n",
              "Q 2550 3084 2163 3084 \n",
              "Q 1697 3084 1428 2787 \n",
              "Q 1159 2491 1159 1978 \n",
              "L 1159 0 \n",
              "L 581 0 \n",
              "L 581 3500 \n",
              "L 1159 3500 \n",
              "L 1159 2956 \n",
              "Q 1366 3272 1645 3428 \n",
              "Q 1925 3584 2291 3584 \n",
              "Q 2894 3584 3203 3211 \n",
              "Q 3513 2838 3513 2113 \n",
              "z\n",
              "\" transform=\"scale(0.015625)\"/>\n",
              "      <path id=\"DejaVuSans-74\" d=\"M 1172 4494 \n",
              "L 1172 3500 \n",
              "L 2356 3500 \n",
              "L 2356 3053 \n",
              "L 1172 3053 \n",
              "L 1172 1153 \n",
              "Q 1172 725 1289 603 \n",
              "Q 1406 481 1766 481 \n",
              "L 2356 481 \n",
              "L 2356 0 \n",
              "L 1766 0 \n",
              "Q 1100 0 847 248 \n",
              "Q 594 497 594 1153 \n",
              "L 594 3053 \n",
              "L 172 3053 \n",
              "L 172 3500 \n",
              "L 594 3500 \n",
              "L 594 4494 \n",
              "L 1172 4494 \n",
              "z\n",
              "\" transform=\"scale(0.015625)\"/>\n",
              "      <path id=\"DejaVuSans-61\" d=\"M 2194 1759 \n",
              "Q 1497 1759 1228 1600 \n",
              "Q 959 1441 959 1056 \n",
              "Q 959 750 1161 570 \n",
              "Q 1363 391 1709 391 \n",
              "Q 2188 391 2477 730 \n",
              "Q 2766 1069 2766 1631 \n",
              "L 2766 1759 \n",
              "L 2194 1759 \n",
              "z\n",
              "M 3341 1997 \n",
              "L 3341 0 \n",
              "L 2766 0 \n",
              "L 2766 531 \n",
              "Q 2569 213 2275 61 \n",
              "Q 1981 -91 1556 -91 \n",
              "Q 1019 -91 701 211 \n",
              "Q 384 513 384 1019 \n",
              "Q 384 1609 779 1909 \n",
              "Q 1175 2209 1959 2209 \n",
              "L 2766 2209 \n",
              "L 2766 2266 \n",
              "Q 2766 2663 2505 2880 \n",
              "Q 2244 3097 1772 3097 \n",
              "Q 1472 3097 1187 3025 \n",
              "Q 903 2953 641 2809 \n",
              "L 641 3341 \n",
              "Q 956 3463 1253 3523 \n",
              "Q 1550 3584 1831 3584 \n",
              "Q 2591 3584 2966 3190 \n",
              "Q 3341 2797 3341 1997 \n",
              "z\n",
              "\" transform=\"scale(0.015625)\"/>\n",
              "      <path id=\"DejaVuSans-69\" d=\"M 603 3500 \n",
              "L 1178 3500 \n",
              "L 1178 0 \n",
              "L 603 0 \n",
              "L 603 3500 \n",
              "z\n",
              "M 603 4863 \n",
              "L 1178 4863 \n",
              "L 1178 4134 \n",
              "L 603 4134 \n",
              "L 603 4863 \n",
              "z\n",
              "\" transform=\"scale(0.015625)\"/>\n",
              "      <path id=\"DejaVuSans-6f\" d=\"M 1959 3097 \n",
              "Q 1497 3097 1228 2736 \n",
              "Q 959 2375 959 1747 \n",
              "Q 959 1119 1226 758 \n",
              "Q 1494 397 1959 397 \n",
              "Q 2419 397 2687 759 \n",
              "Q 2956 1122 2956 1747 \n",
              "Q 2956 2369 2687 2733 \n",
              "Q 2419 3097 1959 3097 \n",
              "z\n",
              "M 1959 3584 \n",
              "Q 2709 3584 3137 3096 \n",
              "Q 3566 2609 3566 1747 \n",
              "Q 3566 888 3137 398 \n",
              "Q 2709 -91 1959 -91 \n",
              "Q 1206 -91 779 398 \n",
              "Q 353 888 353 1747 \n",
              "Q 353 2609 779 3096 \n",
              "Q 1206 3584 1959 3584 \n",
              "z\n",
              "\" transform=\"scale(0.015625)\"/>\n",
              "      <path id=\"DejaVuSans-20\" transform=\"scale(0.015625)\"/>\n",
              "      <path id=\"DejaVuSans-78\" d=\"M 3513 3500 \n",
              "L 2247 1797 \n",
              "L 3578 0 \n",
              "L 2900 0 \n",
              "L 1881 1375 \n",
              "L 863 0 \n",
              "L 184 0 \n",
              "L 1544 1831 \n",
              "L 300 3500 \n",
              "L 978 3500 \n",
              "L 1906 2253 \n",
              "L 2834 3500 \n",
              "L 3513 3500 \n",
              "z\n",
              "\" transform=\"scale(0.015625)\"/>\n",
              "      <path id=\"DejaVuSans-70\" d=\"M 1159 525 \n",
              "L 1159 -1331 \n",
              "L 581 -1331 \n",
              "L 581 3500 \n",
              "L 1159 3500 \n",
              "L 1159 2969 \n",
              "Q 1341 3281 1617 3432 \n",
              "Q 1894 3584 2278 3584 \n",
              "Q 2916 3584 3314 3078 \n",
              "Q 3713 2572 3713 1747 \n",
              "Q 3713 922 3314 415 \n",
              "Q 2916 -91 2278 -91 \n",
              "Q 1894 -91 1617 61 \n",
              "Q 1341 213 1159 525 \n",
              "z\n",
              "M 3116 1747 \n",
              "Q 3116 2381 2855 2742 \n",
              "Q 2594 3103 2138 3103 \n",
              "Q 1681 3103 1420 2742 \n",
              "Q 1159 2381 1159 1747 \n",
              "Q 1159 1113 1420 752 \n",
              "Q 1681 391 2138 391 \n",
              "Q 2594 391 2855 752 \n",
              "Q 3116 1113 3116 1747 \n",
              "z\n",
              "\" transform=\"scale(0.015625)\"/>\n",
              "      <path id=\"DejaVuSans-6c\" d=\"M 603 4863 \n",
              "L 1178 4863 \n",
              "L 1178 0 \n",
              "L 603 0 \n",
              "L 603 4863 \n",
              "z\n",
              "\" transform=\"scale(0.015625)\"/>\n",
              "      <path id=\"DejaVuSans-73\" d=\"M 2834 3397 \n",
              "L 2834 2853 \n",
              "Q 2591 2978 2328 3040 \n",
              "Q 2066 3103 1784 3103 \n",
              "Q 1356 3103 1142 2972 \n",
              "Q 928 2841 928 2578 \n",
              "Q 928 2378 1081 2264 \n",
              "Q 1234 2150 1697 2047 \n",
              "L 1894 2003 \n",
              "Q 2506 1872 2764 1633 \n",
              "Q 3022 1394 3022 966 \n",
              "Q 3022 478 2636 193 \n",
              "Q 2250 -91 1575 -91 \n",
              "Q 1294 -91 989 -36 \n",
              "Q 684 19 347 128 \n",
              "L 347 722 \n",
              "Q 666 556 975 473 \n",
              "Q 1284 391 1588 391 \n",
              "Q 1994 391 2212 530 \n",
              "Q 2431 669 2431 922 \n",
              "Q 2431 1156 2273 1281 \n",
              "Q 2116 1406 1581 1522 \n",
              "L 1381 1569 \n",
              "Q 847 1681 609 1914 \n",
              "Q 372 2147 372 2553 \n",
              "Q 372 3047 722 3315 \n",
              "Q 1072 3584 1716 3584 \n",
              "Q 2034 3584 2315 3537 \n",
              "Q 2597 3491 2834 3397 \n",
              "z\n",
              "\" transform=\"scale(0.015625)\"/>\n",
              "      <path id=\"DejaVuSans-43\" d=\"M 4122 4306 \n",
              "L 4122 3641 \n",
              "Q 3803 3938 3442 4084 \n",
              "Q 3081 4231 2675 4231 \n",
              "Q 1875 4231 1450 3742 \n",
              "Q 1025 3253 1025 2328 \n",
              "Q 1025 1406 1450 917 \n",
              "Q 1875 428 2675 428 \n",
              "Q 3081 428 3442 575 \n",
              "Q 3803 722 4122 1019 \n",
              "L 4122 359 \n",
              "Q 3791 134 3420 21 \n",
              "Q 3050 -91 2638 -91 \n",
              "Q 1578 -91 968 557 \n",
              "Q 359 1206 359 2328 \n",
              "Q 359 3453 968 4101 \n",
              "Q 1578 4750 2638 4750 \n",
              "Q 3056 4750 3426 4639 \n",
              "Q 3797 4528 4122 4306 \n",
              "z\n",
              "\" transform=\"scale(0.015625)\"/>\n",
              "      <path id=\"DejaVuSans-49\" d=\"M 628 4666 \n",
              "L 1259 4666 \n",
              "L 1259 0 \n",
              "L 628 0 \n",
              "L 628 4666 \n",
              "z\n",
              "\" transform=\"scale(0.015625)\"/>\n",
              "      <path id=\"DejaVuSans-46\" d=\"M 628 4666 \n",
              "L 3309 4666 \n",
              "L 3309 4134 \n",
              "L 1259 4134 \n",
              "L 1259 2759 \n",
              "L 3109 2759 \n",
              "L 3109 2228 \n",
              "L 1259 2228 \n",
              "L 1259 0 \n",
              "L 628 0 \n",
              "L 628 4666 \n",
              "z\n",
              "\" transform=\"scale(0.015625)\"/>\n",
              "      <path id=\"DejaVuSans-52\" d=\"M 2841 2188 \n",
              "Q 3044 2119 3236 1894 \n",
              "Q 3428 1669 3622 1275 \n",
              "L 4263 0 \n",
              "L 3584 0 \n",
              "L 2988 1197 \n",
              "Q 2756 1666 2539 1819 \n",
              "Q 2322 1972 1947 1972 \n",
              "L 1259 1972 \n",
              "L 1259 0 \n",
              "L 628 0 \n",
              "L 628 4666 \n",
              "L 2053 4666 \n",
              "Q 2853 4666 3247 4331 \n",
              "Q 3641 3997 3641 3322 \n",
              "Q 3641 2881 3436 2590 \n",
              "Q 3231 2300 2841 2188 \n",
              "z\n",
              "M 1259 4147 \n",
              "L 1259 2491 \n",
              "L 2053 2491 \n",
              "Q 2509 2491 2742 2702 \n",
              "Q 2975 2913 2975 3322 \n",
              "Q 2975 3731 2742 3939 \n",
              "Q 2509 4147 2053 4147 \n",
              "L 1259 4147 \n",
              "z\n",
              "\" transform=\"scale(0.015625)\"/>\n",
              "      <path id=\"DejaVuSans-31\" d=\"M 794 531 \n",
              "L 1825 531 \n",
              "L 1825 4091 \n",
              "L 703 3866 \n",
              "L 703 4441 \n",
              "L 1819 4666 \n",
              "L 2450 4666 \n",
              "L 2450 531 \n",
              "L 3481 531 \n",
              "L 3481 0 \n",
              "L 794 0 \n",
              "L 794 531 \n",
              "z\n",
              "\" transform=\"scale(0.015625)\"/>\n",
              "      <path id=\"DejaVuSans-30\" d=\"M 2034 4250 \n",
              "Q 1547 4250 1301 3770 \n",
              "Q 1056 3291 1056 2328 \n",
              "Q 1056 1369 1301 889 \n",
              "Q 1547 409 2034 409 \n",
              "Q 2525 409 2770 889 \n",
              "Q 3016 1369 3016 2328 \n",
              "Q 3016 3291 2770 3770 \n",
              "Q 2525 4250 2034 4250 \n",
              "z\n",
              "M 2034 4750 \n",
              "Q 2819 4750 3233 4129 \n",
              "Q 3647 3509 3647 2328 \n",
              "Q 3647 1150 3233 529 \n",
              "Q 2819 -91 2034 -91 \n",
              "Q 1250 -91 836 529 \n",
              "Q 422 1150 422 2328 \n",
              "Q 422 3509 836 4129 \n",
              "Q 1250 4750 2034 4750 \n",
              "z\n",
              "\" transform=\"scale(0.015625)\"/>\n",
              "     </defs>\n",
              "     <use xlink:href=\"#DejaVuSans-41\"/>\n",
              "     <use xlink:href=\"#DejaVuSans-75\" x=\"68.408203\"/>\n",
              "     <use xlink:href=\"#DejaVuSans-67\" x=\"131.787109\"/>\n",
              "     <use xlink:href=\"#DejaVuSans-6d\" x=\"195.263672\"/>\n",
              "     <use xlink:href=\"#DejaVuSans-65\" x=\"292.675781\"/>\n",
              "     <use xlink:href=\"#DejaVuSans-6e\" x=\"354.199219\"/>\n",
              "     <use xlink:href=\"#DejaVuSans-74\" x=\"417.578125\"/>\n",
              "     <use xlink:href=\"#DejaVuSans-61\" x=\"456.787109\"/>\n",
              "     <use xlink:href=\"#DejaVuSans-74\" x=\"518.066406\"/>\n",
              "     <use xlink:href=\"#DejaVuSans-69\" x=\"557.275391\"/>\n",
              "     <use xlink:href=\"#DejaVuSans-6f\" x=\"585.058594\"/>\n",
              "     <use xlink:href=\"#DejaVuSans-6e\" x=\"646.240234\"/>\n",
              "     <use xlink:href=\"#DejaVuSans-20\" x=\"709.619141\"/>\n",
              "     <use xlink:href=\"#DejaVuSans-65\" x=\"741.40625\"/>\n",
              "     <use xlink:href=\"#DejaVuSans-78\" x=\"801.179688\"/>\n",
              "     <use xlink:href=\"#DejaVuSans-61\" x=\"860.359375\"/>\n",
              "     <use xlink:href=\"#DejaVuSans-6d\" x=\"921.638672\"/>\n",
              "     <use xlink:href=\"#DejaVuSans-70\" x=\"1019.050781\"/>\n",
              "     <use xlink:href=\"#DejaVuSans-6c\" x=\"1082.527344\"/>\n",
              "     <use xlink:href=\"#DejaVuSans-65\" x=\"1110.310547\"/>\n",
              "     <use xlink:href=\"#DejaVuSans-73\" x=\"1171.833984\"/>\n",
              "     <use xlink:href=\"#DejaVuSans-20\" x=\"1223.933594\"/>\n",
              "     <use xlink:href=\"#DejaVuSans-6f\" x=\"1255.720703\"/>\n",
              "     <use xlink:href=\"#DejaVuSans-6e\" x=\"1316.902344\"/>\n",
              "     <use xlink:href=\"#DejaVuSans-20\" x=\"1380.28125\"/>\n",
              "     <use xlink:href=\"#DejaVuSans-43\" x=\"1412.068359\"/>\n",
              "     <use xlink:href=\"#DejaVuSans-49\" x=\"1481.892578\"/>\n",
              "     <use xlink:href=\"#DejaVuSans-46\" x=\"1511.384766\"/>\n",
              "     <use xlink:href=\"#DejaVuSans-41\" x=\"1559.779297\"/>\n",
              "     <use xlink:href=\"#DejaVuSans-52\" x=\"1628.1875\"/>\n",
              "     <use xlink:href=\"#DejaVuSans-31\" x=\"1697.669922\"/>\n",
              "     <use xlink:href=\"#DejaVuSans-30\" x=\"1761.292969\"/>\n",
              "    </g>\n",
              "   </g>\n",
              "  </g>\n",
              " </g>\n",
              " <defs>\n",
              "  <clipPath id=\"pd63cd677ce\">\n",
              "   <rect x=\"7.2\" y=\"22.318125\" width=\"446.4\" height=\"226.434783\"/>\n",
              "  </clipPath>\n",
              " </defs>\n",
              "</svg>\n"
            ],
            "text/plain": [
              "<Figure size 800x800 with 1 Axes>"
            ]
          },
          "metadata": {},
          "output_type": "display_data"
        }
      ],
      "source": [
        "NUM_IMAGES = 4\n",
        "images = [train_dataset[idx][0] for idx in range(NUM_IMAGES)]\n",
        "orig_images = [Image.fromarray(train_dataset.data[idx]) for idx in range(NUM_IMAGES)]\n",
        "orig_images = [test_transform(img) for img in orig_images]\n",
        "\n",
        "img_grid = torchvision.utils.make_grid(torch.stack(images + orig_images, dim=0), nrow=4, normalize=True, pad_value=0.5)\n",
        "img_grid = img_grid.permute(1, 2, 0)\n",
        "\n",
        "plt.figure(figsize=(8, 8))\n",
        "plt.title(\"Augmentation examples on CIFAR10\")\n",
        "plt.imshow(img_grid)\n",
        "plt.axis(\"off\")\n",
        "plt.show()\n",
        "plt.close()"
      ]
    },
    {
      "cell_type": "markdown",
      "id": "cce570ee",
      "metadata": {
        "papermill": {
          "duration": 0.021614,
          "end_time": "2023-10-11T15:56:06.154119",
          "exception": false,
          "start_time": "2023-10-11T15:56:06.132505",
          "status": "completed"
        },
        "tags": [],
        "id": "cce570ee"
      },
      "source": [
        "## PyTorch Lightning\n",
        "\n",
        "In this notebook and in many following ones, we will make use of the library [PyTorch Lightning](https://www.lightning.ai/docs/pytorch/stable).\n",
        "PyTorch Lightning is a framework that simplifies your code needed to train, evaluate, and test a model in PyTorch.\n",
        "It also handles logging into [TensorBoard](https://pytorch.org/tutorials/intermediate/tensorboard_tutorial.html), a visualization toolkit for ML experiments, and saving model checkpoints automatically with minimal code overhead from our side.\n",
        "This is extremely helpful for us as we want to focus on implementing different model architectures and spend little time on other code overhead.\n",
        "Note that at the time of writing/teaching, the framework has been released in version 1.3.\n",
        "Future versions might have a slightly changed interface and thus might not work perfectly with the code (we will try to keep it up-to-date as much as possible).\n",
        "\n",
        "Now, we will take the first step in PyTorch Lightning, and continue to explore the framework in our other tutorials.\n",
        "PyTorch Lightning comes with a lot of useful functions, such as one for setting the seed as we have seen before:"
      ]
    },
    {
      "cell_type": "code",
      "execution_count": null,
      "id": "c09e5d02",
      "metadata": {
        "execution": {
          "iopub.execute_input": "2023-10-11T15:56:06.192712Z",
          "iopub.status.busy": "2023-10-11T15:56:06.192522Z",
          "iopub.status.idle": "2023-10-11T15:56:06.197806Z",
          "shell.execute_reply": "2023-10-11T15:56:06.197012Z"
        },
        "papermill": {
          "duration": 0.022057,
          "end_time": "2023-10-11T15:56:06.199304",
          "exception": false,
          "start_time": "2023-10-11T15:56:06.177247",
          "status": "completed"
        },
        "tags": [],
        "id": "c09e5d02",
        "outputId": "591d155c-3710-4164-fff9-8cb0606ebb40"
      },
      "outputs": [
        {
          "name": "stderr",
          "output_type": "stream",
          "text": [
            "Global seed set to 42\n"
          ]
        },
        {
          "data": {
            "text/plain": [
              "42"
            ]
          },
          "execution_count": 9,
          "metadata": {},
          "output_type": "execute_result"
        }
      ],
      "source": [
        "# Setting the seed\n",
        "L.seed_everything(42)"
      ]
    },
    {
      "cell_type": "markdown",
      "id": "254d9168",
      "metadata": {
        "lines_to_next_cell": 2,
        "papermill": {
          "duration": 0.014208,
          "end_time": "2023-10-11T15:56:06.227856",
          "exception": false,
          "start_time": "2023-10-11T15:56:06.213648",
          "status": "completed"
        },
        "tags": [],
        "id": "254d9168"
      },
      "source": [
        "Thus, in the future, we don't have to define our own `set_seed` function anymore.\n",
        "\n",
        "In PyTorch Lightning, we define `L.LightningModule`'s (inheriting from `Module`) that organize our code into 5 main sections:\n",
        "\n",
        "1. Initialization (`__init__`), where we create all necessary parameters/models\n",
        "2. Optimizers (`configure_optimizers`) where we create the optimizers, learning rate scheduler, etc.\n",
        "3.\n",
        "Training loop (`training_step`) where we only have to define the loss calculation for a single batch (the loop of optimizer.zero_grad(), loss.backward() and optimizer.step(), as well as any logging/saving operation, is done in the background)\n",
        "4.\n",
        "Validation loop (`validation_step`) where similarly to the training, we only have to define what should happen per step\n",
        "5. Test loop (`test_step`) which is the same as validation, only on a test set.\n",
        "\n",
        "Therefore, we don't abstract the PyTorch code, but rather organize it and define some default operations that are commonly used.\n",
        "If you need to change something else in your training/validation/test loop, there are many possible functions you can overwrite (see the [docs](https://lightning.ai/docs/pytorch/stable/common/lightning_module.html) for details).\n",
        "\n",
        "Now we can look at an example of how a Lightning Module for training a CNN looks like:"
      ]
    },
    {
      "cell_type": "code",
      "execution_count": null,
      "id": "c2f65f12",
      "metadata": {
        "execution": {
          "iopub.execute_input": "2023-10-11T15:56:06.258064Z",
          "iopub.status.busy": "2023-10-11T15:56:06.257737Z",
          "iopub.status.idle": "2023-10-11T15:56:06.275095Z",
          "shell.execute_reply": "2023-10-11T15:56:06.274334Z"
        },
        "papermill": {
          "duration": 0.034075,
          "end_time": "2023-10-11T15:56:06.276502",
          "exception": false,
          "start_time": "2023-10-11T15:56:06.242427",
          "status": "completed"
        },
        "tags": [],
        "id": "c2f65f12"
      },
      "outputs": [],
      "source": [
        "class CIFARModule(L.LightningModule):\n",
        "    def __init__(self, model_name, model_hparams, optimizer_name, optimizer_hparams):\n",
        "        \"\"\"CIFARModule.\n",
        "\n",
        "        Args:\n",
        "            model_name: Name of the model/CNN to run. Used for creating the model (see function below)\n",
        "            model_hparams: Hyperparameters for the model, as dictionary.\n",
        "            optimizer_name: Name of the optimizer to use. Currently supported: Adam, SGD\n",
        "            optimizer_hparams: Hyperparameters for the optimizer, as dictionary. This includes learning rate, weight decay, etc.\n",
        "        \"\"\"\n",
        "        super().__init__()\n",
        "        # Exports the hyperparameters to a YAML file, and create \"self.hparams\" namespace\n",
        "        self.save_hyperparameters()\n",
        "        # Create model\n",
        "        self.model = create_model(model_name, model_hparams)\n",
        "        # Create loss module\n",
        "        self.loss_module = nn.CrossEntropyLoss()\n",
        "        # Example input for visualizing the graph in Tensorboard\n",
        "        self.example_input_array = torch.zeros((1, 3, 32, 32), dtype=torch.float32)\n",
        "\n",
        "    def forward(self, imgs):\n",
        "        # Forward function that is run when visualizing the graph\n",
        "        return self.model(imgs)\n",
        "\n",
        "    def configure_optimizers(self):\n",
        "        # We will support Adam or SGD as optimizers.\n",
        "        if self.hparams.optimizer_name == \"Adam\":\n",
        "            # AdamW is Adam with a correct implementation of weight decay (see here\n",
        "            # for details: https://arxiv.org/pdf/1711.05101.pdf)\n",
        "            optimizer = optim.AdamW(self.parameters(), **self.hparams.optimizer_hparams)\n",
        "        elif self.hparams.optimizer_name == \"SGD\":\n",
        "            optimizer = optim.SGD(self.parameters(), **self.hparams.optimizer_hparams)\n",
        "        else:\n",
        "            assert False, f'Unknown optimizer: \"{self.hparams.optimizer_name}\"'\n",
        "\n",
        "        # We will reduce the learning rate by 0.1 after 100 and 150 epochs\n",
        "        scheduler = optim.lr_scheduler.MultiStepLR(optimizer, milestones=[100, 150], gamma=0.1)\n",
        "        return [optimizer], [scheduler]\n",
        "\n",
        "    def training_step(self, batch, batch_idx):\n",
        "        # \"batch\" is the output of the training data loader.\n",
        "        imgs, labels = batch\n",
        "        preds = self.model(imgs)\n",
        "        loss = self.loss_module(preds, labels)\n",
        "        acc = (preds.argmax(dim=-1) == labels).float().mean()\n",
        "\n",
        "        # Logs the accuracy per epoch to tensorboard (weighted average over batches)\n",
        "        self.log(\"train_acc\", acc, on_step=False, on_epoch=True)\n",
        "        self.log(\"train_loss\", loss)\n",
        "        return loss  # Return tensor to call \".backward\" on\n",
        "\n",
        "    def validation_step(self, batch, batch_idx):\n",
        "        imgs, labels = batch\n",
        "        preds = self.model(imgs).argmax(dim=-1)\n",
        "        acc = (labels == preds).float().mean()\n",
        "        # By default logs it per epoch (weighted average over batches)\n",
        "        self.log(\"val_acc\", acc)\n",
        "\n",
        "    def test_step(self, batch, batch_idx):\n",
        "        imgs, labels = batch\n",
        "        preds = self.model(imgs).argmax(dim=-1)\n",
        "        acc = (labels == preds).float().mean()\n",
        "        # By default logs it per epoch (weighted average over batches), and returns it afterwards\n",
        "        self.log(\"test_acc\", acc)"
      ]
    },
    {
      "cell_type": "markdown",
      "id": "f156904d",
      "metadata": {
        "papermill": {
          "duration": 0.014505,
          "end_time": "2023-10-11T15:56:06.305555",
          "exception": false,
          "start_time": "2023-10-11T15:56:06.291050",
          "status": "completed"
        },
        "tags": [],
        "id": "f156904d"
      },
      "source": [
        "We see that the code is organized and clear, which helps if someone else tries to understand your code.\n",
        "\n",
        "Another important part of PyTorch Lightning is the concept of callbacks.\n",
        "Callbacks are self-contained functions that contain the non-essential logic of your Lightning Module.\n",
        "They are usually called after finishing a training epoch, but can also influence other parts of your training loop.\n",
        "For instance, we will use the following two pre-defined callbacks: `LearningRateMonitor` and `ModelCheckpoint`.\n",
        "The learning rate monitor adds the current learning rate to our TensorBoard, which helps to verify that our learning rate scheduler works correctly.\n",
        "The model checkpoint callback allows you to customize the saving routine of your checkpoints.\n",
        "For instance, how many checkpoints to keep, when to save, which metric to look out for, etc.\n",
        "We import them below:"
      ]
    },
    {
      "cell_type": "code",
      "execution_count": null,
      "id": "5d4b7347",
      "metadata": {
        "execution": {
          "iopub.execute_input": "2023-10-11T15:56:06.336847Z",
          "iopub.status.busy": "2023-10-11T15:56:06.336495Z",
          "iopub.status.idle": "2023-10-11T15:56:06.340296Z",
          "shell.execute_reply": "2023-10-11T15:56:06.339549Z"
        },
        "papermill": {
          "duration": 0.021344,
          "end_time": "2023-10-11T15:56:06.341729",
          "exception": false,
          "start_time": "2023-10-11T15:56:06.320385",
          "status": "completed"
        },
        "tags": [],
        "id": "5d4b7347"
      },
      "outputs": [],
      "source": [
        "# Callbacks"
      ]
    },
    {
      "cell_type": "markdown",
      "id": "f6613d53",
      "metadata": {
        "papermill": {
          "duration": 0.014259,
          "end_time": "2023-10-11T15:56:06.370845",
          "exception": false,
          "start_time": "2023-10-11T15:56:06.356586",
          "status": "completed"
        },
        "tags": [],
        "id": "f6613d53"
      },
      "source": [
        "To allow running multiple different models with the same Lightning module, we define a function below that maps a model name to the model class.\n",
        "At this stage, the dictionary `model_dict` is empty, but we will fill it throughout the notebook with our new models."
      ]
    },
    {
      "cell_type": "code",
      "execution_count": null,
      "id": "ed347e3b",
      "metadata": {
        "execution": {
          "iopub.execute_input": "2023-10-11T15:56:06.402011Z",
          "iopub.status.busy": "2023-10-11T15:56:06.401664Z",
          "iopub.status.idle": "2023-10-11T15:56:06.407110Z",
          "shell.execute_reply": "2023-10-11T15:56:06.406322Z"
        },
        "papermill": {
          "duration": 0.022833,
          "end_time": "2023-10-11T15:56:06.408389",
          "exception": false,
          "start_time": "2023-10-11T15:56:06.385556",
          "status": "completed"
        },
        "tags": [],
        "id": "ed347e3b"
      },
      "outputs": [],
      "source": [
        "model_dict = {}\n",
        "\n",
        "\n",
        "def create_model(model_name, model_hparams):\n",
        "    if model_name in model_dict:\n",
        "        return model_dict[model_name](**model_hparams)\n",
        "    else:\n",
        "        assert False, f'Unknown model name \"{model_name}\". Available models are: {str(model_dict.keys())}'"
      ]
    },
    {
      "cell_type": "markdown",
      "id": "71bf5866",
      "metadata": {
        "papermill": {
          "duration": 0.014318,
          "end_time": "2023-10-11T15:56:06.437600",
          "exception": false,
          "start_time": "2023-10-11T15:56:06.423282",
          "status": "completed"
        },
        "tags": [],
        "id": "71bf5866"
      },
      "source": [
        "Similarly, to use the activation function as another hyperparameter in\n",
        "our model, we define a \"name to function\" dict below:"
      ]
    },
    {
      "cell_type": "code",
      "execution_count": null,
      "id": "95d740a1",
      "metadata": {
        "execution": {
          "iopub.execute_input": "2023-10-11T15:56:06.468425Z",
          "iopub.status.busy": "2023-10-11T15:56:06.467694Z",
          "iopub.status.idle": "2023-10-11T15:56:06.472259Z",
          "shell.execute_reply": "2023-10-11T15:56:06.471514Z"
        },
        "papermill": {
          "duration": 0.021419,
          "end_time": "2023-10-11T15:56:06.473573",
          "exception": false,
          "start_time": "2023-10-11T15:56:06.452154",
          "status": "completed"
        },
        "tags": [],
        "id": "95d740a1"
      },
      "outputs": [],
      "source": [
        "act_fn_by_name = {\"tanh\": nn.Tanh, \"relu\": nn.ReLU, \"leakyrelu\": nn.LeakyReLU, \"gelu\": nn.GELU}"
      ]
    },
    {
      "cell_type": "markdown",
      "id": "b99de1ad",
      "metadata": {
        "lines_to_next_cell": 2,
        "papermill": {
          "duration": 0.014672,
          "end_time": "2023-10-11T15:56:06.502744",
          "exception": false,
          "start_time": "2023-10-11T15:56:06.488072",
          "status": "completed"
        },
        "tags": [],
        "id": "b99de1ad"
      },
      "source": [
        "If we pass the classes or objects directly as an argument to the Lightning module, we couldn't take advantage of PyTorch Lightning's automatically hyperparameter saving and loading.\n",
        "\n",
        "Besides the Lightning module, the second most important module in PyTorch Lightning is the `Trainer`.\n",
        "The trainer is responsible to execute the training steps defined in the Lightning module and completes the framework.\n",
        "Similar to the Lightning module, you can override any key part that you don't want to be automated, but the default settings are often the best practice to do.\n",
        "For a full overview, see the [documentation](https://lightning.ai/docs/pytorch/stable/common/trainer.html).\n",
        "The most important functions we use below are:\n",
        "\n",
        "* `trainer.fit`: Takes as input a lightning module, a training dataset, and an (optional) validation dataset.\n",
        "This function trains the given module on the training dataset with occasional validation (default once per epoch, can be changed)\n",
        "* `trainer.test`: Takes as input a model and a dataset on which we want to test.\n",
        "It returns the test metric on the dataset.\n",
        "\n",
        "For training and testing, we don't have to worry about things like setting the model to eval mode (`model.eval()`) as this is all done automatically.\n",
        "See below how we define a training function for our models:"
      ]
    },
    {
      "cell_type": "code",
      "execution_count": null,
      "id": "1c323ba0",
      "metadata": {
        "execution": {
          "iopub.execute_input": "2023-10-11T15:56:06.534405Z",
          "iopub.status.busy": "2023-10-11T15:56:06.534042Z",
          "iopub.status.idle": "2023-10-11T15:56:06.546039Z",
          "shell.execute_reply": "2023-10-11T15:56:06.545235Z"
        },
        "lines_to_next_cell": 2,
        "papermill": {
          "duration": 0.029843,
          "end_time": "2023-10-11T15:56:06.547299",
          "exception": false,
          "start_time": "2023-10-11T15:56:06.517456",
          "status": "completed"
        },
        "tags": [],
        "id": "1c323ba0"
      },
      "outputs": [],
      "source": [
        "def train_model(model_name, save_name=None, **kwargs):\n",
        "    \"\"\"Train model.\n",
        "\n",
        "    Args:\n",
        "        model_name: Name of the model you want to run. Is used to look up the class in \"model_dict\"\n",
        "        save_name (optional): If specified, this name will be used for creating the checkpoint and logging directory.\n",
        "    \"\"\"\n",
        "    if save_name is None:\n",
        "        save_name = model_name\n",
        "\n",
        "    # Create a PyTorch Lightning trainer with the generation callback\n",
        "    trainer = L.Trainer(\n",
        "        default_root_dir=os.path.join(CHECKPOINT_PATH, save_name),  # Where to save models\n",
        "        # We run on a single GPU (if possible)\n",
        "        accelerator=\"auto\",\n",
        "        devices=1,\n",
        "        # How many epochs to train for if no patience is set\n",
        "        max_epochs=180,\n",
        "        callbacks=[\n",
        "            ModelCheckpoint(\n",
        "                save_weights_only=True, mode=\"max\", monitor=\"val_acc\"\n",
        "            ),  # Save the best checkpoint based on the maximum val_acc recorded. Saves only weights and not optimizer\n",
        "            LearningRateMonitor(\"epoch\"),\n",
        "        ],  # Log learning rate every epoch\n",
        "    )  # In case your notebook crashes due to the progress bar, consider increasing the refresh rate\n",
        "    trainer.logger._log_graph = True  # If True, we plot the computation graph in tensorboard\n",
        "    trainer.logger._default_hp_metric = None  # Optional logging argument that we don't need\n",
        "\n",
        "    # Check whether pretrained model exists. If yes, load it and skip training\n",
        "    pretrained_filename = os.path.join(CHECKPOINT_PATH, save_name + \".ckpt\")\n",
        "    if os.path.isfile(pretrained_filename):\n",
        "        print(f\"Found pretrained model at {pretrained_filename}, loading...\")\n",
        "        # Automatically loads the model with the saved hyperparameters\n",
        "        model = CIFARModule.load_from_checkpoint(pretrained_filename)\n",
        "    else:\n",
        "        L.seed_everything(42)  # To be reproducible\n",
        "        model = CIFARModule(model_name=model_name, **kwargs)\n",
        "        trainer.fit(model, train_loader, val_loader)\n",
        "        model = CIFARModule.load_from_checkpoint(\n",
        "            trainer.checkpoint_callback.best_model_path\n",
        "        )  # Load best checkpoint after training\n",
        "\n",
        "    # Test best model on validation and test set\n",
        "    val_result = trainer.test(model, dataloaders=val_loader, verbose=False)\n",
        "    test_result = trainer.test(model, dataloaders=test_loader, verbose=False)\n",
        "    result = {\"test\": test_result[0][\"test_acc\"], \"val\": val_result[0][\"test_acc\"]}\n",
        "\n",
        "    return model, result"
      ]
    },
    {
      "cell_type": "markdown",
      "id": "202aba3b",
      "metadata": {
        "papermill": {
          "duration": 0.0151,
          "end_time": "2023-10-11T15:56:06.577027",
          "exception": false,
          "start_time": "2023-10-11T15:56:06.561927",
          "status": "completed"
        },
        "tags": [],
        "id": "202aba3b"
      },
      "source": [
        "Finally, we can focus on the Convolutional Neural Networks we want to\n",
        "implement today: GoogleNet, ResNet, and DenseNet."
      ]
    },
    {
      "cell_type": "markdown",
      "id": "33039338",
      "metadata": {
        "lines_to_next_cell": 2,
        "papermill": {
          "duration": 0.014592,
          "end_time": "2023-10-11T15:56:06.606539",
          "exception": false,
          "start_time": "2023-10-11T15:56:06.591947",
          "status": "completed"
        },
        "tags": [],
        "id": "33039338"
      },
      "source": [
        "## Inception\n",
        "\n",
        "<div class=\"center-wrapper\"><div class=\"video-wrapper\"><iframe src=\"https://www.youtube.com/embed/9yRXqYJDHr4\" title=\"YouTube video player\" frameborder=\"0\" allow=\"accelerometer; autoplay; clipboard-write; encrypted-media; gyroscope; picture-in-picture\" allowfullscreen></iframe></div></div>\n",
        "\n",
        "The [GoogleNet](https://arxiv.org/abs/1409.4842), proposed in 2014, won the ImageNet Challenge because of its usage of the Inception modules.\n",
        "In general, we will mainly focus on the concept of Inception in this tutorial instead of the specifics of the GoogleNet, as based on Inception, there have been many follow-up works ([Inception-v2](https://arxiv.org/abs/1512.00567), [Inception-v3](https://arxiv.org/abs/1512.00567), [Inception-v4](https://arxiv.org/abs/1602.07261), [Inception-ResNet](https://arxiv.org/abs/1602.07261),...).\n",
        "The follow-up works mainly focus on increasing efficiency and enabling very deep Inception networks.\n",
        "However, for a fundamental understanding, it is sufficient to look at the original Inception block.\n",
        "\n",
        "An Inception block applies four convolution blocks separately on the same feature map: a 1x1, 3x3, and 5x5 convolution, and a max pool operation.\n",
        "This allows the network to look at the same data with different receptive fields.\n",
        "Of course, learning only 5x5 convolution would be theoretically more powerful.\n",
        "However, this is not only more computation and memory heavy but also tends to overfit much easier.\n",
        "The overall inception block looks like below (figure credit - [Szegedy et al. ](https://arxiv.org/abs/1409.4842)):\n",
        "\n",
        "<center width=\"100%\"><img src=\"https://github.com/Lightning-AI/lightning-tutorials/raw/main/course_UvA-DL/04-inception-resnet-densenet/inception_block.svg\" style=\"display: block; margin-left: auto; margin-right: auto;\" width=\"500px\"/></center>\n",
        "\n",
        "The additional 1x1 convolutions before the 3x3 and 5x5 convolutions are used for dimensionality reduction.\n",
        "This is especially crucial as the feature maps of all branches are merged afterward, and we don't want any explosion of feature size.\n",
        "As 5x5 convolutions are 25 times more expensive than 1x1 convolutions, we can save a lot of computation and parameters by reducing the dimensionality before the large convolutions.\n",
        "\n",
        "We can now try to implement the Inception Block ourselves:"
      ]
    },
    {
      "cell_type": "code",
      "execution_count": null,
      "id": "624cd27c",
      "metadata": {
        "execution": {
          "iopub.execute_input": "2023-10-11T15:56:06.637617Z",
          "iopub.status.busy": "2023-10-11T15:56:06.637248Z",
          "iopub.status.idle": "2023-10-11T15:56:06.650761Z",
          "shell.execute_reply": "2023-10-11T15:56:06.649969Z"
        },
        "lines_to_next_cell": 2,
        "papermill": {
          "duration": 0.030792,
          "end_time": "2023-10-11T15:56:06.652051",
          "exception": false,
          "start_time": "2023-10-11T15:56:06.621259",
          "status": "completed"
        },
        "tags": [],
        "id": "624cd27c"
      },
      "outputs": [],
      "source": [
        "class InceptionBlock(nn.Module):\n",
        "    def __init__(self, c_in, c_red: dict, c_out: dict, act_fn):\n",
        "        \"\"\"InceptionBlock.\n",
        "\n",
        "        Args:\n",
        "            c_in: Number of input feature maps from the previous layers\n",
        "            c_red: Dictionary with keys \"3x3\" and \"5x5\" specifying the output of the dimensionality reducing 1x1 convolutions\n",
        "            c_out: Dictionary with keys \"1x1\", \"3x3\", \"5x5\", and \"max\"\n",
        "            act_fn: Activation class constructor (e.g. nn.ReLU)\n",
        "        \"\"\"\n",
        "        super().__init__()\n",
        "\n",
        "        # 1x1 convolution branch\n",
        "        self.conv_1x1 = nn.Sequential(\n",
        "            nn.Conv2d(c_in, c_out[\"1x1\"], kernel_size=1), nn.BatchNorm2d(c_out[\"1x1\"]), act_fn()\n",
        "        )\n",
        "\n",
        "        # 3x3 convolution branch\n",
        "        self.conv_3x3 = nn.Sequential(\n",
        "            nn.Conv2d(c_in, c_red[\"3x3\"], kernel_size=1),\n",
        "            nn.BatchNorm2d(c_red[\"3x3\"]),\n",
        "            act_fn(),\n",
        "            nn.Conv2d(c_red[\"3x3\"], c_out[\"3x3\"], kernel_size=3, padding=1),\n",
        "            nn.BatchNorm2d(c_out[\"3x3\"]),\n",
        "            act_fn(),\n",
        "        )\n",
        "\n",
        "        # 5x5 convolution branch\n",
        "        self.conv_5x5 = nn.Sequential(\n",
        "            nn.Conv2d(c_in, c_red[\"5x5\"], kernel_size=1),\n",
        "            nn.BatchNorm2d(c_red[\"5x5\"]),\n",
        "            act_fn(),\n",
        "            nn.Conv2d(c_red[\"5x5\"], c_out[\"5x5\"], kernel_size=5, padding=2),\n",
        "            nn.BatchNorm2d(c_out[\"5x5\"]),\n",
        "            act_fn(),\n",
        "        )\n",
        "\n",
        "        # Max-pool branch\n",
        "        self.max_pool = nn.Sequential(\n",
        "            nn.MaxPool2d(kernel_size=3, padding=1, stride=1),\n",
        "            nn.Conv2d(c_in, c_out[\"max\"], kernel_size=1),\n",
        "            nn.BatchNorm2d(c_out[\"max\"]),\n",
        "            act_fn(),\n",
        "        )\n",
        "\n",
        "    def forward(self, x):\n",
        "        x_1x1 = self.conv_1x1(x)\n",
        "        x_3x3 = self.conv_3x3(x)\n",
        "        x_5x5 = self.conv_5x5(x)\n",
        "        x_max = self.max_pool(x)\n",
        "        x_out = torch.cat([x_1x1, x_3x3, x_5x5, x_max], dim=1)\n",
        "        return x_out"
      ]
    },
    {
      "cell_type": "markdown",
      "id": "a83a845c",
      "metadata": {
        "lines_to_next_cell": 2,
        "papermill": {
          "duration": 0.014915,
          "end_time": "2023-10-11T15:56:06.681988",
          "exception": false,
          "start_time": "2023-10-11T15:56:06.667073",
          "status": "completed"
        },
        "tags": [],
        "id": "a83a845c"
      },
      "source": [
        "The GoogleNet architecture consists of stacking multiple Inception blocks with occasional max pooling to reduce the height and width of the feature maps.\n",
        "The original GoogleNet was designed for image sizes of ImageNet (224x224 pixels) and had almost 7 million parameters.\n",
        "As we train on CIFAR10 with image sizes of 32x32, we don't require such a heavy architecture, and instead, apply a reduced version.\n",
        "The number of channels for dimensionality reduction and output per filter (1x1, 3x3, 5x5, and max pooling) need to be manually specified and can be changed if interested.\n",
        "The general intuition is to have the most filters for the 3x3\n",
        "convolutions, as they are powerful enough to take the context into\n",
        "account while requiring almost a third of the parameters of the 5x5\n",
        "convolution."
      ]
    },
    {
      "cell_type": "code",
      "execution_count": null,
      "id": "2388c15b",
      "metadata": {
        "execution": {
          "iopub.execute_input": "2023-10-11T15:56:06.717208Z",
          "iopub.status.busy": "2023-10-11T15:56:06.712846Z",
          "iopub.status.idle": "2023-10-11T15:56:06.739821Z",
          "shell.execute_reply": "2023-10-11T15:56:06.739006Z"
        },
        "papermill": {
          "duration": 0.044284,
          "end_time": "2023-10-11T15:56:06.741139",
          "exception": false,
          "start_time": "2023-10-11T15:56:06.696855",
          "status": "completed"
        },
        "tags": [],
        "id": "2388c15b"
      },
      "outputs": [],
      "source": [
        "class GoogleNet(nn.Module):\n",
        "    def __init__(self, num_classes=10, act_fn_name=\"relu\", **kwargs):\n",
        "        super().__init__()\n",
        "        self.hparams = SimpleNamespace(\n",
        "            num_classes=num_classes, act_fn_name=act_fn_name, act_fn=act_fn_by_name[act_fn_name]\n",
        "        )\n",
        "        self._create_network()\n",
        "        self._init_params()\n",
        "\n",
        "    def _create_network(self):\n",
        "        # A first convolution on the original image to scale up the channel size\n",
        "        self.input_net = nn.Sequential(\n",
        "            nn.Conv2d(3, 64, kernel_size=3, padding=1), nn.BatchNorm2d(64), self.hparams.act_fn()\n",
        "        )\n",
        "        # Stacking inception blocks\n",
        "        self.inception_blocks = nn.Sequential(\n",
        "            InceptionBlock(\n",
        "                64,\n",
        "                c_red={\"3x3\": 32, \"5x5\": 16},\n",
        "                c_out={\"1x1\": 16, \"3x3\": 32, \"5x5\": 8, \"max\": 8},\n",
        "                act_fn=self.hparams.act_fn,\n",
        "            ),\n",
        "            InceptionBlock(\n",
        "                64,\n",
        "                c_red={\"3x3\": 32, \"5x5\": 16},\n",
        "                c_out={\"1x1\": 24, \"3x3\": 48, \"5x5\": 12, \"max\": 12},\n",
        "                act_fn=self.hparams.act_fn,\n",
        "            ),\n",
        "            nn.MaxPool2d(3, stride=2, padding=1),  # 32x32 => 16x16\n",
        "            InceptionBlock(\n",
        "                96,\n",
        "                c_red={\"3x3\": 32, \"5x5\": 16},\n",
        "                c_out={\"1x1\": 24, \"3x3\": 48, \"5x5\": 12, \"max\": 12},\n",
        "                act_fn=self.hparams.act_fn,\n",
        "            ),\n",
        "            InceptionBlock(\n",
        "                96,\n",
        "                c_red={\"3x3\": 32, \"5x5\": 16},\n",
        "                c_out={\"1x1\": 16, \"3x3\": 48, \"5x5\": 16, \"max\": 16},\n",
        "                act_fn=self.hparams.act_fn,\n",
        "            ),\n",
        "            InceptionBlock(\n",
        "                96,\n",
        "                c_red={\"3x3\": 32, \"5x5\": 16},\n",
        "                c_out={\"1x1\": 16, \"3x3\": 48, \"5x5\": 16, \"max\": 16},\n",
        "                act_fn=self.hparams.act_fn,\n",
        "            ),\n",
        "            InceptionBlock(\n",
        "                96,\n",
        "                c_red={\"3x3\": 32, \"5x5\": 16},\n",
        "                c_out={\"1x1\": 32, \"3x3\": 48, \"5x5\": 24, \"max\": 24},\n",
        "                act_fn=self.hparams.act_fn,\n",
        "            ),\n",
        "            nn.MaxPool2d(3, stride=2, padding=1),  # 16x16 => 8x8\n",
        "            InceptionBlock(\n",
        "                128,\n",
        "                c_red={\"3x3\": 48, \"5x5\": 16},\n",
        "                c_out={\"1x1\": 32, \"3x3\": 64, \"5x5\": 16, \"max\": 16},\n",
        "                act_fn=self.hparams.act_fn,\n",
        "            ),\n",
        "            InceptionBlock(\n",
        "                128,\n",
        "                c_red={\"3x3\": 48, \"5x5\": 16},\n",
        "                c_out={\"1x1\": 32, \"3x3\": 64, \"5x5\": 16, \"max\": 16},\n",
        "                act_fn=self.hparams.act_fn,\n",
        "            ),\n",
        "        )\n",
        "        # Mapping to classification output\n",
        "        self.output_net = nn.Sequential(\n",
        "            nn.AdaptiveAvgPool2d((1, 1)), nn.Flatten(), nn.Linear(128, self.hparams.num_classes)\n",
        "        )\n",
        "\n",
        "    def _init_params(self):\n",
        "        # Based on our discussion in Tutorial 4, we should initialize the\n",
        "        # convolutions according to the activation function\n",
        "        for m in self.modules():\n",
        "            if isinstance(m, nn.Conv2d):\n",
        "                nn.init.kaiming_normal_(m.weight, nonlinearity=self.hparams.act_fn_name)\n",
        "            elif isinstance(m, nn.BatchNorm2d):\n",
        "                nn.init.constant_(m.weight, 1)\n",
        "                nn.init.constant_(m.bias, 0)\n",
        "\n",
        "    def forward(self, x):\n",
        "        x = self.input_net(x)\n",
        "        x = self.inception_blocks(x)\n",
        "        x = self.output_net(x)\n",
        "        return x"
      ]
    },
    {
      "cell_type": "markdown",
      "id": "0e0291e5",
      "metadata": {
        "papermill": {
          "duration": 0.014388,
          "end_time": "2023-10-11T15:56:06.770149",
          "exception": false,
          "start_time": "2023-10-11T15:56:06.755761",
          "status": "completed"
        },
        "tags": [],
        "id": "0e0291e5"
      },
      "source": [
        "Now, we can integrate our model to the model dictionary we defined above:"
      ]
    },
    {
      "cell_type": "code",
      "execution_count": null,
      "id": "527f9e30",
      "metadata": {
        "execution": {
          "iopub.execute_input": "2023-10-11T15:56:06.800384Z",
          "iopub.status.busy": "2023-10-11T15:56:06.800042Z",
          "iopub.status.idle": "2023-10-11T15:56:06.803936Z",
          "shell.execute_reply": "2023-10-11T15:56:06.803211Z"
        },
        "papermill": {
          "duration": 0.020685,
          "end_time": "2023-10-11T15:56:06.805261",
          "exception": false,
          "start_time": "2023-10-11T15:56:06.784576",
          "status": "completed"
        },
        "tags": [],
        "id": "527f9e30"
      },
      "outputs": [],
      "source": [
        "model_dict[\"GoogleNet\"] = GoogleNet"
      ]
    },
    {
      "cell_type": "markdown",
      "id": "48ace1ef",
      "metadata": {
        "papermill": {
          "duration": 0.014675,
          "end_time": "2023-10-11T15:56:06.834790",
          "exception": false,
          "start_time": "2023-10-11T15:56:06.820115",
          "status": "completed"
        },
        "tags": [],
        "id": "48ace1ef"
      },
      "source": [
        "The training of the model is handled by PyTorch Lightning, and we just have to define the command to start.\n",
        "Note that we train for almost 200 epochs, which takes about an hour on Lisa's default GPUs (GTX1080Ti).\n",
        "We would recommend using the saved models and train your own model if you are interested."
      ]
    },
    {
      "cell_type": "code",
      "execution_count": null,
      "id": "e0985e6e",
      "metadata": {
        "execution": {
          "iopub.execute_input": "2023-10-11T15:56:06.865750Z",
          "iopub.status.busy": "2023-10-11T15:56:06.865408Z",
          "iopub.status.idle": "2023-10-11T15:56:12.751566Z",
          "shell.execute_reply": "2023-10-11T15:56:12.750558Z"
        },
        "papermill": {
          "duration": 5.904534,
          "end_time": "2023-10-11T15:56:12.754229",
          "exception": false,
          "start_time": "2023-10-11T15:56:06.849695",
          "status": "completed"
        },
        "tags": [],
        "id": "e0985e6e",
        "outputId": "8e1361ff-de27-4a8d-fb6d-1101a49c56d7",
        "colab": {
          "referenced_widgets": [
            "ee9c10c3efc44f2b9cf8ff7dc7d45d85",
            "05d2deaf23904533b52d97a0057961c7"
          ]
        }
      },
      "outputs": [
        {
          "name": "stderr",
          "output_type": "stream",
          "text": [
            "GPU available: True (cuda), used: True\n"
          ]
        },
        {
          "name": "stderr",
          "output_type": "stream",
          "text": [
            "TPU available: False, using: 0 TPU cores\n"
          ]
        },
        {
          "name": "stderr",
          "output_type": "stream",
          "text": [
            "IPU available: False, using: 0 IPUs\n"
          ]
        },
        {
          "name": "stderr",
          "output_type": "stream",
          "text": [
            "HPU available: False, using: 0 HPUs\n"
          ]
        },
        {
          "name": "stderr",
          "output_type": "stream",
          "text": [
            "Lightning automatically upgraded your loaded checkpoint from v1.0.2 to v2.0.9.post0. To apply the upgrade to your files permanently, run `python -m lightning.pytorch.utilities.upgrade_checkpoint --file saved_models/ConvNets/GoogleNet.ckpt`\n"
          ]
        },
        {
          "name": "stdout",
          "output_type": "stream",
          "text": [
            "Found pretrained model at saved_models/ConvNets/GoogleNet.ckpt, loading...\n"
          ]
        },
        {
          "name": "stderr",
          "output_type": "stream",
          "text": [
            "You are using a CUDA device ('NVIDIA GeForce RTX 3090') that has Tensor Cores. To properly utilize them, you should set `torch.set_float32_matmul_precision('medium' | 'high')` which will trade-off precision for performance. For more details, read https://pytorch.org/docs/stable/generated/torch.set_float32_matmul_precision.html#torch.set_float32_matmul_precision\n"
          ]
        },
        {
          "name": "stderr",
          "output_type": "stream",
          "text": [
            "Missing logger folder: saved_models/ConvNets/GoogleNet/lightning_logs\n"
          ]
        },
        {
          "name": "stderr",
          "output_type": "stream",
          "text": [
            "LOCAL_RANK: 0 - CUDA_VISIBLE_DEVICES: [0,1]\n"
          ]
        },
        {
          "data": {
            "application/vnd.jupyter.widget-view+json": {
              "model_id": "ee9c10c3efc44f2b9cf8ff7dc7d45d85",
              "version_major": 2,
              "version_minor": 0
            },
            "text/plain": [
              "Testing: 0it [00:00, ?it/s]"
            ]
          },
          "metadata": {},
          "output_type": "display_data"
        },
        {
          "name": "stderr",
          "output_type": "stream",
          "text": [
            "LOCAL_RANK: 0 - CUDA_VISIBLE_DEVICES: [0,1]\n"
          ]
        },
        {
          "data": {
            "application/vnd.jupyter.widget-view+json": {
              "model_id": "05d2deaf23904533b52d97a0057961c7",
              "version_major": 2,
              "version_minor": 0
            },
            "text/plain": [
              "Testing: 0it [00:00, ?it/s]"
            ]
          },
          "metadata": {},
          "output_type": "display_data"
        }
      ],
      "source": [
        "googlenet_model, googlenet_results = train_model(\n",
        "    model_name=\"GoogleNet\",\n",
        "    model_hparams={\"num_classes\": 10, \"act_fn_name\": \"relu\"},\n",
        "    optimizer_name=\"Adam\",\n",
        "    optimizer_hparams={\"lr\": 1e-3, \"weight_decay\": 1e-4},\n",
        ")"
      ]
    },
    {
      "cell_type": "markdown",
      "id": "a6c1337b",
      "metadata": {
        "papermill": {
          "duration": 0.027839,
          "end_time": "2023-10-11T15:56:12.817053",
          "exception": false,
          "start_time": "2023-10-11T15:56:12.789214",
          "status": "completed"
        },
        "tags": [],
        "id": "a6c1337b"
      },
      "source": [
        "We will compare the results later in the notebooks, but we can already print them here for a first glance:"
      ]
    },
    {
      "cell_type": "code",
      "execution_count": null,
      "id": "84e6b102",
      "metadata": {
        "execution": {
          "iopub.execute_input": "2023-10-11T15:56:12.856038Z",
          "iopub.status.busy": "2023-10-11T15:56:12.855664Z",
          "iopub.status.idle": "2023-10-11T15:56:12.862251Z",
          "shell.execute_reply": "2023-10-11T15:56:12.861151Z"
        },
        "papermill": {
          "duration": 0.025156,
          "end_time": "2023-10-11T15:56:12.863508",
          "exception": false,
          "start_time": "2023-10-11T15:56:12.838352",
          "status": "completed"
        },
        "tags": [],
        "id": "84e6b102",
        "outputId": "217462d7-ddba-4ccb-dac6-5af66575641a"
      },
      "outputs": [
        {
          "name": "stdout",
          "output_type": "stream",
          "text": [
            "GoogleNet Results {'test': 0.8970999717712402, 'val': 0.90420001745224}\n"
          ]
        }
      ],
      "source": [
        "print(\"GoogleNet Results\", googlenet_results)"
      ]
    },
    {
      "cell_type": "markdown",
      "id": "428133fc",
      "metadata": {
        "papermill": {
          "duration": 0.015433,
          "end_time": "2023-10-11T15:56:12.894616",
          "exception": false,
          "start_time": "2023-10-11T15:56:12.879183",
          "status": "completed"
        },
        "tags": [],
        "id": "428133fc"
      },
      "source": [
        "### Tensorboard log\n",
        "\n",
        "A nice extra of PyTorch Lightning is the automatic logging into TensorBoard.\n",
        "To give you a better intuition of what TensorBoard can be used, we can look at the board that PyTorch Lightning has been generated when training the GoogleNet.\n",
        "TensorBoard provides an inline functionality for Jupyter notebooks, and we use it here:"
      ]
    },
    {
      "cell_type": "code",
      "execution_count": null,
      "id": "1eee3d4d",
      "metadata": {
        "execution": {
          "iopub.execute_input": "2023-10-11T15:56:12.927867Z",
          "iopub.status.busy": "2023-10-11T15:56:12.926981Z",
          "iopub.status.idle": "2023-10-11T15:56:12.940935Z",
          "shell.execute_reply": "2023-10-11T15:56:12.939856Z"
        },
        "papermill": {
          "duration": 0.032361,
          "end_time": "2023-10-11T15:56:12.942374",
          "exception": false,
          "start_time": "2023-10-11T15:56:12.910013",
          "status": "completed"
        },
        "tags": [],
        "id": "1eee3d4d"
      },
      "outputs": [],
      "source": [
        "# Import tensorboard\n",
        "%load_ext tensorboard"
      ]
    },
    {
      "cell_type": "code",
      "execution_count": null,
      "id": "9e658d4b",
      "metadata": {
        "execution": {
          "iopub.execute_input": "2023-10-11T15:56:12.975209Z",
          "iopub.status.busy": "2023-10-11T15:56:12.974857Z",
          "iopub.status.idle": "2023-10-11T15:56:13.989380Z",
          "shell.execute_reply": "2023-10-11T15:56:13.988302Z"
        },
        "papermill": {
          "duration": 1.032818,
          "end_time": "2023-10-11T15:56:13.991182",
          "exception": false,
          "start_time": "2023-10-11T15:56:12.958364",
          "status": "completed"
        },
        "tags": [],
        "id": "9e658d4b",
        "outputId": "25bb0a01-6173-484b-baf5-82d61fa2da89"
      },
      "outputs": [
        {
          "data": {
            "text/html": [
              "\n",
              "      <iframe id=\"tensorboard-frame-1c80317fa3b1799d\" width=\"100%\" height=\"800\" frameborder=\"0\">\n",
              "      </iframe>\n",
              "      <script>\n",
              "        (function() {\n",
              "          const frame = document.getElementById(\"tensorboard-frame-1c80317fa3b1799d\");\n",
              "          const url = new URL(\"/\", window.location);\n",
              "          const port = 6006;\n",
              "          if (port) {\n",
              "            url.port = port;\n",
              "          }\n",
              "          frame.src = url;\n",
              "        })();\n",
              "      </script>\n",
              "    "
            ],
            "text/plain": [
              "<IPython.core.display.HTML object>"
            ]
          },
          "metadata": {},
          "output_type": "display_data"
        }
      ],
      "source": [
        "# Opens tensorboard in notebook. Adjust the path to your CHECKPOINT_PATH!\n",
        "%tensorboard --logdir ../saved_models/tutorial5/tensorboards/GoogleNet/"
      ]
    },
    {
      "cell_type": "markdown",
      "id": "02f074a5",
      "metadata": {
        "papermill": {
          "duration": 0.021857,
          "end_time": "2023-10-11T15:56:14.035452",
          "exception": false,
          "start_time": "2023-10-11T15:56:14.013595",
          "status": "completed"
        },
        "tags": [],
        "id": "02f074a5"
      },
      "source": [
        "<center width=\"100%\"><img src=\"https://github.com/Lightning-AI/lightning-tutorials/raw/main/course_UvA-DL/04-inception-resnet-densenet/tensorboard_screenshot_GoogleNet.png\" width=\"1000px\"></center>\n",
        "\n",
        "TensorBoard is organized in multiple tabs.\n",
        "The main tab is the scalar tab where we can log the development of single numbers.\n",
        "For example, we have plotted the training loss, accuracy, learning rate, etc.\n",
        "If we look at the training or validation accuracy, we can really see the impact of using a learning rate scheduler.\n",
        "Reducing the learning rate gives our model a nice increase in training performance.\n",
        "Similarly, when looking at the training loss, we see a sudden decrease at this point.\n",
        "However, the high numbers on the training set compared to validation indicate that our model was overfitting which is inevitable for such large networks.\n",
        "\n",
        "Another interesting tab in TensorBoard is the graph tab.\n",
        "It shows us the network architecture organized by building blocks from the input to the output.\n",
        "It basically shows the operations taken in the forward step of `CIFARModule`.\n",
        "Double-click on a module to open it.\n",
        "Feel free to explore the architecture from a different perspective.\n",
        "The graph visualization can often help you to validate that your model\n",
        "is actually doing what it is supposed to do, and you don't miss any\n",
        "layers in the computation graph."
      ]
    },
    {
      "cell_type": "markdown",
      "id": "dd96f229",
      "metadata": {
        "papermill": {
          "duration": 0.015512,
          "end_time": "2023-10-11T15:56:14.071989",
          "exception": false,
          "start_time": "2023-10-11T15:56:14.056477",
          "status": "completed"
        },
        "tags": [],
        "id": "dd96f229"
      },
      "source": [
        "## ResNet\n",
        "\n",
        "The [ResNet](https://arxiv.org/abs/1512.03385) paper is one of the  [most cited AI papers](https://www.natureindex.com/news-blog/google-scholar-reveals-most-influential-papers-research-citations-twenty-twenty), and has been the foundation for neural networks with more than 1,000 layers.\n",
        "Despite its simplicity, the idea of residual connections is highly effective as it supports stable gradient propagation through the network.\n",
        "Instead of modeling $x_{l+1}=F(x_{l})$, we model $x_{l+1}=x_{l}+F(x_{l})$ where $F$ is a non-linear mapping (usually a sequence of NN modules likes convolutions, activation functions, and normalizations).\n",
        "If we do backpropagation on such residual connections, we obtain:\n",
        "\n",
        "$$\\frac{\\partial x_{l+1}}{\\partial x_{l}} = \\mathbf{I} + \\frac{\\partial F(x_{l})}{\\partial x_{l}}$$\n",
        "\n",
        "The bias towards the identity matrix guarantees a stable gradient propagation being less effected by $F$ itself.\n",
        "There have been many variants of ResNet proposed, which mostly concern the function $F$, or operations applied on the sum.\n",
        "In this tutorial, we look at two of them: the original ResNet block, and the [Pre-Activation ResNet block](https://arxiv.org/abs/1603.05027).\n",
        "We visually compare the blocks below (figure credit - [He et al. ](https://arxiv.org/abs/1603.05027)):\n",
        "\n",
        "<center width=\"100%\"><img src=\"https://github.com/Lightning-AI/lightning-tutorials/raw/main/course_UvA-DL/04-inception-resnet-densenet/resnet_block.svg\" style=\"display: block; margin-left: auto; margin-right: auto;\" width=\"300px\"/></center>\n",
        "\n",
        "The original ResNet block applies a non-linear activation function, usually ReLU, after the skip connection.\n",
        "In contrast, the pre-activation ResNet block applies the non-linearity at the beginning of $F$.\n",
        "Both have their advantages and disadvantages.\n",
        "For very deep network, however, the pre-activation ResNet has shown to perform better as the gradient flow is guaranteed to have the identity matrix as calculated above, and is not harmed by any non-linear activation applied to it.\n",
        "For comparison, in this notebook, we implement both ResNet types as shallow networks.\n",
        "\n",
        "Let's start with the original ResNet block.\n",
        "The visualization above already shows what layers are included in $F$.\n",
        "One special case we have to handle is when we want to reduce the image dimensions in terms of width and height.\n",
        "The basic ResNet block requires $F(x_{l})$ to be of the same shape as $x_{l}$.\n",
        "Thus, we need to change the dimensionality of $x_{l}$ as well before adding to $F(x_{l})$.\n",
        "The original implementation used an identity mapping with stride 2 and padded additional feature dimensions with 0.\n",
        "However, the more common implementation is to use a 1x1 convolution with stride 2 as it allows us to change the feature dimensionality while being efficient in parameter and computation cost.\n",
        "The code for the ResNet block is relatively simple, and shown below:"
      ]
    },
    {
      "cell_type": "code",
      "execution_count": null,
      "id": "004af163",
      "metadata": {
        "execution": {
          "iopub.execute_input": "2023-10-11T15:56:14.104712Z",
          "iopub.status.busy": "2023-10-11T15:56:14.104326Z",
          "iopub.status.idle": "2023-10-11T15:56:14.116616Z",
          "shell.execute_reply": "2023-10-11T15:56:14.115533Z"
        },
        "lines_to_next_cell": 2,
        "papermill": {
          "duration": 0.031101,
          "end_time": "2023-10-11T15:56:14.118572",
          "exception": false,
          "start_time": "2023-10-11T15:56:14.087471",
          "status": "completed"
        },
        "tags": [],
        "id": "004af163"
      },
      "outputs": [],
      "source": [
        "\n",
        "\n",
        "class ResNetBlock(nn.Module):\n",
        "    def __init__(self, c_in, act_fn, subsample=False, c_out=-1):\n",
        "        \"\"\"ResNetBlock.\n",
        "\n",
        "        Args:\n",
        "            c_in: Number of input features\n",
        "            act_fn: Activation class constructor (e.g. nn.ReLU)\n",
        "            subsample - If True, we want to apply a stride inside the block and reduce the output shape by 2 in height and width\n",
        "            c_out - Number of output features. Note that this is only relevant if subsample is True, as otherwise, c_out = c_in\n",
        "        \"\"\"\n",
        "        super().__init__()\n",
        "        if not subsample:\n",
        "            c_out = c_in\n",
        "\n",
        "        # Network representing F\n",
        "        self.net = nn.Sequential(\n",
        "            nn.Conv2d(\n",
        "                c_in, c_out, kernel_size=3, padding=1, stride=1 if not subsample else 2, bias=False\n",
        "            ),  # No bias needed as the Batch Norm handles it\n",
        "            nn.BatchNorm2d(c_out),\n",
        "            act_fn(),\n",
        "            nn.Conv2d(c_out, c_out, kernel_size=3, padding=1, bias=False),\n",
        "            nn.BatchNorm2d(c_out),\n",
        "        )\n",
        "\n",
        "        # 1x1 convolution with stride 2 means we take the upper left value, and transform it to new output size\n",
        "        self.downsample = nn.Conv2d(c_in, c_out, kernel_size=1, stride=2) if subsample else None\n",
        "        self.act_fn = act_fn()\n",
        "\n",
        "    def forward(self, x):\n",
        "        z = self.net(x)\n",
        "        if self.downsample is not None:\n",
        "            x = self.downsample(x)\n",
        "        out = z + x\n",
        "        out = self.act_fn(out)\n",
        "        return out"
      ]
    },
    {
      "cell_type": "markdown",
      "id": "5c476c2d",
      "metadata": {
        "lines_to_next_cell": 2,
        "papermill": {
          "duration": 0.015741,
          "end_time": "2023-10-11T15:56:14.150090",
          "exception": false,
          "start_time": "2023-10-11T15:56:14.134349",
          "status": "completed"
        },
        "tags": [],
        "id": "5c476c2d"
      },
      "source": [
        "The second block we implement is the pre-activation ResNet block.\n",
        "For this, we have to change the order of layer in `self.net`, and do not apply an activation function on the output.\n",
        "Additionally, the downsampling operation has to apply a non-linearity as well as the input, $x_l$, has not been processed by a non-linearity yet.\n",
        "Hence, the block looks as follows:"
      ]
    },
    {
      "cell_type": "code",
      "execution_count": null,
      "id": "5e5d4a91",
      "metadata": {
        "execution": {
          "iopub.execute_input": "2023-10-11T15:56:14.183131Z",
          "iopub.status.busy": "2023-10-11T15:56:14.182468Z",
          "iopub.status.idle": "2023-10-11T15:56:14.193785Z",
          "shell.execute_reply": "2023-10-11T15:56:14.192713Z"
        },
        "papermill": {
          "duration": 0.029445,
          "end_time": "2023-10-11T15:56:14.195158",
          "exception": false,
          "start_time": "2023-10-11T15:56:14.165713",
          "status": "completed"
        },
        "tags": [],
        "id": "5e5d4a91"
      },
      "outputs": [],
      "source": [
        "class PreActResNetBlock(nn.Module):\n",
        "    def __init__(self, c_in, act_fn, subsample=False, c_out=-1):\n",
        "        \"\"\"PreAct ResNet Block.\n",
        "\n",
        "        Args:\n",
        "            c_in - Number of input features\n",
        "            act_fn - Activation class constructor (e.g. nn.ReLU)\n",
        "            subsample - If True, we want to apply a stride inside the block and reduce the output shape by 2 in height and width\n",
        "            c_out - Number of output features. Note that this is only relevant if subsample is True, as otherwise, c_out = c_in\n",
        "        \"\"\"\n",
        "        super().__init__()\n",
        "        if not subsample:\n",
        "            c_out = c_in\n",
        "\n",
        "        # Network representing F\n",
        "        self.net = nn.Sequential(\n",
        "            nn.BatchNorm2d(c_in),\n",
        "            act_fn(),\n",
        "            nn.Conv2d(c_in, c_out, kernel_size=3, padding=1, stride=1 if not subsample else 2, bias=False),\n",
        "            nn.BatchNorm2d(c_out),\n",
        "            act_fn(),\n",
        "            nn.Conv2d(c_out, c_out, kernel_size=3, padding=1, bias=False),\n",
        "        )\n",
        "\n",
        "        # 1x1 convolution needs to apply non-linearity as well as not done on skip connection\n",
        "        self.downsample = (\n",
        "            nn.Sequential(nn.BatchNorm2d(c_in), act_fn(), nn.Conv2d(c_in, c_out, kernel_size=1, stride=2, bias=False))\n",
        "            if subsample\n",
        "            else None\n",
        "        )\n",
        "\n",
        "    def forward(self, x):\n",
        "        z = self.net(x)\n",
        "        if self.downsample is not None:\n",
        "            x = self.downsample(x)\n",
        "        out = z + x\n",
        "        return out"
      ]
    },
    {
      "cell_type": "markdown",
      "id": "6507d959",
      "metadata": {
        "papermill": {
          "duration": 0.015586,
          "end_time": "2023-10-11T15:56:14.226525",
          "exception": false,
          "start_time": "2023-10-11T15:56:14.210939",
          "status": "completed"
        },
        "tags": [],
        "id": "6507d959"
      },
      "source": [
        "Similarly to the model selection, we define a dictionary to create a mapping from string to block class.\n",
        "We will use the string name as hyperparameter value in our model to choose between the ResNet blocks.\n",
        "Feel free to implement any other ResNet block type and add it here as well."
      ]
    },
    {
      "cell_type": "code",
      "execution_count": null,
      "id": "d655f453",
      "metadata": {
        "execution": {
          "iopub.execute_input": "2023-10-11T15:56:14.259513Z",
          "iopub.status.busy": "2023-10-11T15:56:14.259113Z",
          "iopub.status.idle": "2023-10-11T15:56:14.264119Z",
          "shell.execute_reply": "2023-10-11T15:56:14.263161Z"
        },
        "papermill": {
          "duration": 0.023413,
          "end_time": "2023-10-11T15:56:14.265502",
          "exception": false,
          "start_time": "2023-10-11T15:56:14.242089",
          "status": "completed"
        },
        "tags": [],
        "id": "d655f453"
      },
      "outputs": [],
      "source": [
        "resnet_blocks_by_name = {\"ResNetBlock\": ResNetBlock, \"PreActResNetBlock\": PreActResNetBlock}"
      ]
    },
    {
      "cell_type": "markdown",
      "id": "9f6c204a",
      "metadata": {
        "lines_to_next_cell": 2,
        "papermill": {
          "duration": 0.01554,
          "end_time": "2023-10-11T15:56:14.296984",
          "exception": false,
          "start_time": "2023-10-11T15:56:14.281444",
          "status": "completed"
        },
        "tags": [],
        "id": "9f6c204a"
      },
      "source": [
        "The overall ResNet architecture consists of stacking multiple ResNet blocks, of which some are downsampling the input.\n",
        "When talking about ResNet blocks in the whole network, we usually group them by the same output shape.\n",
        "Hence, if we say the ResNet has `[3,3,3]` blocks, it means that we have 3 times a group of 3 ResNet blocks, where a subsampling is taking place in the fourth and seventh block.\n",
        "The ResNet with `[3,3,3]` blocks on CIFAR10 is visualized below.\n",
        "\n",
        "<center width=\"100%\"><img src=\"https://github.com/Lightning-AI/lightning-tutorials/raw/main/course_UvA-DL/04-inception-resnet-densenet/resnet_notation.svg\" width=\"500px\"></center>\n",
        "\n",
        "The three groups operate on the resolutions $32\\times32$, $16\\times16$ and $8\\times8$ respectively.\n",
        "The blocks in orange denote ResNet blocks with downsampling.\n",
        "The same notation is used by many other implementations such as in the [torchvision library](https://pytorch.org/vision/0.11/models.html#torchvision.models.resnet18) from PyTorch.\n",
        "Thus, our code looks as follows:"
      ]
    },
    {
      "cell_type": "code",
      "execution_count": null,
      "id": "8328fa5f",
      "metadata": {
        "execution": {
          "iopub.execute_input": "2023-10-11T15:56:14.329901Z",
          "iopub.status.busy": "2023-10-11T15:56:14.329529Z",
          "iopub.status.idle": "2023-10-11T15:56:14.349624Z",
          "shell.execute_reply": "2023-10-11T15:56:14.348539Z"
        },
        "papermill": {
          "duration": 0.03855,
          "end_time": "2023-10-11T15:56:14.351055",
          "exception": false,
          "start_time": "2023-10-11T15:56:14.312505",
          "status": "completed"
        },
        "tags": [],
        "id": "8328fa5f"
      },
      "outputs": [],
      "source": [
        "class ResNet(nn.Module):\n",
        "    def __init__(\n",
        "        self,\n",
        "        num_classes=10,\n",
        "        num_blocks=[3, 3, 3],\n",
        "        c_hidden=[16, 32, 64],\n",
        "        act_fn_name=\"relu\",\n",
        "        block_name=\"ResNetBlock\",\n",
        "        **kwargs,\n",
        "    ):\n",
        "        \"\"\"ResNet.\n",
        "\n",
        "        Args:\n",
        "            num_classes - Number of classification outputs (10 for CIFAR10)\n",
        "            num_blocks - List with the number of ResNet blocks to use. The first block of each group uses downsampling, except the first.\n",
        "            c_hidden - List with the hidden dimensionalities in the different blocks. Usually multiplied by 2 the deeper we go.\n",
        "            act_fn_name - Name of the activation function to use, looked up in \"act_fn_by_name\"\n",
        "            block_name - Name of the ResNet block, looked up in \"resnet_blocks_by_name\"\n",
        "        \"\"\"\n",
        "        super().__init__()\n",
        "        assert block_name in resnet_blocks_by_name\n",
        "        self.hparams = SimpleNamespace(\n",
        "            num_classes=num_classes,\n",
        "            c_hidden=c_hidden,\n",
        "            num_blocks=num_blocks,\n",
        "            act_fn_name=act_fn_name,\n",
        "            act_fn=act_fn_by_name[act_fn_name],\n",
        "            block_class=resnet_blocks_by_name[block_name],\n",
        "        )\n",
        "        self._create_network()\n",
        "        self._init_params()\n",
        "\n",
        "    def _create_network(self):\n",
        "        c_hidden = self.hparams.c_hidden\n",
        "\n",
        "        # A first convolution on the original image to scale up the channel size\n",
        "        if self.hparams.block_class == PreActResNetBlock:  # => Don't apply non-linearity on output\n",
        "            self.input_net = nn.Sequential(nn.Conv2d(3, c_hidden[0], kernel_size=3, padding=1, bias=False))\n",
        "        else:\n",
        "            self.input_net = nn.Sequential(\n",
        "                nn.Conv2d(3, c_hidden[0], kernel_size=3, padding=1, bias=False),\n",
        "                nn.BatchNorm2d(c_hidden[0]),\n",
        "                self.hparams.act_fn(),\n",
        "            )\n",
        "\n",
        "        # Creating the ResNet blocks\n",
        "        blocks = []\n",
        "        for block_idx, block_count in enumerate(self.hparams.num_blocks):\n",
        "            for bc in range(block_count):\n",
        "                # Subsample the first block of each group, except the very first one.\n",
        "                subsample = bc == 0 and block_idx > 0\n",
        "                blocks.append(\n",
        "                    self.hparams.block_class(\n",
        "                        c_in=c_hidden[block_idx if not subsample else (block_idx - 1)],\n",
        "                        act_fn=self.hparams.act_fn,\n",
        "                        subsample=subsample,\n",
        "                        c_out=c_hidden[block_idx],\n",
        "                    )\n",
        "                )\n",
        "        self.blocks = nn.Sequential(*blocks)\n",
        "\n",
        "        # Mapping to classification output\n",
        "        self.output_net = nn.Sequential(\n",
        "            nn.AdaptiveAvgPool2d((1, 1)), nn.Flatten(), nn.Linear(c_hidden[-1], self.hparams.num_classes)\n",
        "        )\n",
        "\n",
        "    def _init_params(self):\n",
        "        # Based on our discussion in Tutorial 4, we should initialize the convolutions according to the activation function\n",
        "        # Fan-out focuses on the gradient distribution, and is commonly used in ResNets\n",
        "        for m in self.modules():\n",
        "            if isinstance(m, nn.Conv2d):\n",
        "                nn.init.kaiming_normal_(m.weight, mode=\"fan_out\", nonlinearity=self.hparams.act_fn_name)\n",
        "            elif isinstance(m, nn.BatchNorm2d):\n",
        "                nn.init.constant_(m.weight, 1)\n",
        "                nn.init.constant_(m.bias, 0)\n",
        "\n",
        "    def forward(self, x):\n",
        "        x = self.input_net(x)\n",
        "        x = self.blocks(x)\n",
        "        x = self.output_net(x)\n",
        "        return x"
      ]
    },
    {
      "cell_type": "markdown",
      "id": "421959d8",
      "metadata": {
        "papermill": {
          "duration": 0.015606,
          "end_time": "2023-10-11T15:56:14.382473",
          "exception": false,
          "start_time": "2023-10-11T15:56:14.366867",
          "status": "completed"
        },
        "tags": [],
        "id": "421959d8"
      },
      "source": [
        "We also need to add the new ResNet class to our model dictionary:"
      ]
    },
    {
      "cell_type": "code",
      "execution_count": null,
      "id": "bd0f4bc2",
      "metadata": {
        "execution": {
          "iopub.execute_input": "2023-10-11T15:56:14.415452Z",
          "iopub.status.busy": "2023-10-11T15:56:14.415076Z",
          "iopub.status.idle": "2023-10-11T15:56:14.419895Z",
          "shell.execute_reply": "2023-10-11T15:56:14.418937Z"
        },
        "papermill": {
          "duration": 0.023593,
          "end_time": "2023-10-11T15:56:14.421768",
          "exception": false,
          "start_time": "2023-10-11T15:56:14.398175",
          "status": "completed"
        },
        "tags": [],
        "id": "bd0f4bc2"
      },
      "outputs": [],
      "source": [
        "model_dict[\"ResNet\"] = ResNet"
      ]
    },
    {
      "cell_type": "markdown",
      "id": "0c43fa5e",
      "metadata": {
        "papermill": {
          "duration": 0.015768,
          "end_time": "2023-10-11T15:56:14.453524",
          "exception": false,
          "start_time": "2023-10-11T15:56:14.437756",
          "status": "completed"
        },
        "tags": [],
        "id": "0c43fa5e"
      },
      "source": [
        "Finally, we can train our ResNet models.\n",
        "One difference to the GoogleNet training is that we explicitly use SGD with Momentum as optimizer instead of Adam.\n",
        "Adam often leads to a slightly worse accuracy on plain, shallow ResNets.\n",
        "It is not 100% clear why Adam performs worse in this context, but one possible explanation is related to ResNet's loss surface.\n",
        "ResNet has been shown to produce smoother loss surfaces than networks without skip connection (see [Li et al., 2018](https://arxiv.org/pdf/1712.09913.pdf) for details).\n",
        "A possible visualization of the loss surface with/out skip connections is below (figure credit - [Li et al. ](https://arxiv.org/pdf/1712.09913.pdf)):\n",
        "\n",
        "<center width=\"100%\"><img src=\"https://github.com/Lightning-AI/lightning-tutorials/raw/main/course_UvA-DL/04-inception-resnet-densenet/resnet_loss_surface.png\" style=\"display: block; margin-left: auto; margin-right: auto;\" width=\"600px\"/></center>\n",
        "\n",
        "The $x$ and $y$ axis shows a projection of the parameter space, and the $z$ axis shows the loss values achieved by different parameter values.\n",
        "On smooth surfaces like the one on the right, we might not require an adaptive learning rate as Adam provides.\n",
        "Instead, Adam can get stuck in local optima while SGD finds the wider minima that tend to generalize better.\n",
        "However, to answer this question in detail, we would need an extra tutorial because it is not easy to answer.\n",
        "For now, we conclude: for ResNet architectures, consider the optimizer to be an important hyperparameter, and try training with both Adam and SGD.\n",
        "Let's train the model below with SGD:"
      ]
    },
    {
      "cell_type": "code",
      "execution_count": null,
      "id": "1b80c0cd",
      "metadata": {
        "execution": {
          "iopub.execute_input": "2023-10-11T15:56:14.487134Z",
          "iopub.status.busy": "2023-10-11T15:56:14.486247Z",
          "iopub.status.idle": "2023-10-11T15:56:17.386821Z",
          "shell.execute_reply": "2023-10-11T15:56:17.386108Z"
        },
        "papermill": {
          "duration": 2.920648,
          "end_time": "2023-10-11T15:56:17.389928",
          "exception": false,
          "start_time": "2023-10-11T15:56:14.469280",
          "status": "completed"
        },
        "tags": [],
        "id": "1b80c0cd",
        "outputId": "65430dcf-f8cc-442b-9f39-e2ed944b06f8",
        "colab": {
          "referenced_widgets": [
            "2a9a6ac2a46a4ba78bc54140f6e053e3",
            "1bf4b57dc51d4d818973add56c97f95e"
          ]
        }
      },
      "outputs": [
        {
          "name": "stderr",
          "output_type": "stream",
          "text": [
            "GPU available: True (cuda), used: True\n"
          ]
        },
        {
          "name": "stderr",
          "output_type": "stream",
          "text": [
            "TPU available: False, using: 0 TPU cores\n"
          ]
        },
        {
          "name": "stderr",
          "output_type": "stream",
          "text": [
            "IPU available: False, using: 0 IPUs\n"
          ]
        },
        {
          "name": "stderr",
          "output_type": "stream",
          "text": [
            "HPU available: False, using: 0 HPUs\n"
          ]
        },
        {
          "name": "stderr",
          "output_type": "stream",
          "text": [
            "Lightning automatically upgraded your loaded checkpoint from v1.0.2 to v2.0.9.post0. To apply the upgrade to your files permanently, run `python -m lightning.pytorch.utilities.upgrade_checkpoint --file saved_models/ConvNets/ResNet.ckpt`\n"
          ]
        },
        {
          "name": "stderr",
          "output_type": "stream",
          "text": [
            "Missing logger folder: saved_models/ConvNets/ResNet/lightning_logs\n"
          ]
        },
        {
          "name": "stderr",
          "output_type": "stream",
          "text": [
            "LOCAL_RANK: 0 - CUDA_VISIBLE_DEVICES: [0,1]\n"
          ]
        },
        {
          "name": "stdout",
          "output_type": "stream",
          "text": [
            "Found pretrained model at saved_models/ConvNets/ResNet.ckpt, loading...\n"
          ]
        },
        {
          "data": {
            "application/vnd.jupyter.widget-view+json": {
              "model_id": "2a9a6ac2a46a4ba78bc54140f6e053e3",
              "version_major": 2,
              "version_minor": 0
            },
            "text/plain": [
              "Testing: 0it [00:00, ?it/s]"
            ]
          },
          "metadata": {},
          "output_type": "display_data"
        },
        {
          "name": "stderr",
          "output_type": "stream",
          "text": [
            "LOCAL_RANK: 0 - CUDA_VISIBLE_DEVICES: [0,1]\n"
          ]
        },
        {
          "data": {
            "application/vnd.jupyter.widget-view+json": {
              "model_id": "1bf4b57dc51d4d818973add56c97f95e",
              "version_major": 2,
              "version_minor": 0
            },
            "text/plain": [
              "Testing: 0it [00:00, ?it/s]"
            ]
          },
          "metadata": {},
          "output_type": "display_data"
        }
      ],
      "source": [
        "resnet_model, resnet_results = train_model(\n",
        "    model_name=\"ResNet\",\n",
        "    model_hparams={\"num_classes\": 10, \"c_hidden\": [16, 32, 64], \"num_blocks\": [3, 3, 3], \"act_fn_name\": \"relu\"},\n",
        "    optimizer_name=\"SGD\",\n",
        "    optimizer_hparams={\"lr\": 0.1, \"momentum\": 0.9, \"weight_decay\": 1e-4},\n",
        ")"
      ]
    },
    {
      "cell_type": "markdown",
      "id": "434b38f7",
      "metadata": {
        "papermill": {
          "duration": 0.027599,
          "end_time": "2023-10-11T15:56:17.457307",
          "exception": false,
          "start_time": "2023-10-11T15:56:17.429708",
          "status": "completed"
        },
        "tags": [],
        "id": "434b38f7"
      },
      "source": [
        "Let's also train the pre-activation ResNet as comparison:"
      ]
    },
    {
      "cell_type": "code",
      "execution_count": null,
      "id": "93bdedd4",
      "metadata": {
        "execution": {
          "iopub.execute_input": "2023-10-11T15:56:17.497331Z",
          "iopub.status.busy": "2023-10-11T15:56:17.496932Z",
          "iopub.status.idle": "2023-10-11T15:56:20.345402Z",
          "shell.execute_reply": "2023-10-11T15:56:20.344625Z"
        },
        "papermill": {
          "duration": 2.868306,
          "end_time": "2023-10-11T15:56:20.347515",
          "exception": false,
          "start_time": "2023-10-11T15:56:17.479209",
          "status": "completed"
        },
        "tags": [],
        "id": "93bdedd4",
        "outputId": "ca83d3f3-3b25-49a0-f4fd-cd01470352e5",
        "colab": {
          "referenced_widgets": [
            "323d77cc3cff4f0b8781945055929761",
            "598dab749e064dfebc61b26aa5c6933c"
          ]
        }
      },
      "outputs": [
        {
          "name": "stderr",
          "output_type": "stream",
          "text": [
            "GPU available: True (cuda), used: True\n"
          ]
        },
        {
          "name": "stderr",
          "output_type": "stream",
          "text": [
            "TPU available: False, using: 0 TPU cores\n"
          ]
        },
        {
          "name": "stderr",
          "output_type": "stream",
          "text": [
            "IPU available: False, using: 0 IPUs\n"
          ]
        },
        {
          "name": "stderr",
          "output_type": "stream",
          "text": [
            "HPU available: False, using: 0 HPUs\n"
          ]
        },
        {
          "name": "stderr",
          "output_type": "stream",
          "text": [
            "Lightning automatically upgraded your loaded checkpoint from v1.0.2 to v2.0.9.post0. To apply the upgrade to your files permanently, run `python -m lightning.pytorch.utilities.upgrade_checkpoint --file saved_models/ConvNets/ResNetPreAct.ckpt`\n"
          ]
        },
        {
          "name": "stderr",
          "output_type": "stream",
          "text": [
            "Missing logger folder: saved_models/ConvNets/ResNetPreAct/lightning_logs\n"
          ]
        },
        {
          "name": "stderr",
          "output_type": "stream",
          "text": [
            "LOCAL_RANK: 0 - CUDA_VISIBLE_DEVICES: [0,1]\n"
          ]
        },
        {
          "name": "stdout",
          "output_type": "stream",
          "text": [
            "Found pretrained model at saved_models/ConvNets/ResNetPreAct.ckpt, loading...\n"
          ]
        },
        {
          "data": {
            "application/vnd.jupyter.widget-view+json": {
              "model_id": "323d77cc3cff4f0b8781945055929761",
              "version_major": 2,
              "version_minor": 0
            },
            "text/plain": [
              "Testing: 0it [00:00, ?it/s]"
            ]
          },
          "metadata": {},
          "output_type": "display_data"
        },
        {
          "name": "stderr",
          "output_type": "stream",
          "text": [
            "LOCAL_RANK: 0 - CUDA_VISIBLE_DEVICES: [0,1]\n"
          ]
        },
        {
          "data": {
            "application/vnd.jupyter.widget-view+json": {
              "model_id": "598dab749e064dfebc61b26aa5c6933c",
              "version_major": 2,
              "version_minor": 0
            },
            "text/plain": [
              "Testing: 0it [00:00, ?it/s]"
            ]
          },
          "metadata": {},
          "output_type": "display_data"
        }
      ],
      "source": [
        "resnetpreact_model, resnetpreact_results = train_model(\n",
        "    model_name=\"ResNet\",\n",
        "    model_hparams={\n",
        "        \"num_classes\": 10,\n",
        "        \"c_hidden\": [16, 32, 64],\n",
        "        \"num_blocks\": [3, 3, 3],\n",
        "        \"act_fn_name\": \"relu\",\n",
        "        \"block_name\": \"PreActResNetBlock\",\n",
        "    },\n",
        "    optimizer_name=\"SGD\",\n",
        "    optimizer_hparams={\"lr\": 0.1, \"momentum\": 0.9, \"weight_decay\": 1e-4},\n",
        "    save_name=\"ResNetPreAct\",\n",
        ")"
      ]
    },
    {
      "cell_type": "markdown",
      "id": "67f7c844",
      "metadata": {
        "papermill": {
          "duration": 0.017219,
          "end_time": "2023-10-11T15:56:20.383021",
          "exception": false,
          "start_time": "2023-10-11T15:56:20.365802",
          "status": "completed"
        },
        "tags": [],
        "id": "67f7c844"
      },
      "source": [
        "### Tensorboard log\n",
        "\n",
        "Similarly to our GoogleNet model, we also have a TensorBoard log for the ResNet model. We can open it below."
      ]
    },
    {
      "cell_type": "code",
      "execution_count": null,
      "id": "d4cab5b0",
      "metadata": {
        "execution": {
          "iopub.execute_input": "2023-10-11T15:56:20.418793Z",
          "iopub.status.busy": "2023-10-11T15:56:20.418606Z",
          "iopub.status.idle": "2023-10-11T15:56:21.931909Z",
          "shell.execute_reply": "2023-10-11T15:56:21.930844Z"
        },
        "papermill": {
          "duration": 1.533805,
          "end_time": "2023-10-11T15:56:21.933774",
          "exception": false,
          "start_time": "2023-10-11T15:56:20.399969",
          "status": "completed"
        },
        "tags": [],
        "id": "d4cab5b0",
        "outputId": "e4e720de-b94e-4572-cf27-c204973fab49"
      },
      "outputs": [
        {
          "data": {
            "text/plain": [
              "ERROR: Failed to launch TensorBoard (exited with 1).\n",
              "Contents of stderr:\n",
              "TensorFlow installation not found - running with reduced feature set.\n",
              "\n",
              "NOTE: Using experimental fast data loading logic. To disable, pass\n",
              "    \"--load_fast=false\" and report issues on GitHub. More details:\n",
              "    https://github.com/tensorflow/tensorboard/issues/4784\n",
              "\n",
              "Address already in use\n",
              "Port 6006 is in use by another program. Either identify and stop that program, or start the server with a different port."
            ]
          },
          "metadata": {},
          "output_type": "display_data"
        }
      ],
      "source": [
        "# Opens tensorboard in notebook. Adjust the path to your CHECKPOINT_PATH! Feel free to change \"ResNet\" to \"ResNetPreAct\"\n",
        "%tensorboard --logdir ../saved_models/tutorial5/tensorboards/ResNet/"
      ]
    },
    {
      "cell_type": "markdown",
      "id": "f787a37c",
      "metadata": {
        "papermill": {
          "duration": 0.023584,
          "end_time": "2023-10-11T15:56:21.981249",
          "exception": false,
          "start_time": "2023-10-11T15:56:21.957665",
          "status": "completed"
        },
        "tags": [],
        "id": "f787a37c"
      },
      "source": [
        "<center width=\"100%\"><img src=\"https://github.com/Lightning-AI/lightning-tutorials/raw/main/course_UvA-DL/04-inception-resnet-densenet/tensorboard_screenshot_ResNet.png\" width=\"1000px\"></center>\n",
        "\n",
        "Feel free to explore the TensorBoard yourself, including the computation graph.\n",
        "In general, we can see that with SGD, the ResNet has a higher training loss than the GoogleNet in the first stage of the training.\n",
        "After reducing the learning rate however, the model achieves even higher validation accuracies.\n",
        "We compare the precise scores at the end of the notebook."
      ]
    },
    {
      "cell_type": "markdown",
      "id": "6bc72bc2",
      "metadata": {
        "lines_to_next_cell": 2,
        "papermill": {
          "duration": 0.017056,
          "end_time": "2023-10-11T15:56:22.020097",
          "exception": false,
          "start_time": "2023-10-11T15:56:22.003041",
          "status": "completed"
        },
        "tags": [],
        "id": "6bc72bc2"
      },
      "source": [
        "## DenseNet\n",
        "\n",
        "<div class=\"center-wrapper\"><div class=\"video-wrapper\"><iframe src=\"https://www.youtube.com/embed/ELEqNwv9vkE\" title=\"YouTube video player\" frameborder=\"0\" allow=\"accelerometer; autoplay; clipboard-write; encrypted-media; gyroscope; picture-in-picture\" allowfullscreen></iframe></div></div>\n",
        "\n",
        "[DenseNet](https://arxiv.org/abs/1608.06993) is another architecture for enabling very deep neural networks and takes a slightly different perspective on residual connections.\n",
        "Instead of modeling the difference between layers, DenseNet considers residual connections as a possible way to reuse features across layers, removing any necessity to learn redundant feature maps.\n",
        "If we go deeper into the network, the model learns abstract features to recognize patterns.\n",
        "However, some complex patterns consist of a combination of abstract features (e.g. hand, face, etc.\n",
        "), and low-level features (e.g. edges, basic color, etc.).\n",
        "To find these low-level features in the deep layers, standard CNNs have to learn copy such feature maps, which wastes a lot of parameter complexity.\n",
        "DenseNet provides an efficient way of reusing features by having each convolution depends on all previous input features, but add only a small amount of filters to it.\n",
        "See the figure below for an illustration (figure credit - [Hu et al. ](https://arxiv.org/abs/1608.06993)):\n",
        "\n",
        "<center width=\"100%\"><img src=\"https://github.com/Lightning-AI/lightning-tutorials/raw/main/course_UvA-DL/04-inception-resnet-densenet/densenet_block.svg\" style=\"display: block; margin-left: auto; margin-right: auto;\" width=\"500px\"/></center>\n",
        "\n",
        "The last layer, called the transition layer, is responsible for reducing the dimensionality of the feature maps in height, width, and channel size.\n",
        "Although those technically break the identity backpropagation, there are only a few in a network so that it doesn't affect the gradient flow much.\n",
        "\n",
        "We split the implementation of the layers in DenseNet into three parts: a `DenseLayer`, and a `DenseBlock`, and a `TransitionLayer`.\n",
        "The module `DenseLayer` implements a single layer inside a dense block.\n",
        "It applies a 1x1 convolution for dimensionality reduction with a subsequential 3x3 convolution.\n",
        "The output channels are concatenated to the originals and returned.\n",
        "Note that we apply the Batch Normalization as the first layer of each block.\n",
        "This allows slightly different activations for the same features to different layers, depending on what is needed.\n",
        "Overall, we can implement it as follows:"
      ]
    },
    {
      "cell_type": "code",
      "execution_count": null,
      "id": "b2dc8899",
      "metadata": {
        "execution": {
          "iopub.execute_input": "2023-10-11T15:56:22.055816Z",
          "iopub.status.busy": "2023-10-11T15:56:22.055445Z",
          "iopub.status.idle": "2023-10-11T15:56:22.065090Z",
          "shell.execute_reply": "2023-10-11T15:56:22.063997Z"
        },
        "lines_to_next_cell": 2,
        "papermill": {
          "duration": 0.029361,
          "end_time": "2023-10-11T15:56:22.066525",
          "exception": false,
          "start_time": "2023-10-11T15:56:22.037164",
          "status": "completed"
        },
        "tags": [],
        "id": "b2dc8899"
      },
      "outputs": [],
      "source": [
        "class DenseLayer(nn.Module):\n",
        "    def __init__(self, c_in, bn_size, growth_rate, act_fn):\n",
        "        \"\"\"DenseLayer.\n",
        "\n",
        "        Args:\n",
        "            c_in - Number of input channels\n",
        "            bn_size - Bottleneck size (factor of growth rate) for the output of the 1x1 convolution. Typically between 2 and 4.\n",
        "            growth_rate - Number of output channels of the 3x3 convolution\n",
        "            act_fn - Activation class constructor (e.g. nn.ReLU)\n",
        "        \"\"\"\n",
        "        super().__init__()\n",
        "        self.net = nn.Sequential(\n",
        "            nn.BatchNorm2d(c_in),\n",
        "            act_fn(),\n",
        "            nn.Conv2d(c_in, bn_size * growth_rate, kernel_size=1, bias=False),\n",
        "            nn.BatchNorm2d(bn_size * growth_rate),\n",
        "            act_fn(),\n",
        "            nn.Conv2d(bn_size * growth_rate, growth_rate, kernel_size=3, padding=1, bias=False),\n",
        "        )\n",
        "\n",
        "    def forward(self, x):\n",
        "        out = self.net(x)\n",
        "        out = torch.cat([out, x], dim=1)\n",
        "        return out"
      ]
    },
    {
      "cell_type": "markdown",
      "id": "ff6719d6",
      "metadata": {
        "lines_to_next_cell": 2,
        "papermill": {
          "duration": 0.01706,
          "end_time": "2023-10-11T15:56:22.101075",
          "exception": false,
          "start_time": "2023-10-11T15:56:22.084015",
          "status": "completed"
        },
        "tags": [],
        "id": "ff6719d6"
      },
      "source": [
        "The module `DenseBlock` summarizes multiple dense layers applied in sequence.\n",
        "Each dense layer takes as input the original input concatenated with all previous layers' feature maps:"
      ]
    },
    {
      "cell_type": "code",
      "execution_count": null,
      "id": "d7737292",
      "metadata": {
        "execution": {
          "iopub.execute_input": "2023-10-11T15:56:22.137028Z",
          "iopub.status.busy": "2023-10-11T15:56:22.136658Z",
          "iopub.status.idle": "2023-10-11T15:56:22.145375Z",
          "shell.execute_reply": "2023-10-11T15:56:22.144384Z"
        },
        "lines_to_next_cell": 2,
        "papermill": {
          "duration": 0.028626,
          "end_time": "2023-10-11T15:56:22.146772",
          "exception": false,
          "start_time": "2023-10-11T15:56:22.118146",
          "status": "completed"
        },
        "tags": [],
        "id": "d7737292"
      },
      "outputs": [],
      "source": [
        "class DenseBlock(nn.Module):\n",
        "    def __init__(self, c_in, num_layers, bn_size, growth_rate, act_fn):\n",
        "        \"\"\"Dense Block.\n",
        "\n",
        "        Args:\n",
        "            c_in - Number of input channels\n",
        "            num_layers - Number of dense layers to apply in the block\n",
        "            bn_size - Bottleneck size to use in the dense layers\n",
        "            growth_rate - Growth rate to use in the dense layers\n",
        "            act_fn - Activation function to use in the dense layers\n",
        "        \"\"\"\n",
        "        super().__init__()\n",
        "        layers = []\n",
        "        for layer_idx in range(num_layers):\n",
        "            # Input channels are original plus the feature maps from previous layers\n",
        "            layer_c_in = c_in + layer_idx * growth_rate\n",
        "            layers.append(DenseLayer(c_in=layer_c_in, bn_size=bn_size, growth_rate=growth_rate, act_fn=act_fn))\n",
        "        self.block = nn.Sequential(*layers)\n",
        "\n",
        "    def forward(self, x):\n",
        "        out = self.block(x)\n",
        "        return out"
      ]
    },
    {
      "cell_type": "markdown",
      "id": "26fca463",
      "metadata": {
        "lines_to_next_cell": 2,
        "papermill": {
          "duration": 0.017114,
          "end_time": "2023-10-11T15:56:22.181295",
          "exception": false,
          "start_time": "2023-10-11T15:56:22.164181",
          "status": "completed"
        },
        "tags": [],
        "id": "26fca463"
      },
      "source": [
        "Finally, the `TransitionLayer` takes as input the final output of a dense block and reduces its channel dimensionality using a 1x1 convolution.\n",
        "To reduce the height and width dimension, we take a slightly different approach than in ResNet and apply an average pooling with kernel size 2 and stride 2.\n",
        "This is because we don't have an additional connection to the output that would consider the full 2x2 patch instead of a single value.\n",
        "Besides, it is more parameter efficient than using a 3x3 convolution with stride 2.\n",
        "Thus, the layer is implemented as follows:"
      ]
    },
    {
      "cell_type": "code",
      "execution_count": null,
      "id": "714b0cac",
      "metadata": {
        "execution": {
          "iopub.execute_input": "2023-10-11T15:56:22.217702Z",
          "iopub.status.busy": "2023-10-11T15:56:22.217026Z",
          "iopub.status.idle": "2023-10-11T15:56:22.224469Z",
          "shell.execute_reply": "2023-10-11T15:56:22.223397Z"
        },
        "lines_to_next_cell": 2,
        "papermill": {
          "duration": 0.027403,
          "end_time": "2023-10-11T15:56:22.225882",
          "exception": false,
          "start_time": "2023-10-11T15:56:22.198479",
          "status": "completed"
        },
        "tags": [],
        "id": "714b0cac"
      },
      "outputs": [],
      "source": [
        "class TransitionLayer(nn.Module):\n",
        "    def __init__(self, c_in, c_out, act_fn):\n",
        "        super().__init__()\n",
        "        self.transition = nn.Sequential(\n",
        "            nn.BatchNorm2d(c_in),\n",
        "            act_fn(),\n",
        "            nn.Conv2d(c_in, c_out, kernel_size=1, bias=False),\n",
        "            nn.AvgPool2d(kernel_size=2, stride=2),  # Average the output for each 2x2 pixel group\n",
        "        )\n",
        "\n",
        "    def forward(self, x):\n",
        "        return self.transition(x)"
      ]
    },
    {
      "cell_type": "markdown",
      "id": "82db35bf",
      "metadata": {
        "lines_to_next_cell": 2,
        "papermill": {
          "duration": 0.017435,
          "end_time": "2023-10-11T15:56:22.260738",
          "exception": false,
          "start_time": "2023-10-11T15:56:22.243303",
          "status": "completed"
        },
        "tags": [],
        "id": "82db35bf"
      },
      "source": [
        "Now we can put everything together and create our DenseNet.\n",
        "To specify the number of layers, we use a similar notation as in ResNets and pass on a list of ints representing the number of layers per block.\n",
        "After each dense block except the last one, we apply a transition layer to reduce the dimensionality by 2."
      ]
    },
    {
      "cell_type": "code",
      "execution_count": null,
      "id": "f3697b10",
      "metadata": {
        "execution": {
          "iopub.execute_input": "2023-10-11T15:56:22.297147Z",
          "iopub.status.busy": "2023-10-11T15:56:22.296780Z",
          "iopub.status.idle": "2023-10-11T15:56:22.315010Z",
          "shell.execute_reply": "2023-10-11T15:56:22.313931Z"
        },
        "papermill": {
          "duration": 0.038258,
          "end_time": "2023-10-11T15:56:22.316446",
          "exception": false,
          "start_time": "2023-10-11T15:56:22.278188",
          "status": "completed"
        },
        "tags": [],
        "id": "f3697b10"
      },
      "outputs": [],
      "source": [
        "class DenseNet(nn.Module):\n",
        "    def __init__(\n",
        "        self, num_classes=10, num_layers=[6, 6, 6, 6], bn_size=2, growth_rate=16, act_fn_name=\"relu\", **kwargs\n",
        "    ):\n",
        "        super().__init__()\n",
        "        self.hparams = SimpleNamespace(\n",
        "            num_classes=num_classes,\n",
        "            num_layers=num_layers,\n",
        "            bn_size=bn_size,\n",
        "            growth_rate=growth_rate,\n",
        "            act_fn_name=act_fn_name,\n",
        "            act_fn=act_fn_by_name[act_fn_name],\n",
        "        )\n",
        "        self._create_network()\n",
        "        self._init_params()\n",
        "\n",
        "    def _create_network(self):\n",
        "        c_hidden = self.hparams.growth_rate * self.hparams.bn_size  # The start number of hidden channels\n",
        "\n",
        "        # A first convolution on the original image to scale up the channel size\n",
        "        self.input_net = nn.Sequential(\n",
        "            # No batch norm or activation function as done inside the Dense layers\n",
        "            nn.Conv2d(3, c_hidden, kernel_size=3, padding=1)\n",
        "        )\n",
        "\n",
        "        # Creating the dense blocks, eventually including transition layers\n",
        "        blocks = []\n",
        "        for block_idx, num_layers in enumerate(self.hparams.num_layers):\n",
        "            blocks.append(\n",
        "                DenseBlock(\n",
        "                    c_in=c_hidden,\n",
        "                    num_layers=num_layers,\n",
        "                    bn_size=self.hparams.bn_size,\n",
        "                    growth_rate=self.hparams.growth_rate,\n",
        "                    act_fn=self.hparams.act_fn,\n",
        "                )\n",
        "            )\n",
        "            c_hidden = c_hidden + num_layers * self.hparams.growth_rate  # Overall output of the dense block\n",
        "            if block_idx < len(self.hparams.num_layers) - 1:  # Don't apply transition layer on last block\n",
        "                blocks.append(TransitionLayer(c_in=c_hidden, c_out=c_hidden // 2, act_fn=self.hparams.act_fn))\n",
        "                c_hidden = c_hidden // 2\n",
        "\n",
        "        self.blocks = nn.Sequential(*blocks)\n",
        "\n",
        "        # Mapping to classification output\n",
        "        self.output_net = nn.Sequential(\n",
        "            nn.BatchNorm2d(c_hidden),  # The features have not passed a non-linearity until here.\n",
        "            self.hparams.act_fn(),\n",
        "            nn.AdaptiveAvgPool2d((1, 1)),\n",
        "            nn.Flatten(),\n",
        "            nn.Linear(c_hidden, self.hparams.num_classes),\n",
        "        )\n",
        "\n",
        "    def _init_params(self):\n",
        "        # Based on our discussion in Tutorial 4, we should initialize the\n",
        "        # convolutions according to the activation function\n",
        "        for m in self.modules():\n",
        "            if isinstance(m, nn.Conv2d):\n",
        "                nn.init.kaiming_normal_(m.weight, nonlinearity=self.hparams.act_fn_name)\n",
        "            elif isinstance(m, nn.BatchNorm2d):\n",
        "                nn.init.constant_(m.weight, 1)\n",
        "                nn.init.constant_(m.bias, 0)\n",
        "\n",
        "    def forward(self, x):\n",
        "        x = self.input_net(x)\n",
        "        x = self.blocks(x)\n",
        "        x = self.output_net(x)\n",
        "        return x"
      ]
    },
    {
      "cell_type": "markdown",
      "id": "33297514",
      "metadata": {
        "papermill": {
          "duration": 0.017441,
          "end_time": "2023-10-11T15:56:22.351489",
          "exception": false,
          "start_time": "2023-10-11T15:56:22.334048",
          "status": "completed"
        },
        "tags": [],
        "id": "33297514"
      },
      "source": [
        "Let's also add the DenseNet to our model dictionary:"
      ]
    },
    {
      "cell_type": "code",
      "execution_count": null,
      "id": "5e328535",
      "metadata": {
        "execution": {
          "iopub.execute_input": "2023-10-11T15:56:22.387846Z",
          "iopub.status.busy": "2023-10-11T15:56:22.387493Z",
          "iopub.status.idle": "2023-10-11T15:56:22.392496Z",
          "shell.execute_reply": "2023-10-11T15:56:22.391484Z"
        },
        "papermill": {
          "duration": 0.025029,
          "end_time": "2023-10-11T15:56:22.394043",
          "exception": false,
          "start_time": "2023-10-11T15:56:22.369014",
          "status": "completed"
        },
        "tags": [],
        "id": "5e328535"
      },
      "outputs": [],
      "source": [
        "model_dict[\"DenseNet\"] = DenseNet"
      ]
    },
    {
      "cell_type": "markdown",
      "id": "c9a1b124",
      "metadata": {
        "papermill": {
          "duration": 0.017443,
          "end_time": "2023-10-11T15:56:22.429011",
          "exception": false,
          "start_time": "2023-10-11T15:56:22.411568",
          "status": "completed"
        },
        "tags": [],
        "id": "c9a1b124"
      },
      "source": [
        "Lastly, we train our network.\n",
        "In contrast to ResNet, DenseNet does not show any issues with Adam, and hence we train it with this optimizer.\n",
        "The other hyperparameters are chosen to result in a network with a similar parameter size as the ResNet and GoogleNet.\n",
        "Commonly, when designing very deep networks, DenseNet is more parameter\n",
        "efficient than ResNet while achieving a similar or even better\n",
        "performance."
      ]
    },
    {
      "cell_type": "code",
      "execution_count": null,
      "id": "a40de828",
      "metadata": {
        "execution": {
          "iopub.execute_input": "2023-10-11T15:56:22.465649Z",
          "iopub.status.busy": "2023-10-11T15:56:22.465279Z",
          "iopub.status.idle": "2023-10-11T15:56:27.764101Z",
          "shell.execute_reply": "2023-10-11T15:56:27.763190Z"
        },
        "papermill": {
          "duration": 5.319105,
          "end_time": "2023-10-11T15:56:27.765698",
          "exception": false,
          "start_time": "2023-10-11T15:56:22.446593",
          "status": "completed"
        },
        "tags": [],
        "id": "a40de828",
        "outputId": "3bd1ee98-7790-42dd-879d-ab6dadffa76f",
        "colab": {
          "referenced_widgets": [
            "52282248136549aea4899c2cfce8c566",
            "4eabeaf024854d0581a98a6bc15e5b60"
          ]
        }
      },
      "outputs": [
        {
          "name": "stderr",
          "output_type": "stream",
          "text": [
            "GPU available: True (cuda), used: True\n"
          ]
        },
        {
          "name": "stderr",
          "output_type": "stream",
          "text": [
            "TPU available: False, using: 0 TPU cores\n"
          ]
        },
        {
          "name": "stderr",
          "output_type": "stream",
          "text": [
            "IPU available: False, using: 0 IPUs\n"
          ]
        },
        {
          "name": "stderr",
          "output_type": "stream",
          "text": [
            "HPU available: False, using: 0 HPUs\n"
          ]
        },
        {
          "name": "stderr",
          "output_type": "stream",
          "text": [
            "Lightning automatically upgraded your loaded checkpoint from v1.0.2 to v2.0.9.post0. To apply the upgrade to your files permanently, run `python -m lightning.pytorch.utilities.upgrade_checkpoint --file saved_models/ConvNets/DenseNet.ckpt`\n"
          ]
        },
        {
          "name": "stderr",
          "output_type": "stream",
          "text": [
            "Missing logger folder: saved_models/ConvNets/DenseNet/lightning_logs\n"
          ]
        },
        {
          "name": "stderr",
          "output_type": "stream",
          "text": [
            "LOCAL_RANK: 0 - CUDA_VISIBLE_DEVICES: [0,1]\n"
          ]
        },
        {
          "name": "stdout",
          "output_type": "stream",
          "text": [
            "Found pretrained model at saved_models/ConvNets/DenseNet.ckpt, loading...\n"
          ]
        },
        {
          "data": {
            "application/vnd.jupyter.widget-view+json": {
              "model_id": "52282248136549aea4899c2cfce8c566",
              "version_major": 2,
              "version_minor": 0
            },
            "text/plain": [
              "Testing: 0it [00:00, ?it/s]"
            ]
          },
          "metadata": {},
          "output_type": "display_data"
        },
        {
          "name": "stderr",
          "output_type": "stream",
          "text": [
            "LOCAL_RANK: 0 - CUDA_VISIBLE_DEVICES: [0,1]\n"
          ]
        },
        {
          "data": {
            "application/vnd.jupyter.widget-view+json": {
              "model_id": "4eabeaf024854d0581a98a6bc15e5b60",
              "version_major": 2,
              "version_minor": 0
            },
            "text/plain": [
              "Testing: 0it [00:00, ?it/s]"
            ]
          },
          "metadata": {},
          "output_type": "display_data"
        }
      ],
      "source": [
        "densenet_model, densenet_results = train_model(\n",
        "    model_name=\"DenseNet\",\n",
        "    model_hparams={\n",
        "        \"num_classes\": 10,\n",
        "        \"num_layers\": [6, 6, 6, 6],\n",
        "        \"bn_size\": 2,\n",
        "        \"growth_rate\": 16,\n",
        "        \"act_fn_name\": \"relu\",\n",
        "    },\n",
        "    optimizer_name=\"Adam\",\n",
        "    optimizer_hparams={\"lr\": 1e-3, \"weight_decay\": 1e-4},\n",
        ")"
      ]
    },
    {
      "cell_type": "markdown",
      "id": "8e4bc4c6",
      "metadata": {
        "papermill": {
          "duration": 0.018217,
          "end_time": "2023-10-11T15:56:27.803056",
          "exception": false,
          "start_time": "2023-10-11T15:56:27.784839",
          "status": "completed"
        },
        "tags": [],
        "id": "8e4bc4c6"
      },
      "source": [
        "### Tensorboard log\n",
        "\n",
        "Finally, we also have another TensorBoard for the DenseNet training. We take a look at it below:"
      ]
    },
    {
      "cell_type": "code",
      "execution_count": null,
      "id": "178a0f5c",
      "metadata": {
        "execution": {
          "iopub.execute_input": "2023-10-11T15:56:27.841133Z",
          "iopub.status.busy": "2023-10-11T15:56:27.840759Z",
          "iopub.status.idle": "2023-10-11T15:56:28.852295Z",
          "shell.execute_reply": "2023-10-11T15:56:28.851649Z"
        },
        "papermill": {
          "duration": 1.032301,
          "end_time": "2023-10-11T15:56:28.853658",
          "exception": false,
          "start_time": "2023-10-11T15:56:27.821357",
          "status": "completed"
        },
        "tags": [],
        "id": "178a0f5c",
        "outputId": "bc2b2400-e026-49d4-9e30-df30d007027c"
      },
      "outputs": [
        {
          "data": {
            "text/plain": [
              "ERROR: Failed to launch TensorBoard (exited with 1).\n",
              "Contents of stderr:\n",
              "TensorFlow installation not found - running with reduced feature set.\n",
              "\n",
              "NOTE: Using experimental fast data loading logic. To disable, pass\n",
              "    \"--load_fast=false\" and report issues on GitHub. More details:\n",
              "    https://github.com/tensorflow/tensorboard/issues/4784\n",
              "\n",
              "Address already in use\n",
              "Port 6006 is in use by another program. Either identify and stop that program, or start the server with a different port."
            ]
          },
          "metadata": {},
          "output_type": "display_data"
        }
      ],
      "source": [
        "# Opens tensorboard in notebook. Adjust the path to your CHECKPOINT_PATH! Feel free to change \"ResNet\" to \"ResNetPreAct\"\n",
        "%tensorboard --logdir ../saved_models/tutorial5/tensorboards/DenseNet/"
      ]
    },
    {
      "cell_type": "markdown",
      "id": "0a1db19d",
      "metadata": {
        "papermill": {
          "duration": 0.018197,
          "end_time": "2023-10-11T15:56:28.890625",
          "exception": false,
          "start_time": "2023-10-11T15:56:28.872428",
          "status": "completed"
        },
        "tags": [],
        "id": "0a1db19d"
      },
      "source": [
        "<center width=\"100%\"><img src=\"https://github.com/Lightning-AI/lightning-tutorials/raw/main/course_UvA-DL/04-inception-resnet-densenet/tensorboard_screenshot_DenseNet.png\" width=\"1000px\"></center>\n",
        "\n",
        "The overall course of the validation accuracy and training loss resemble the training of GoogleNet, which is also related to training the network with Adam.\n",
        "Feel free to explore the training metrics yourself."
      ]
    },
    {
      "cell_type": "markdown",
      "id": "76548c63",
      "metadata": {
        "papermill": {
          "duration": 0.018127,
          "end_time": "2023-10-11T15:56:28.927416",
          "exception": false,
          "start_time": "2023-10-11T15:56:28.909289",
          "status": "completed"
        },
        "tags": [],
        "id": "76548c63"
      },
      "source": [
        "## Conclusion and Comparison\n",
        "\n",
        "After discussing each model separately, and training all of them, we can finally compare them.\n",
        "First, let's organize the results of all models in a table:"
      ]
    },
    {
      "cell_type": "code",
      "execution_count": null,
      "id": "9683b23b",
      "metadata": {
        "execution": {
          "iopub.execute_input": "2023-10-11T15:56:28.964885Z",
          "iopub.status.busy": "2023-10-11T15:56:28.964672Z",
          "iopub.status.idle": "2023-10-11T15:56:28.970938Z",
          "shell.execute_reply": "2023-10-11T15:56:28.970076Z"
        },
        "papermill": {
          "duration": 0.026592,
          "end_time": "2023-10-11T15:56:28.972352",
          "exception": false,
          "start_time": "2023-10-11T15:56:28.945760",
          "status": "completed"
        },
        "tags": [],
        "id": "9683b23b",
        "outputId": "87bd92ca-37d4-453f-d1f8-10a5c92b1bba"
      },
      "outputs": [
        {
          "data": {
            "text/html": [
              "<!-- Some HTML code to increase font size in the following table -->\n",
              "<style>\n",
              "th {font-size: 120%;}\n",
              "td {font-size: 120%;}\n",
              "</style>\n"
            ],
            "text/plain": [
              "<IPython.core.display.HTML object>"
            ]
          },
          "metadata": {},
          "output_type": "display_data"
        }
      ],
      "source": [
        "%%html\n",
        "<!-- Some HTML code to increase font size in the following table -->\n",
        "<style>\n",
        "th {font-size: 120%;}\n",
        "td {font-size: 120%;}\n",
        "</style>"
      ]
    },
    {
      "cell_type": "code",
      "execution_count": null,
      "id": "d3c41de9",
      "metadata": {
        "execution": {
          "iopub.execute_input": "2023-10-11T15:56:29.009653Z",
          "iopub.status.busy": "2023-10-11T15:56:29.009476Z",
          "iopub.status.idle": "2023-10-11T15:56:29.023318Z",
          "shell.execute_reply": "2023-10-11T15:56:29.022575Z"
        },
        "papermill": {
          "duration": 0.033937,
          "end_time": "2023-10-11T15:56:29.024562",
          "exception": false,
          "start_time": "2023-10-11T15:56:28.990625",
          "status": "completed"
        },
        "tags": [],
        "id": "d3c41de9",
        "outputId": "c7460654-c0ea-4efa-8bc9-ba77f4b3d0a4"
      },
      "outputs": [
        {
          "data": {
            "text/html": [
              "<table>\n",
              "<thead>\n",
              "<tr><th>Model       </th><th>Val Accuracy  </th><th>Test Accuracy  </th><th>Num Parameters  </th></tr>\n",
              "</thead>\n",
              "<tbody>\n",
              "<tr><td>GoogleNet   </td><td>90.42%        </td><td>89.71%         </td><td>260,650         </td></tr>\n",
              "<tr><td>ResNet      </td><td>91.84%        </td><td>91.07%         </td><td>272,378         </td></tr>\n",
              "<tr><td>ResNetPreAct</td><td>91.80%        </td><td>91.07%         </td><td>272,250         </td></tr>\n",
              "<tr><td>DenseNet    </td><td>90.72%        </td><td>90.22%         </td><td>239,146         </td></tr>\n",
              "</tbody>\n",
              "</table>"
            ],
            "text/plain": [
              "<IPython.core.display.HTML object>"
            ]
          },
          "metadata": {},
          "output_type": "display_data"
        }
      ],
      "source": [
        "all_models = [\n",
        "    (\"GoogleNet\", googlenet_results, googlenet_model),\n",
        "    (\"ResNet\", resnet_results, resnet_model),\n",
        "    (\"ResNetPreAct\", resnetpreact_results, resnetpreact_model),\n",
        "    (\"DenseNet\", densenet_results, densenet_model),\n",
        "]\n",
        "table = [\n",
        "    [\n",
        "        model_name,\n",
        "        f\"{100.0*model_results['val']:4.2f}%\",\n",
        "        f\"{100.0*model_results['test']:4.2f}%\",\n",
        "        f\"{sum(np.prod(p.shape) for p in model.parameters()):,}\",\n",
        "    ]\n",
        "    for model_name, model_results, model in all_models\n",
        "]\n",
        "display(\n",
        "    HTML(\n",
        "        tabulate.tabulate(table, tablefmt=\"html\", headers=[\"Model\", \"Val Accuracy\", \"Test Accuracy\", \"Num Parameters\"])\n",
        "    )\n",
        ")"
      ]
    },
    {
      "cell_type": "markdown",
      "id": "46fe45e3",
      "metadata": {
        "papermill": {
          "duration": 0.018202,
          "end_time": "2023-10-11T15:56:29.061104",
          "exception": false,
          "start_time": "2023-10-11T15:56:29.042902",
          "status": "completed"
        },
        "tags": [],
        "id": "46fe45e3"
      },
      "source": [
        "First of all, we see that all models are performing reasonably well.\n",
        "Simple models as you have implemented them in the practical achieve considerably lower performance, which is beside the lower number of parameters also attributed to the architecture design choice.\n",
        "GoogleNet is the model to obtain the lowest performance on the validation and test set, although it is very close to DenseNet.\n",
        "A proper hyperparameter search over all the channel sizes in GoogleNet would likely improve the accuracy of the model to a similar level, but this is also expensive given a large number of hyperparameters.\n",
        "ResNet outperforms both DenseNet and GoogleNet by more than 1% on the validation set, while there is a minor difference between both versions, original and pre-activation.\n",
        "We can conclude that for shallow networks, the place of the activation function does not seem to be crucial, although papers have reported the contrary for very deep networks (e.g. [He et al. ](https://arxiv.org/abs/1603.05027)).\n",
        "\n",
        "In general, we can conclude that ResNet is a simple, but powerful architecture.\n",
        "If we would apply the models on more complex tasks with larger images and more layers inside the networks, we would likely see a bigger gap between GoogleNet and skip-connection architectures like ResNet and DenseNet.\n",
        "A comparison with deeper models on CIFAR10 can be for example found [here](https://github.com/kuangliu/pytorch-cifar).\n",
        "Interestingly, DenseNet outperforms the original ResNet on their setup but comes closely behind the Pre-Activation ResNet.\n",
        "The best model, a Dual Path Network ([Chen et.\n",
        "al](https://arxiv.org/abs/1707.01629)), is actually a combination of\n",
        "ResNet and DenseNet showing that both offer different advantages."
      ]
    },
    {
      "cell_type": "markdown",
      "id": "cbb09c73",
      "metadata": {
        "papermill": {
          "duration": 0.018543,
          "end_time": "2023-10-11T15:56:29.097873",
          "exception": false,
          "start_time": "2023-10-11T15:56:29.079330",
          "status": "completed"
        },
        "tags": [],
        "id": "cbb09c73"
      },
      "source": [
        "### Which model should I choose for my task?\n",
        "\n",
        "We have reviewed four different models.\n",
        "So, which one should we choose if have given a new task?\n",
        "Usually, starting with a ResNet is a good idea given the superior performance of the CIFAR dataset and its simple implementation.\n",
        "Besides, for the parameter number we have chosen here, ResNet is the fastest as DenseNet and GoogleNet have many more layers that are applied in sequence in our primitive implementation.\n",
        "However, if you have a really difficult task, such as semantic\n",
        "segmentation on HD images, more complex variants of ResNet and DenseNet\n",
        "are recommended."
      ]
    },
    {
      "cell_type": "markdown",
      "id": "ce1245a3",
      "metadata": {
        "papermill": {
          "duration": 0.018479,
          "end_time": "2023-10-11T15:56:29.134949",
          "exception": false,
          "start_time": "2023-10-11T15:56:29.116470",
          "status": "completed"
        },
        "tags": [],
        "id": "ce1245a3"
      },
      "source": [
        "## Congratulations - Time to Join the Community!\n",
        "\n",
        "Congratulations on completing this notebook tutorial! If you enjoyed this and would like to join the Lightning\n",
        "movement, you can do so in the following ways!\n",
        "\n",
        "### Star [Lightning](https://github.com/Lightning-AI/lightning) on GitHub\n",
        "The easiest way to help our community is just by starring the GitHub repos! This helps raise awareness of the cool\n",
        "tools we're building.\n",
        "\n",
        "### Join our [Slack](https://www.pytorchlightning.ai/community)!\n",
        "The best way to keep up to date on the latest advancements is to join our community! Make sure to introduce yourself\n",
        "and share your interests in `#general` channel\n",
        "\n",
        "\n",
        "### Contributions !\n",
        "The best way to contribute to our community is to become a code contributor! At any time you can go to\n",
        "[Lightning](https://github.com/Lightning-AI/lightning) or [Bolt](https://github.com/Lightning-AI/lightning-bolts)\n",
        "GitHub Issues page and filter for \"good first issue\".\n",
        "\n",
        "* [Lightning good first issue](https://github.com/Lightning-AI/lightning/issues?q=is%3Aopen+is%3Aissue+label%3A%22good+first+issue%22)\n",
        "* [Bolt good first issue](https://github.com/Lightning-AI/lightning-bolts/issues?q=is%3Aopen+is%3Aissue+label%3A%22good+first+issue%22)\n",
        "* You can also contribute your own notebooks with useful examples !\n",
        "\n",
        "### Great thanks from the entire Pytorch Lightning Team for your interest !\n",
        "\n",
        "[![Pytorch Lightning](data:image/png;base64,NDA0OiBOb3QgRm91bmQ=){height=\"60px\" width=\"240px\"}](https://pytorchlightning.ai)"
      ]
    }
  ],
  "metadata": {
    "jupytext": {
      "cell_metadata_filter": "colab_type,colab,id,-all",
      "formats": "ipynb,py:percent",
      "main_language": "python"
    },
    "language_info": {
      "codemirror_mode": {
        "name": "ipython",
        "version": 3
      },
      "file_extension": ".py",
      "mimetype": "text/x-python",
      "name": "python",
      "nbconvert_exporter": "python",
      "pygments_lexer": "ipython3",
      "version": "3.10.12"
    },
    "papermill": {
      "default_parameters": {},
      "duration": 138.43435,
      "end_time": "2023-10-11T15:56:32.074330",
      "environment_variables": {},
      "exception": null,
      "input_path": "course_UvA-DL/04-inception-resnet-densenet/Inception_ResNet_DenseNet.ipynb",
      "output_path": ".notebooks/course_UvA-DL/04-inception-resnet-densenet.ipynb",
      "parameters": {},
      "start_time": "2023-10-11T15:54:13.639980",
      "version": "2.4.0"
    },
    "widgets": {
      "application/vnd.jupyter.widget-state+json": {}
    },
    "colab": {
      "provenance": []
    }
  },
  "nbformat": 4,
  "nbformat_minor": 5
}