{
 "cells": [
  {
   "cell_type": "code",
   "execution_count": 1,
   "metadata": {
    "ExecuteTime": {
     "end_time": "2021-04-02T02:39:19.015734Z",
     "start_time": "2021-04-02T02:39:17.737431Z"
    },
    "tags": [
     "remove_cell"
    ]
   },
   "outputs": [],
   "source": [
    "import torch\n",
    "import torch.nn as nn\n",
    "import torch.nn.functional as F\n",
    "import torchvision \n",
    "from torch.nn.utils.rnn import pack_padded_sequence, pad_packed_sequence\n",
    "from torchvision import transforms\n",
    "\n",
    "from torch.utils.data import Dataset, DataLoader\n",
    "\n",
    "from tqdm.autonotebook import tqdm\n",
    "\n",
    "import numpy as np\n",
    "import seaborn as sns\n",
    "import matplotlib.pyplot as plt\n",
    "from matplotlib.pyplot import imshow\n",
    "\n",
    "import pandas as pd\n",
    "\n",
    "from sklearn.metrics import accuracy_score\n",
    "\n",
    "import time\n",
    "\n",
    "from idlmam import train_network, Flatten, weight_reset, View, set_seed\n",
    "from idlmam import AttentionAvg, GeneralScore, DotScore, AdditiveAttentionScore, ApplyAttention, getMaskByFill"
   ]
  },
  {
   "cell_type": "code",
   "execution_count": 2,
   "metadata": {
    "ExecuteTime": {
     "end_time": "2021-04-02T02:39:19.020786Z",
     "start_time": "2021-04-02T02:39:19.017111Z"
    },
    "tags": [
     "remove_cell"
    ]
   },
   "outputs": [],
   "source": [
    "%matplotlib inline\n",
    "from IPython.display import set_matplotlib_formats\n",
    "set_matplotlib_formats('png', 'pdf')\n",
    "\n",
    "from IPython.display import display_pdf\n",
    "from IPython.display import Latex"
   ]
  },
  {
   "cell_type": "code",
   "execution_count": 3,
   "metadata": {
    "ExecuteTime": {
     "end_time": "2021-04-02T02:39:19.027469Z",
     "start_time": "2021-04-02T02:39:19.021895Z"
    },
    "tags": [
     "remove_cell"
    ]
   },
   "outputs": [],
   "source": [
    "torch.backends.cudnn.deterministic=True\n",
    "set_seed(42)"
   ]
  },
  {
   "cell_type": "code",
   "execution_count": 4,
   "metadata": {
    "ExecuteTime": {
     "end_time": "2021-04-02T02:39:19.068731Z",
     "start_time": "2021-04-02T02:39:19.028602Z"
    },
    "tags": [
     "remove_cell"
    ]
   },
   "outputs": [],
   "source": [
    "device = torch.device(\"cuda\") if torch.cuda.is_available() else torch.device(\"cpu\")"
   ]
  },
  {
   "cell_type": "code",
   "execution_count": 5,
   "metadata": {
    "ExecuteTime": {
     "end_time": "2021-04-02T02:39:19.085718Z",
     "start_time": "2021-04-02T02:39:19.070201Z"
    },
    "tags": [
     "remove_cell"
    ]
   },
   "outputs": [],
   "source": [
    "B = 128\n",
    "epochs = 10"
   ]
  },
  {
   "cell_type": "code",
   "execution_count": 6,
   "metadata": {
    "ExecuteTime": {
     "end_time": "2021-04-02T02:39:20.252467Z",
     "start_time": "2021-04-02T02:39:19.087349Z"
    }
   },
   "outputs": [],
   "source": [
    "from io import BytesIO\n",
    "from zipfile import ZipFile\n",
    "from urllib.request import urlopen\n",
    "import re\n",
    "\n",
    "all_data = []\n",
    "resp = urlopen(\"https://download.pytorch.org/tutorial/data.zip\")\n",
    "zipfile = ZipFile(BytesIO(resp.read()))\n",
    "for line in zipfile.open(\"data/eng-fra.txt\").readlines():\n",
    "    line = line.decode('utf-8').lower()#lower case only please\n",
    "    line = re.sub(r\"[-.!?]+\", r\" \", line)#no puntuation\n",
    "    source_lang, target_lang = line.split(\"\\t\")[0:2]\n",
    "    all_data.append( (source_lang.strip(), target_lang.strip()) ) #(english, french)"
   ]
  },
  {
   "cell_type": "code",
   "execution_count": 7,
   "metadata": {
    "ExecuteTime": {
     "end_time": "2021-04-02T02:39:20.265708Z",
     "start_time": "2021-04-02T02:39:20.254416Z"
    }
   },
   "outputs": [
    {
     "name": "stdout",
     "output_type": "stream",
     "text": [
      "('go', 'va')\n",
      "('run', 'cours')\n",
      "('run', 'courez')\n",
      "('wow', 'ça alors')\n",
      "('fire', 'au feu')\n",
      "('help', \"à l'aide\")\n",
      "('jump', 'saute')\n",
      "('stop', 'ça suffit')\n",
      "('stop', 'stop')\n",
      "('stop', 'arrête toi')\n"
     ]
    }
   ],
   "source": [
    "for i in range(10):\n",
    "    print(all_data[i])"
   ]
  },
  {
   "cell_type": "code",
   "execution_count": 8,
   "metadata": {
    "ExecuteTime": {
     "end_time": "2021-04-02T02:39:20.418728Z",
     "start_time": "2021-04-02T02:39:20.267277Z"
    }
   },
   "outputs": [
    {
     "name": "stdout",
     "output_type": "stream",
     "text": [
      "Using  66251 / 135842\n"
     ]
    }
   ],
   "source": [
    "short_subset = [] #the subset we will actually use\n",
    "MAX_LEN = 6\n",
    "for (s, t) in all_data:\n",
    "    if max(len(s.split(\" \")), len(t.split(\" \"))) <= MAX_LEN:\n",
    "        short_subset.append((s,t))\n",
    "print(\"Using \", len(short_subset), \"/\", len(all_data))"
   ]
  },
  {
   "cell_type": "code",
   "execution_count": 9,
   "metadata": {
    "ExecuteTime": {
     "end_time": "2021-04-02T02:39:20.550299Z",
     "start_time": "2021-04-02T02:39:20.419974Z"
    }
   },
   "outputs": [
    {
     "name": "stdout",
     "output_type": "stream",
     "text": [
      "Size of Vocab:  24577\n"
     ]
    }
   ],
   "source": [
    "SOS_token = \"<SOS>\" #\"START_OF_SENTANCE_TOKEN\"\n",
    "EOS_token = \"<EOS>\" #\"END_OF_SENTANCE_TOKEN\"\n",
    "PAD_token = \"_PADDING_\"\n",
    "\n",
    "word2indx = {PAD_token:0, SOS_token:1, EOS_token:2}\n",
    "for s, t in short_subset:\n",
    "    for sentance in (s, t):\n",
    "        for word in sentance.split(\" \"):\n",
    "            if word not in word2indx:\n",
    "                word2indx[word] = len(word2indx)\n",
    "print(\"Size of Vocab: \", len(word2indx))\n",
    "#build the inverted dict for looking at the outputs later\n",
    "indx2word = {}\n",
    "for word, indx in word2indx.items():\n",
    "    indx2word[indx] = word"
   ]
  },
  {
   "cell_type": "code",
   "execution_count": 10,
   "metadata": {
    "ExecuteTime": {
     "end_time": "2021-04-02T02:39:20.556031Z",
     "start_time": "2021-04-02T02:39:20.551494Z"
    }
   },
   "outputs": [],
   "source": [
    "class TranslationDataset(Dataset):\n",
    "    \"\"\"\n",
    "    Takes a dataset with tuples of strings (x, y) and\n",
    "    converts them to tuples of int64 tensors. \n",
    "    This makes it easy to encode Seq2Seq problems.\n",
    "    \n",
    "    Strings in the input and output targets will be broken up by spaces\n",
    "    \"\"\"\n",
    "\n",
    "    def __init__(self, lang_pairs, word2indx):\n",
    "        \"\"\"\n",
    "        lang_pairs: a List[Tuple[String,String]] containing the source,target pairs for a Seq2Seq problem. \n",
    "        word2indx: a Map[String,Int] that converts each word in an input string into a unique ID. \n",
    "        \"\"\"\n",
    "        self.lang_pairs = lang_pairs\n",
    "        self.word2indx = word2indx\n",
    "\n",
    "    def __len__(self):\n",
    "        return len(self.lang_pairs)\n",
    "\n",
    "    def __getitem__(self, idx):\n",
    "        x, y = self.lang_pairs[idx]\n",
    "        x = SOS_token + \" \" + x + \" \" + EOS_token\n",
    "        y = y + \" \" + EOS_token\n",
    "        \n",
    "        #convert to lists of integers\n",
    "        x = [self.word2indx[w] for w in x.split(\" \")]\n",
    "        y = [self.word2indx[w] for w in y.split(\" \")]\n",
    "        \n",
    "        x = torch.tensor(x, dtype=torch.int64)\n",
    "        y = torch.tensor(y, dtype=torch.int64)\n",
    "        \n",
    "        return x, y\n",
    "bigdataset = TranslationDataset(short_subset, word2indx)"
   ]
  },
  {
   "cell_type": "code",
   "execution_count": 11,
   "metadata": {
    "ExecuteTime": {
     "end_time": "2021-04-02T02:39:20.561896Z",
     "start_time": "2021-04-02T02:39:20.557175Z"
    },
    "tags": [
     "remove_cell"
    ]
   },
   "outputs": [],
   "source": [
    "#Want a consistent dataset split\n",
    "set_seed(42)"
   ]
  },
  {
   "cell_type": "code",
   "execution_count": 12,
   "metadata": {
    "ExecuteTime": {
     "end_time": "2021-04-02T02:39:20.572512Z",
     "start_time": "2021-04-02T02:39:20.563126Z"
    }
   },
   "outputs": [],
   "source": [
    "train_size = round(len(bigdataset)*0.9)\n",
    "test_size = len(bigdataset)-train_size\n",
    "train_dataset, test_dataset = torch.utils.data.random_split(bigdataset, [train_size, test_size])\n",
    "\n",
    "def pad_batch(batch):\n",
    "    \"\"\"\n",
    "    Pad items in the batch to the length of the longest item in the batch\n",
    "    \"\"\"\n",
    "    #We actually have two different maxiumum lengths! The max length of the input sequences, and the max \n",
    "    #length of the output sequences. So we will determine each seperatly, and only pad the inputs/outputs\n",
    "    #by the exact amount we need\n",
    "    max_x = max([i[0].size(0) for i in batch])\n",
    "    max_y = max([i[1].size(0) for i in batch])\n",
    "    \n",
    "    PAD = word2indx[PAD_token]\n",
    "    \n",
    "    #We will use the F.pad function to pad each tensor to the right\n",
    "    X = [F.pad(i[0], (0,max_x-i[0].size(0)), value=PAD) for i in batch]\n",
    "    Y = [F.pad(i[1], (0,max_y-i[1].size(0)), value=PAD) for i in batch]\n",
    "    \n",
    "    X, Y = torch.stack(X), torch.stack(Y)\n",
    "    \n",
    "    return (X, Y), Y\n",
    "\n",
    "train_loader = DataLoader(train_dataset, batch_size=B, shuffle=True, collate_fn=pad_batch)\n",
    "test_loader = DataLoader(test_dataset, batch_size=B, collate_fn=pad_batch)"
   ]
  },
  {
   "cell_type": "code",
   "execution_count": 13,
   "metadata": {
    "ExecuteTime": {
     "end_time": "2021-04-02T02:39:20.586635Z",
     "start_time": "2021-04-02T02:39:20.573708Z"
    },
    "tags": [
     "remove_cell"
    ]
   },
   "outputs": [],
   "source": [
    "class Seq2SeqAttention(nn.Module):\n",
    "\n",
    "    def __init__(self, num_embeddings, embd_size, hidden_size, padding_idx=None, layers=1, max_decode_length=20):\n",
    "        super(Seq2SeqAttention, self).__init__()\n",
    "        self.padding_idx = padding_idx\n",
    "        self.hidden_size = hidden_size\n",
    "        self.embd = nn.Embedding(num_embeddings, embd_size, padding_idx=padding_idx)\n",
    "        \n",
    "        #We set the hidden size to half the intended length, because we will make the \n",
    "        #encoder bi-directional. That means we will get 2 hidden state representations\n",
    "        #which we will concatinate together, giving us the desired size!\n",
    "        self.encode_layers = nn.GRU(input_size=embd_size, hidden_size=hidden_size//2, \n",
    "                                       num_layers=layers, bidirectional=True)\n",
    "        #decoder will be uni-directionall, and we need to use CRUCells so that we can \n",
    "        #do the decoding one step at a time\n",
    "        self.decode_layers = nn.ModuleList([nn.GRUCell(embd_size, hidden_size)] + \n",
    "                                     [nn.GRUCell(hidden_size, hidden_size) for i in range(layers-1)])\n",
    "        self.score_net = DotScore(hidden_size)\n",
    "        #predict_word will be a small fully connected network that we use to convert the \n",
    "        #result of the attention mechanism and the local context into a prediction for \n",
    "        #the next word\n",
    "        self.predict_word = nn.Sequential(\n",
    "            nn.Linear(2*hidden_size, hidden_size),\n",
    "            nn.LeakyReLU(),\n",
    "            nn.LayerNorm(hidden_size),\n",
    "            nn.Linear(hidden_size, hidden_size),\n",
    "            nn.LeakyReLU(),\n",
    "            nn.LayerNorm(hidden_size),\n",
    "            nn.Linear(hidden_size, num_embeddings)\n",
    "        )\n",
    "        self.max_decode_length = max_decode_length\n",
    "        self.apply_attn = ApplyAttention()\n",
    "    \n",
    "    def forward(self, input):\n",
    "        #Input should be (B, T) or ((B, T), (B, T'))\n",
    "        if isinstance(input, tuple):\n",
    "            input, target = input\n",
    "        else:\n",
    "            target = None\n",
    "        #What is the batch size?\n",
    "        B = input.size(0)\n",
    "        #What is the max number of input time steps?\n",
    "        T = input.size(1)\n",
    "\n",
    "        x = self.embd(input) #(B, T, D)\n",
    "\n",
    "        #grab the device that the model currently resides on\n",
    "        #we will need this later \n",
    "        device = x.device\n",
    "\n",
    "        mask = getMaskByFill(x)\n",
    "\n",
    "        #We will use the mask to figure out how long \n",
    "        #each input sequence is\n",
    "        seq_lengths = mask.sum(dim=1).view(-1) #shape (B), containing the # of non-zero values\n",
    "        #the sequence lengths will be used to create a packed input for the encoder RNN\n",
    "        x_packed = pack_padded_sequence(x, seq_lengths.cpu(), batch_first=True, enforce_sorted=False)\n",
    "        h_encoded, h_last = self.encode_layers(x_packed)\n",
    "        h_encoded, _ = pad_packed_sequence(h_encoded) #(B, T, 2, D//2) , b/c its bidirectional\n",
    "        h_encoded = h_encoded.view(B, T, -1) #(B, T, D)\n",
    "        #now h_encoded is the result of running the encoder RNN on the input!\n",
    "\n",
    "\n",
    "        #getting the last hidden state is a little trickier\n",
    "        #first the output gets reshaped as (num_layers, directions, batch_size, hidden_size)\n",
    "        #and then we grab the last index in the first dimension, because we want the \n",
    "        #last layer's output\n",
    "        hidden_size = h_encoded.size(2) \n",
    "        h_last = h_last.view(-1, 2, B, hidden_size//2)[-1,:,:,:] #shape is now (2, B, D/2)\n",
    "        #now we will reorder to (B, 2, D/2), and flatten the last two dimensions down to (B, D)\n",
    "        h_last = h_last.permute(1, 0, 2).reshape(B, -1)\n",
    "        \n",
    "        \n",
    "        #End of Encoding portion. h_encoded now contains the representation of the input data!\n",
    "        #h_last has the final ouputs of the RNN, to use as the initial input state for the decoder\n",
    "        \n",
    "        #The first input to the decoder will be the output of the last encoder step\n",
    "        #decoder_input = h_last\n",
    "        \n",
    "        # new hidden states for decoders\n",
    "        h_prevs = [h_last for l in range(len(self.decode_layers))]\n",
    "\n",
    "        #We will save all the attention mechanism results for visualization later!\n",
    "        all_attentions = []\n",
    "        all_predictions = []\n",
    "\n",
    "        #Grab the last item from the input (which should be an EOS marker)\n",
    "        #as the first input for the decoder\n",
    "        #We could also hard-code the SOS marker instead\n",
    "        decoder_input = self.embd(input.gather(1,seq_lengths.view(-1,1)-1).flatten()) #(B, D)\n",
    "\n",
    "        #How many decoding steps should we do?\n",
    "        steps = min(self.max_decode_length, T)\n",
    "        #If we are training, the target values tells us exactly\n",
    "        #how many steps to take\n",
    "        if target is not None: #We know the exact decode length!\n",
    "            steps = target.size(1)\n",
    "        \n",
    "        #Do we use teacher forcing (true) or auto-regressive (false)\n",
    "        teacher_forcing = np.random.choice((True,False))\n",
    "        for t in range(steps):\n",
    "            x_in = decoder_input #(B, D)\n",
    "\n",
    "            for l in range(len(self.decode_layers)):\n",
    "                h_prev = h_prevs[l] \n",
    "                h = self.decode_layers[l](x_in, h_prev)\n",
    "\n",
    "                h_prevs[l] = h\n",
    "                x_in = h\n",
    "            h_decoder = x_in #(B, D), we now have the hidden state for the decoder at this time step\n",
    "\n",
    "            #This is the attention mechanism, lets look at all the previous encoded states and \n",
    "            #see which look relevant\n",
    "\n",
    "            scores = self.score_net(h_encoded, h_decoder) #(B, T, 1)\n",
    "            context, weights = self.apply_attn(h_encoded, scores, mask=mask)\n",
    "\n",
    "            #save the attention weights for visualization later\n",
    "            all_attentions.append( weights.detach() ) #we are detaching the weights because we \n",
    "            #do not want to compute anything with them anymore, we just want to save their \n",
    "            #values to make visualizations\n",
    "\n",
    "            #Now lets compute the final representation by concatinating the \n",
    "            #attention result and the initial context\n",
    "            word_pred = torch.cat((context, h_decoder), dim=1) #(B, D) + (B, D)  -> (B, 2*D)\n",
    "            #and get a prediction about what the next token is by pushing it\n",
    "            #through a small fully-connected network\n",
    "            word_pred = self.predict_word(word_pred) #(B, 2*D) -> (B, V)\n",
    "            all_predictions.append(word_pred)\n",
    "    \n",
    "            #Now we have $\\hat{y}_t$! we need to select the input for the next\n",
    "            #time step. We use torch.no_grad() because the gradient will \n",
    "            #carry through the hidden states of the RNN, not the input tokens\n",
    "            with torch.no_grad():\n",
    "                if self.training:\n",
    "                    if target is not None and teacher_forcing:\n",
    "                        #We have the target and selected teacher forcing, so use the\n",
    "                        #correct next answer\n",
    "                        next_words = target[:,t].squeeze()\n",
    "                    else:\n",
    "                        #Sample the next token based on the predictions made\n",
    "                        next_words = torch.multinomial(F.softmax(word_pred, dim=1), 1)[:,-1]\n",
    "                else:\n",
    "                    #we are trying to make an actual prediction, so take the most likely word\n",
    "                    #we could improve this by using temperature and sampling like we did \n",
    "                    #for the CharRNN model!\n",
    "                    next_words = torch.argmax(word_pred, dim=1)\n",
    "            #end of torch.no_grad()\n",
    "            \n",
    "            #We've decided what the next tokens are, we are back to using\n",
    "            #the gradient calculation so that the embedding layer is adjusted\n",
    "            #appropriately during training. \n",
    "            decoder_input = self.embd(next_words.to(device))\n",
    "    \n",
    "        #done decoding!\n",
    "        if self.training: #When training, only the predictions are important\n",
    "            return torch.stack(all_predictions, dim=1)\n",
    "        else:#When evaluatin, we also want to look at the attention weights\n",
    "            return torch.stack(all_predictions, dim=1), torch.stack(all_attentions, dim=1).squeeze()"
   ]
  },
  {
   "cell_type": "code",
   "execution_count": 14,
   "metadata": {
    "ExecuteTime": {
     "end_time": "2021-04-02T02:39:20.592283Z",
     "start_time": "2021-04-02T02:39:20.587774Z"
    },
    "tags": [
     "remove_cell"
    ]
   },
   "outputs": [],
   "source": [
    "set_seed(42)"
   ]
  },
  {
   "cell_type": "code",
   "execution_count": 15,
   "metadata": {
    "ExecuteTime": {
     "end_time": "2021-04-02T02:39:20.667146Z",
     "start_time": "2021-04-02T02:39:20.593411Z"
    }
   },
   "outputs": [],
   "source": [
    "epochs = 20\n",
    "seq2seq = Seq2SeqAttention(len(word2indx), 64, 256, padding_idx=word2indx[PAD_token], layers=3, max_decode_length=MAX_LEN+2)\n",
    "for p in seq2seq.parameters():\n",
    "    p.register_hook(lambda grad: torch.clamp(grad, -10, 10))"
   ]
  },
  {
   "cell_type": "code",
   "execution_count": 16,
   "metadata": {
    "ExecuteTime": {
     "end_time": "2021-04-02T02:39:20.671422Z",
     "start_time": "2021-04-02T02:39:20.668372Z"
    }
   },
   "outputs": [],
   "source": [
    "def CrossEntLossTime(x, y):\n",
    "    \"\"\"\n",
    "    x: output with shape (B, T, V)\n",
    "    y: labels with shape (B, T')\n",
    "    \n",
    "    \"\"\"\n",
    "    if isinstance(x, tuple):\n",
    "        x, _ = x\n",
    "    #We do not want to compute a loss for items that have been padded out!\n",
    "    cel = nn.CrossEntropyLoss(ignore_index=word2indx[PAD_token])\n",
    "    T = min(x.size(1), y.size(1))\n",
    "    \n",
    "    loss = 0\n",
    "    for t in range(T):\n",
    "        loss += cel(x[:,t,:], y[:,t])\n",
    "    return loss"
   ]
  },
  {
   "cell_type": "code",
   "execution_count": 17,
   "metadata": {
    "ExecuteTime": {
     "end_time": "2021-04-02T02:49:02.771218Z",
     "start_time": "2021-04-02T02:39:20.672587Z"
    },
    "tags": [
     "remove_output"
    ]
   },
   "outputs": [
    {
     "data": {
      "application/vnd.jupyter.widget-view+json": {
       "model_id": "202e44794cb44d2485879cfaebfc5601",
       "version_major": 2,
       "version_minor": 0
      },
      "text/plain": [
       "HBox(children=(HTML(value='Epoch'), FloatProgress(value=0.0, max=20.0), HTML(value='')))"
      ]
     },
     "metadata": {},
     "output_type": "display_data"
    },
    {
     "data": {
      "application/vnd.jupyter.widget-view+json": {
       "model_id": "",
       "version_major": 2,
       "version_minor": 0
      },
      "text/plain": [
       "HBox(children=(HTML(value='Training'), FloatProgress(value=0.0, max=466.0), HTML(value='')))"
      ]
     },
     "metadata": {},
     "output_type": "display_data"
    },
    {
     "data": {
      "application/vnd.jupyter.widget-view+json": {
       "model_id": "",
       "version_major": 2,
       "version_minor": 0
      },
      "text/plain": [
       "HBox(children=(HTML(value='Training'), FloatProgress(value=0.0, max=466.0), HTML(value='')))"
      ]
     },
     "metadata": {},
     "output_type": "display_data"
    },
    {
     "data": {
      "application/vnd.jupyter.widget-view+json": {
       "model_id": "",
       "version_major": 2,
       "version_minor": 0
      },
      "text/plain": [
       "HBox(children=(HTML(value='Training'), FloatProgress(value=0.0, max=466.0), HTML(value='')))"
      ]
     },
     "metadata": {},
     "output_type": "display_data"
    },
    {
     "data": {
      "application/vnd.jupyter.widget-view+json": {
       "model_id": "",
       "version_major": 2,
       "version_minor": 0
      },
      "text/plain": [
       "HBox(children=(HTML(value='Training'), FloatProgress(value=0.0, max=466.0), HTML(value='')))"
      ]
     },
     "metadata": {},
     "output_type": "display_data"
    },
    {
     "data": {
      "application/vnd.jupyter.widget-view+json": {
       "model_id": "",
       "version_major": 2,
       "version_minor": 0
      },
      "text/plain": [
       "HBox(children=(HTML(value='Training'), FloatProgress(value=0.0, max=466.0), HTML(value='')))"
      ]
     },
     "metadata": {},
     "output_type": "display_data"
    },
    {
     "data": {
      "application/vnd.jupyter.widget-view+json": {
       "model_id": "",
       "version_major": 2,
       "version_minor": 0
      },
      "text/plain": [
       "HBox(children=(HTML(value='Training'), FloatProgress(value=0.0, max=466.0), HTML(value='')))"
      ]
     },
     "metadata": {},
     "output_type": "display_data"
    },
    {
     "data": {
      "application/vnd.jupyter.widget-view+json": {
       "model_id": "",
       "version_major": 2,
       "version_minor": 0
      },
      "text/plain": [
       "HBox(children=(HTML(value='Training'), FloatProgress(value=0.0, max=466.0), HTML(value='')))"
      ]
     },
     "metadata": {},
     "output_type": "display_data"
    },
    {
     "data": {
      "application/vnd.jupyter.widget-view+json": {
       "model_id": "",
       "version_major": 2,
       "version_minor": 0
      },
      "text/plain": [
       "HBox(children=(HTML(value='Training'), FloatProgress(value=0.0, max=466.0), HTML(value='')))"
      ]
     },
     "metadata": {},
     "output_type": "display_data"
    },
    {
     "data": {
      "application/vnd.jupyter.widget-view+json": {
       "model_id": "",
       "version_major": 2,
       "version_minor": 0
      },
      "text/plain": [
       "HBox(children=(HTML(value='Training'), FloatProgress(value=0.0, max=466.0), HTML(value='')))"
      ]
     },
     "metadata": {},
     "output_type": "display_data"
    },
    {
     "data": {
      "application/vnd.jupyter.widget-view+json": {
       "model_id": "",
       "version_major": 2,
       "version_minor": 0
      },
      "text/plain": [
       "HBox(children=(HTML(value='Training'), FloatProgress(value=0.0, max=466.0), HTML(value='')))"
      ]
     },
     "metadata": {},
     "output_type": "display_data"
    },
    {
     "data": {
      "application/vnd.jupyter.widget-view+json": {
       "model_id": "",
       "version_major": 2,
       "version_minor": 0
      },
      "text/plain": [
       "HBox(children=(HTML(value='Training'), FloatProgress(value=0.0, max=466.0), HTML(value='')))"
      ]
     },
     "metadata": {},
     "output_type": "display_data"
    },
    {
     "data": {
      "application/vnd.jupyter.widget-view+json": {
       "model_id": "",
       "version_major": 2,
       "version_minor": 0
      },
      "text/plain": [
       "HBox(children=(HTML(value='Training'), FloatProgress(value=0.0, max=466.0), HTML(value='')))"
      ]
     },
     "metadata": {},
     "output_type": "display_data"
    },
    {
     "data": {
      "application/vnd.jupyter.widget-view+json": {
       "model_id": "",
       "version_major": 2,
       "version_minor": 0
      },
      "text/plain": [
       "HBox(children=(HTML(value='Training'), FloatProgress(value=0.0, max=466.0), HTML(value='')))"
      ]
     },
     "metadata": {},
     "output_type": "display_data"
    },
    {
     "data": {
      "application/vnd.jupyter.widget-view+json": {
       "model_id": "",
       "version_major": 2,
       "version_minor": 0
      },
      "text/plain": [
       "HBox(children=(HTML(value='Training'), FloatProgress(value=0.0, max=466.0), HTML(value='')))"
      ]
     },
     "metadata": {},
     "output_type": "display_data"
    },
    {
     "data": {
      "application/vnd.jupyter.widget-view+json": {
       "model_id": "",
       "version_major": 2,
       "version_minor": 0
      },
      "text/plain": [
       "HBox(children=(HTML(value='Training'), FloatProgress(value=0.0, max=466.0), HTML(value='')))"
      ]
     },
     "metadata": {},
     "output_type": "display_data"
    },
    {
     "data": {
      "application/vnd.jupyter.widget-view+json": {
       "model_id": "",
       "version_major": 2,
       "version_minor": 0
      },
      "text/plain": [
       "HBox(children=(HTML(value='Training'), FloatProgress(value=0.0, max=466.0), HTML(value='')))"
      ]
     },
     "metadata": {},
     "output_type": "display_data"
    },
    {
     "data": {
      "application/vnd.jupyter.widget-view+json": {
       "model_id": "",
       "version_major": 2,
       "version_minor": 0
      },
      "text/plain": [
       "HBox(children=(HTML(value='Training'), FloatProgress(value=0.0, max=466.0), HTML(value='')))"
      ]
     },
     "metadata": {},
     "output_type": "display_data"
    },
    {
     "data": {
      "application/vnd.jupyter.widget-view+json": {
       "model_id": "",
       "version_major": 2,
       "version_minor": 0
      },
      "text/plain": [
       "HBox(children=(HTML(value='Training'), FloatProgress(value=0.0, max=466.0), HTML(value='')))"
      ]
     },
     "metadata": {},
     "output_type": "display_data"
    },
    {
     "data": {
      "application/vnd.jupyter.widget-view+json": {
       "model_id": "",
       "version_major": 2,
       "version_minor": 0
      },
      "text/plain": [
       "HBox(children=(HTML(value='Training'), FloatProgress(value=0.0, max=466.0), HTML(value='')))"
      ]
     },
     "metadata": {},
     "output_type": "display_data"
    },
    {
     "data": {
      "application/vnd.jupyter.widget-view+json": {
       "model_id": "",
       "version_major": 2,
       "version_minor": 0
      },
      "text/plain": [
       "HBox(children=(HTML(value='Training'), FloatProgress(value=0.0, max=466.0), HTML(value='')))"
      ]
     },
     "metadata": {},
     "output_type": "display_data"
    },
    {
     "name": "stdout",
     "output_type": "stream",
     "text": [
      "\n"
     ]
    }
   ],
   "source": [
    "seq2seq_results = train_network(seq2seq, CrossEntLossTime, train_loader,epochs=epochs, device=device)"
   ]
  },
  {
   "cell_type": "code",
   "execution_count": 18,
   "metadata": {
    "ExecuteTime": {
     "end_time": "2021-04-02T02:49:03.022473Z",
     "start_time": "2021-04-02T02:49:02.772787Z"
    }
   },
   "outputs": [
    {
     "data": {
      "text/plain": [
       "<AxesSubplot:xlabel='epoch', ylabel='train loss'>"
      ]
     },
     "execution_count": 18,
     "metadata": {},
     "output_type": "execute_result"
    },
    {
     "data": {
      "application/pdf": "[encoded data removed]",
      "image/png": "[encoded data removed]",
      "text/plain": [
       "<Figure size 432x288 with 1 Axes>"
      ]
     },
     "metadata": {
      "needs_background": "light"
     },
     "output_type": "display_data"
    }
   ],
   "source": [
    "sns.lineplot(x='epoch', y='train loss', data=seq2seq_results, label='Seq2Seq')"
   ]
  },
  {
   "cell_type": "code",
   "execution_count": 19,
   "metadata": {
    "ExecuteTime": {
     "end_time": "2021-04-02T02:49:03.028281Z",
     "start_time": "2021-04-02T02:49:03.023936Z"
    }
   },
   "outputs": [],
   "source": [
    "def plot_heatmap(src, trg, scores):\n",
    "    fig, ax = plt.subplots()\n",
    "    heatmap = ax.pcolor(scores, cmap='gray')\n",
    "\n",
    "    ax.set_xticklabels(trg, minor=False, rotation='vertical')\n",
    "    ax.set_yticklabels(src, minor=False)\n",
    "\n",
    "    # put the major ticks at the middle of each cell\n",
    "    # and the x-ticks on top\n",
    "    ax.xaxis.tick_top()\n",
    "    ax.set_xticks(np.arange(scores.shape[1]) + 0.5, minor=False)\n",
    "    ax.set_yticks(np.arange(scores.shape[0]) + 0.5, minor=False)\n",
    "    ax.invert_yaxis()\n",
    "\n",
    "    plt.colorbar(heatmap)\n",
    "    plt.show()"
   ]
  },
  {
   "cell_type": "code",
   "execution_count": 20,
   "metadata": {
    "ExecuteTime": {
     "end_time": "2021-04-02T02:49:03.073143Z",
     "start_time": "2021-04-02T02:49:03.029730Z"
    }
   },
   "outputs": [],
   "source": [
    "seq2seq = seq2seq.eval().cpu()\n",
    "def results(indx):\n",
    "    eng_x, french_y = test_dataset[indx]\n",
    "    eng_str = \" \".join([indx2word[i] for i in eng_x.cpu().numpy()])\n",
    "    french_str = \" \".join([indx2word[i] for i in french_y.cpu().numpy()])\n",
    "    print(\"Input:     \", eng_str)\n",
    "    print(\"Target:    \", french_str)\n",
    "    \n",
    "    with torch.no_grad():\n",
    "        preds, attention = seq2seq(eng_x.unsqueeze(0))\n",
    "        p = torch.argmax(preds, dim=2)\n",
    "    pred_str = \" \".join([indx2word[i] for i in p[0,:].cpu().numpy()])\n",
    "    print(\"Predicted: \", pred_str)\n",
    "    plot_heatmap(eng_str.split(\" \"), pred_str.split(\" \"), attention.T.cpu().numpy())"
   ]
  },
  {
   "cell_type": "code",
   "execution_count": 21,
   "metadata": {
    "ExecuteTime": {
     "end_time": "2021-04-02T02:49:03.431726Z",
     "start_time": "2021-04-02T02:49:03.074711Z"
    }
   },
   "outputs": [
    {
     "name": "stdout",
     "output_type": "stream",
     "text": [
      "Input:      <SOS> some animals are afraid of fire <EOS>\n",
      "Target:     certains animaux craignent le feu <EOS>\n",
      "Predicted:  les animaux ont peur du feu <EOS> <EOS>\n"
     ]
    },
    {
     "name": "stderr",
     "output_type": "stream",
     "text": [
      "/home/edraff/anaconda3/lib/python3.7/site-packages/ipykernel_launcher.py:5: UserWarning: FixedFormatter should only be used together with FixedLocator\n",
      "  \"\"\"\n",
      "/home/edraff/anaconda3/lib/python3.7/site-packages/ipykernel_launcher.py:6: UserWarning: FixedFormatter should only be used together with FixedLocator\n",
      "  \n"
     ]
    },
    {
     "data": {
      "application/pdf": "[encoded data removed]",
      "image/png": "[encoded data removed]",
      "text/plain": [
       "<Figure size 432x288 with 2 Axes>"
      ]
     },
     "metadata": {
      "needs_background": "light"
     },
     "output_type": "display_data"
    }
   ],
   "source": [
    "results(12) "
   ]
  },
  {
   "cell_type": "code",
   "execution_count": 22,
   "metadata": {
    "ExecuteTime": {
     "end_time": "2021-04-02T02:49:03.779389Z",
     "start_time": "2021-04-02T02:49:03.433053Z"
    }
   },
   "outputs": [
    {
     "name": "stdout",
     "output_type": "stream",
     "text": [
      "Input:      <SOS> what is the weather like today <EOS>\n",
      "Target:     comment est le temps aujourd'hui <EOS>\n",
      "Predicted:  quel temps fait il aujourd'hui <EOS> <EOS> <EOS>\n"
     ]
    },
    {
     "name": "stderr",
     "output_type": "stream",
     "text": [
      "/home/edraff/anaconda3/lib/python3.7/site-packages/ipykernel_launcher.py:5: UserWarning: FixedFormatter should only be used together with FixedLocator\n",
      "  \"\"\"\n",
      "/home/edraff/anaconda3/lib/python3.7/site-packages/ipykernel_launcher.py:6: UserWarning: FixedFormatter should only be used together with FixedLocator\n",
      "  \n"
     ]
    },
    {
     "data": {
      "application/pdf": "[encoded data removed]",
      "image/png": "[encoded data removed]",
      "text/plain": [
       "<Figure size 432x288 with 2 Axes>"
      ]
     },
     "metadata": {
      "needs_background": "light"
     },
     "output_type": "display_data"
    }
   ],
   "source": [
    "results(13) "
   ]
  },
  {
   "cell_type": "code",
   "execution_count": 23,
   "metadata": {
    "ExecuteTime": {
     "end_time": "2021-04-02T02:49:04.114861Z",
     "start_time": "2021-04-02T02:49:03.780582Z"
    }
   },
   "outputs": [
    {
     "name": "stdout",
     "output_type": "stream",
     "text": [
      "Input:      <SOS> no one disagreed <EOS>\n",
      "Target:     personne ne fut en désaccord <EOS>\n",
      "Predicted:  personne n'exprima de désaccord <EOS>\n"
     ]
    },
    {
     "name": "stderr",
     "output_type": "stream",
     "text": [
      "/home/edraff/anaconda3/lib/python3.7/site-packages/ipykernel_launcher.py:5: UserWarning: FixedFormatter should only be used together with FixedLocator\n",
      "  \"\"\"\n",
      "/home/edraff/anaconda3/lib/python3.7/site-packages/ipykernel_launcher.py:6: UserWarning: FixedFormatter should only be used together with FixedLocator\n",
      "  \n"
     ]
    },
    {
     "data": {
      "application/pdf": "[encoded data removed]",
      "image/png": "[encoded data removed]",
      "text/plain": [
       "<Figure size 432x288 with 2 Axes>"
      ]
     },
     "metadata": {
      "needs_background": "light"
     },
     "output_type": "display_data"
    }
   ],
   "source": [
    "results(16) "
   ]
  }
 ],
 "metadata": {
  "author": "BLUE About Validation Loss?",
  "celltoolbar": "Tags",
  "kernelspec": {
   "display_name": "Python 3",
   "language": "python",
   "name": "python3"
  },
  "language_info": {
   "codemirror_mode": {
    "name": "ipython",
    "version": 3
   },
   "file_extension": ".py",
   "mimetype": "text/x-python",
   "name": "python",
   "nbconvert_exporter": "python",
   "pygments_lexer": "ipython3",
   "version": "3.7.9"
  },
  "latex_envs": {
   "LaTeX_envs_menu_present": true,
   "autoclose": false,
   "autocomplete": false,
   "bibliofile": "biblio.bib",
   "cite_by": "apalike",
   "current_citInitial": 1,
   "eqLabelWithNumbers": true,
   "eqNumInitial": 1,
   "hotkeys": {
    "equation": "Ctrl-E",
    "itemize": "Ctrl-I"
   },
   "labels_anchors": false,
   "latex_user_defs": false,
   "report_style_numbering": false,
   "user_envs_cfg": false
  },
  "latex_metadata": {
   "title": "Sequence to Sequence"
  },
  "varInspector": {
   "cols": {
    "lenName": 16,
    "lenType": 16,
    "lenVar": 40
   },
   "kernels_config": {
    "python": {
     "delete_cmd_postfix": "",
     "delete_cmd_prefix": "del ",
     "library": "var_list.py",
     "varRefreshCmd": "print(var_dic_list())"
    },
    "r": {
     "delete_cmd_postfix": ") ",
     "delete_cmd_prefix": "rm(",
     "library": "var_list.r",
     "varRefreshCmd": "cat(var_dic_list()) "
    }
   },
   "types_to_exclude": [
    "module",
    "function",
    "builtin_function_or_method",
    "instance",
    "_Feature"
   ],
   "window_display": false
  }
 },
 "nbformat": 4,
 "nbformat_minor": 2
}
